{
 "cells": [
  {
   "cell_type": "markdown",
   "metadata": {},
   "source": [
    "# Fake News Classification Data"
   ]
  },
  {
   "cell_type": "markdown",
   "metadata": {},
   "source": [
    "This data was taken from the Kaggle dataset linked below. It consists of 2 datasets of news stories (totalling around 45,000 articles) - one from real,reputable news sources and the other from 'fake news' sources.\n",
    "\n",
    "The objective is to correctly classify whether an article is fake or not, by training classification models on the target variable (defined by which dataset the article came from).\n",
    "\n",
    "https://www.kaggle.com/clmentbisaillon/fake-and-real-news-dataset"
   ]
  },
  {
   "cell_type": "code",
   "execution_count": 70,
   "metadata": {},
   "outputs": [],
   "source": [
    "import pandas as pd\n",
    "import numpy as np\n",
    "import math\n",
    "import datetime\n",
    "import calendar\n",
    "import string\n",
    "import matplotlib.pyplot as plt\n",
    "import seaborn as sns\n",
    "%matplotlib inline\n",
    "\n",
    "import chart_studio.plotly as py\n",
    "\n",
    "from sklearn.model_selection import train_test_split\n",
    "from sklearn.feature_extraction.text import CountVectorizer\n",
    "from sklearn.feature_extraction.text import  TfidfTransformer\n",
    "import nltk\n",
    "from nltk.corpus import stopwords\n",
    "import re\n",
    "from sklearn.naive_bayes import MultinomialNB\n",
    "from sklearn.ensemble import RandomForestClassifier\n",
    "from sklearn.pipeline import Pipeline\n",
    "\n",
    "from sklearn import metrics\n",
    "from sklearn.metrics import classification_report\n",
    "from sklearn.metrics import accuracy_score\n",
    "from sklearn.metrics import confusion_matrix"
   ]
  },
  {
   "cell_type": "code",
   "execution_count": 2,
   "metadata": {},
   "outputs": [
    {
     "data": {
      "text/html": [
       "<div>\n",
       "<style scoped>\n",
       "    .dataframe tbody tr th:only-of-type {\n",
       "        vertical-align: middle;\n",
       "    }\n",
       "\n",
       "    .dataframe tbody tr th {\n",
       "        vertical-align: top;\n",
       "    }\n",
       "\n",
       "    .dataframe thead th {\n",
       "        text-align: right;\n",
       "    }\n",
       "</style>\n",
       "<table border=\"1\" class=\"dataframe\">\n",
       "  <thead>\n",
       "    <tr style=\"text-align: right;\">\n",
       "      <th></th>\n",
       "      <th>title</th>\n",
       "      <th>text</th>\n",
       "      <th>subject</th>\n",
       "      <th>date</th>\n",
       "      <th>IsFake</th>\n",
       "    </tr>\n",
       "  </thead>\n",
       "  <tbody>\n",
       "    <tr>\n",
       "      <th>0</th>\n",
       "      <td>As U.S. budget fight looms, Republicans flip t...</td>\n",
       "      <td>WASHINGTON (Reuters) - The head of a conservat...</td>\n",
       "      <td>politicsNews</td>\n",
       "      <td>December 31, 2017</td>\n",
       "      <td>0</td>\n",
       "    </tr>\n",
       "    <tr>\n",
       "      <th>1</th>\n",
       "      <td>U.S. military to accept transgender recruits o...</td>\n",
       "      <td>WASHINGTON (Reuters) - Transgender people will...</td>\n",
       "      <td>politicsNews</td>\n",
       "      <td>December 29, 2017</td>\n",
       "      <td>0</td>\n",
       "    </tr>\n",
       "    <tr>\n",
       "      <th>2</th>\n",
       "      <td>Senior U.S. Republican senator: 'Let Mr. Muell...</td>\n",
       "      <td>WASHINGTON (Reuters) - The special counsel inv...</td>\n",
       "      <td>politicsNews</td>\n",
       "      <td>December 31, 2017</td>\n",
       "      <td>0</td>\n",
       "    </tr>\n",
       "    <tr>\n",
       "      <th>3</th>\n",
       "      <td>FBI Russia probe helped by Australian diplomat...</td>\n",
       "      <td>WASHINGTON (Reuters) - Trump campaign adviser ...</td>\n",
       "      <td>politicsNews</td>\n",
       "      <td>December 30, 2017</td>\n",
       "      <td>0</td>\n",
       "    </tr>\n",
       "    <tr>\n",
       "      <th>4</th>\n",
       "      <td>Trump wants Postal Service to charge 'much mor...</td>\n",
       "      <td>SEATTLE/WASHINGTON (Reuters) - President Donal...</td>\n",
       "      <td>politicsNews</td>\n",
       "      <td>December 29, 2017</td>\n",
       "      <td>0</td>\n",
       "    </tr>\n",
       "  </tbody>\n",
       "</table>\n",
       "</div>"
      ],
      "text/plain": [
       "                                               title  \\\n",
       "0  As U.S. budget fight looms, Republicans flip t...   \n",
       "1  U.S. military to accept transgender recruits o...   \n",
       "2  Senior U.S. Republican senator: 'Let Mr. Muell...   \n",
       "3  FBI Russia probe helped by Australian diplomat...   \n",
       "4  Trump wants Postal Service to charge 'much mor...   \n",
       "\n",
       "                                                text       subject  \\\n",
       "0  WASHINGTON (Reuters) - The head of a conservat...  politicsNews   \n",
       "1  WASHINGTON (Reuters) - Transgender people will...  politicsNews   \n",
       "2  WASHINGTON (Reuters) - The special counsel inv...  politicsNews   \n",
       "3  WASHINGTON (Reuters) - Trump campaign adviser ...  politicsNews   \n",
       "4  SEATTLE/WASHINGTON (Reuters) - President Donal...  politicsNews   \n",
       "\n",
       "                 date  IsFake  \n",
       "0  December 31, 2017        0  \n",
       "1  December 29, 2017        0  \n",
       "2  December 31, 2017        0  \n",
       "3  December 30, 2017        0  \n",
       "4  December 29, 2017        0  "
      ]
     },
     "execution_count": 2,
     "metadata": {},
     "output_type": "execute_result"
    }
   ],
   "source": [
    "fake_news=pd.read_csv('Fake.csv')\n",
    "fake_news['IsFake']=1\n",
    "\n",
    "real_news=pd.read_csv('True.csv')\n",
    "real_news['IsFake']=0\n",
    "\n",
    "news_data=real_news.append(fake_news)\n",
    "news_data.head()"
   ]
  },
  {
   "cell_type": "code",
   "execution_count": 3,
   "metadata": {},
   "outputs": [
    {
     "data": {
      "text/plain": [
       "1    23481\n",
       "0    21417\n",
       "Name: IsFake, dtype: int64"
      ]
     },
     "execution_count": 3,
     "metadata": {},
     "output_type": "execute_result"
    }
   ],
   "source": [
    "news_data['IsFake'].value_counts()"
   ]
  },
  {
   "cell_type": "markdown",
   "metadata": {},
   "source": [
    "It seems like the dataset is  split relatively evenly between fake and real news - we shouldn't have to do any resampling as the classes are balanced"
   ]
  },
  {
   "cell_type": "markdown",
   "metadata": {},
   "source": [
    "# Data Cleaning"
   ]
  },
  {
   "cell_type": "markdown",
   "metadata": {},
   "source": [
    "#### Remove duplicates"
   ]
  },
  {
   "cell_type": "code",
   "execution_count": 3,
   "metadata": {},
   "outputs": [
    {
     "name": "stdout",
     "output_type": "stream",
     "text": [
      "Number of records:  44898\n",
      "209 records with identical data removed\n",
      "Number of records after removing duplicates:  44689\n"
     ]
    }
   ],
   "source": [
    "initial_no=news_data.shape[0]\n",
    "print(\"Number of records: \",initial_no)\n",
    "news_data.drop_duplicates(inplace=True)\n",
    "print(initial_no-news_data.shape[0],\"records with identical data removed\")\n",
    "print(\"Number of records after removing duplicates: \",news_data.shape[0])"
   ]
  },
  {
   "cell_type": "markdown",
   "metadata": {},
   "source": [
    "#### Check if there are any exact duplicate articles that are flagged as fake and real"
   ]
  },
  {
   "cell_type": "code",
   "execution_count": 5,
   "metadata": {},
   "outputs": [
    {
     "data": {
      "text/html": [
       "<div>\n",
       "<style scoped>\n",
       "    .dataframe tbody tr th:only-of-type {\n",
       "        vertical-align: middle;\n",
       "    }\n",
       "\n",
       "    .dataframe tbody tr th {\n",
       "        vertical-align: top;\n",
       "    }\n",
       "\n",
       "    .dataframe thead th {\n",
       "        text-align: right;\n",
       "    }\n",
       "</style>\n",
       "<table border=\"1\" class=\"dataframe\">\n",
       "  <thead>\n",
       "    <tr style=\"text-align: right;\">\n",
       "      <th></th>\n",
       "      <th>IsFake</th>\n",
       "    </tr>\n",
       "    <tr>\n",
       "      <th>text</th>\n",
       "      <th></th>\n",
       "    </tr>\n",
       "  </thead>\n",
       "  <tbody>\n",
       "    <tr>\n",
       "      <th></th>\n",
       "      <td>2</td>\n",
       "    </tr>\n",
       "    <tr>\n",
       "      <th>TAIPEI (Reuters) - Taiwan s government said on Wednesday that it was  absolutely  the right of Taiwan s 23 million people to decide their future, after Chinese President Xi Jinping said any attempt to separate the island from China would be thwarted. The perpetration of Taiwan s democratic system is a core value of Taiwan s, the Mainland Affairs Council said in reaction to Xi s speech. China considers democratic and self-ruled Taiwan to be a wayward province, to be brought under Beijing s control by force if necessary.</th>\n",
       "      <td>1</td>\n",
       "    </tr>\n",
       "    <tr>\n",
       "      <th>TAIPEI (Reuters) - Taiwan said its environment minister has been prevented from attending an annual U.N. climate meeting even with credentials as a non-governmental participant due to pressure from China. It represents the latest case of self-ruled Taiwan not being able to take part in an international event because of opposition from China, which objects to the island it claims under its  one-China  stand being accorded anything akin to the status of an independent state. Environmental protection agency minister Lee Ying-yuan had hoped to attend a U.N. climate change meeting in Bonn, Germany, the island s foreign ministry said in a statement late on Monday.  Due to China s interventions, environmental protection minister Lee was unable to enter the UNFCCC meeting,  it said, referring to the U.N. Framework Convention on Climate Change. Relations between Beijing and Taipei have nosedived since  Tsai Ing-wen was elected the island s president last year. China believes she wants formal independence for Taiwan, a red line for Beijing. Tsai says she wants to maintain peace with China but will defend Taiwan s democracy and security. Taiwan s foreign ministry spokesman, Andrew H.C. Lee, told a news conference in Taipei the president believed climate change was an important issue and the island would endeavor to take part in international meetings to address it. In Beijing, Chinese Foreign Ministry spokesman Geng Shuang said China s position was very clear.  On the matter of Taiwan participating in international events, China s position is very clear; that is, it must comply with the One China principle,  Geng told reporters, without elaborating. Organizers of the event in Bonn where were not immediately available for comment. Since 2009, when Taiwan announced its intention to participate in U.N. climate change meetings, the government has helped officials get credentials for talks as non-governmental observers to attend the international meeting. Taiwan participated last year with a lower-level delegation. Taiwan is not a member of the United Nations, having lost the seat it held in China s name in 1971 when the Communist government in Beijing assumed the position. Under the previous Taiwan administration of the China-friendly President Ma Ying-jeou, Beijing let Taiwan attend some U.N.-related events, including getting observer access at the annual U.N. World Health Assembly meeting in Geneva. This year, Taiwan was shut out of the health assembly, which the island also said was due to China s coercion and threats. China has previously blamed Taiwan for its exclusion from international events, saying it is due to Taipei s refusal to accept the  one China  principle. Nationalist forces, defeated by the Communists, fled to Taiwan at the end of the Chinese civil war in 1949.</th>\n",
       "      <td>1</td>\n",
       "    </tr>\n",
       "    <tr>\n",
       "      <th>TAIPEI (Reuters) - Taiwan will allow visa-free entry for visitors from the Philippines in hopes that the Southeast Asian nation will reciprocate the gesture, a spokesman for the self-ruled island s cabinet said on Thursday.  Taiwan does not have formal diplomatic relations with the Philippines, which recognizes the  one China  policy under which Manila acknowledges the Chinese position that there is only one China and Taiwan is part of it.  China considers Taiwan a renegade province to be taken back by force, if necessary. Whether the visa-free policy takes effect in October or November is to be decided by the foreign ministry, said Hsu Kong-yung, the spokesman of Taiwan s executive yuan, or cabinet.  After we open up the visa-free arrangements, in view of equal mutual benefits, we also hope they will make visa-free arrangements with Taiwan,  he told a news conference. Taiwan already has visa-free arrangements with Australia, Malaysia, New Zealand and Singapore. The government is continuing this year with a pilot scheme with Brunei and Thailand kicked off last year.   It is also considering visa-free arrangements with Indonesia and Vietnam, according to a government document seen by Reuters. A government spokesman did not immediately answer telephone calls from Reuters to seek comment on the Indonesia and Vietnam plans.</th>\n",
       "      <td>1</td>\n",
       "    </tr>\n",
       "    <tr>\n",
       "      <th>TAIPEI (Reuters) - Taiwan will increase future defense spending by two percent each year, President Tsai Ing-wen said during a visit to Hawaii where the United States expressed concern over a possible military imbalance in the Taiwan Straits, Taiwan media reported. In the event that Taiwan purchases arms from a foreign military, the island s defense spending could increase as much as three percent each year, and could possibly increase further using a special budget if  significant purchase cases  are made, Tsai said in remarks carried by official media on Monday.  Tsai made the comments in response to U.S. concerns about a possible military imbalance in the Taiwan Strait expressed by Ambassador James Moriarty during a meeting. Tsai did not elaborate on when the increased defense spending would start.    Tsai s comments were reflected by National Security Council deputy secretary-general Tsai Ming-yen, who recounted to official media the conversation between Tsai and Moriarty, who is chairman of the U.S. Mission in Taiwan, about expanding Taiwan s national defense policy.  Moriarty had expressed concern about China s double-digit growth in defense investments in the last few years, and that Taiwan would need to address a possible military imbalance over the Taiwan Strait, deputy secretary-general Tsai recounted.    President Tsai in turn replied Taiwan would develop a comprehensive plan in accordance with strategic needs, short-term needs, and long-term plans, to create defense forces on the island that would have  reliable combat effectiveness . Tsai visited Hawaii at the weekend on her way to three of Taiwan s diplomatic allies in the Pacific, despite China, which considers Taiwan a wayward province, calling on the United States to stop the trip. Her trip comes about a week before U.S. President Donald Trump visits Asia. China has increased pressure on Taiwan since Tsai took office last year, suspecting she wants to push for formal independence. China has conducted more military drills around Taiwan and peeled away its few remaining diplomatic allies. Tsai described Taiwan-U.S. relations as being  unprecedentedly friendly  in comments released by Taiwan s presidential office on Monday.  We are happy to see U.S. promises of peace and stability for the Asia-Pacific region, and from meetings with the United States understand the necessity to increase investment in defense,  it quoted her as saying. The United States and Taiwan have not had formal diplomatic relations since Washington established ties with Beijing in 1979, but the United States is bound by law to provide Taiwan with the means to defend itself. Taiwan is well armed with mostly U.S.-made weapons but has been pushing for sales of more advanced equipment, such as fighter jets, to deal with what Taipei sees as a growing threat from China and its own rapidly modernizing armed forces. China has never renounced the use of force to bring Taiwan under its control. It regularly calls Taiwan the most sensitive and important issue between it and the United States and has been upset by U.S. moves to expand military exchanges with Taiwan and continued U.S. arms sales to the island. Tsai s stopover in Hawaii included a tour of a Pearl Harbor memorial, a banquet with the overseas Taiwan community, and joint speeches with Moriarty, the chairman of the U.S. Mission in Taiwan, also known as the American Institute in Taiwan.  It was her second U.S. visit this year. In January, Tsai stopped in Houston and San Francisco on her way to and from Latin America.  Tsai moves on to visit the Marshall Islands, Tuvalu, and the Solomon Islands from Monday during a week-long trip and will stop over in the U.S. territory of Guam on her way back to Taiwan.</th>\n",
       "      <td>1</td>\n",
       "    </tr>\n",
       "    <tr>\n",
       "      <th>...</th>\n",
       "      <td>...</td>\n",
       "    </tr>\n",
       "    <tr>\n",
       "      <th>HARARE (Reuters) - Zimbabwe s ruling ZANU-PF party said on Tuesday it would never succumb to military pressure and described a statement by the armed forces chief that he would intervene to end a purge within the party as  treasonable conduct . In the statement, ZANU-PF said it stood by the  primacy of politics over the gun  and accused armed forces chief Constantino Chiwenga of trying to disturb the peace and stability of the impoverished southern African nation.</th>\n",
       "      <td>1</td>\n",
       "    </tr>\n",
       "    <tr>\n",
       "      <th>HARARE (Reuters) - Zimbabwe s ruling ZANU-PF party will hold a special central committee meeting on Sunday morning to dismiss 93-year-old President Robert Mugabe as its leader, two ZANU-PF sources said on Saturday. The meeting, which is scheduled to start at 1030 am (3.30 a.m. ET) will also reinstate ousted vice-president Emmerson Mnangagwa and remove Mugabe s wife, Grace, from the leadership of the ZANU-PF Women s League.</th>\n",
       "      <td>1</td>\n",
       "    </tr>\n",
       "    <tr>\n",
       "      <th>HARARE (Reuters) - Zimbabwe s ruling party accused the head of the armed forces of treason on Tuesday as troops took up positions around the capital in an escalation of a dispute with 93-year-old President Robert Mugabe over political succession. Just 24 hours after military chief General Constantino Chiwenga threatened to intervene to end a purge in the ruling party, a Reuters reporter saw six armored personnel carriers on major thoroughfares on the outskirts of the capital. Aggressive soldiers directing traffic told passing cars to keep moving through the darkness.  Don t try anything funny. Just go,  one soldier said on Harare Drive. The presence of troops, including the movement of at least six armored personnel carriers from a barracks northwest of Harare, sparked rumors of coup against Mugabe, although there was no evidence to suggest Zimbabwe s leader of the last 37 years had been toppled. The lead item on the ZBC state broadcaster s evening news bulletin was an anti-military rally by the youth wing of Mugabe s ZANU-PF party. The Southern African nation has been on edge since Monday when Chiwenga, Commander of Zimbabwe Defence Forces, said he was prepared to  step in  to end a purge of supporters of a sacked vice president. The unprecedented statement represents an escalation of a rumbling political struggle over who will succeed Mugabe, who has been in power since the country gained independence from Britain in 1980. Mugabe chaired a weekly cabinet meeting in the capital on Tuesday. Afterwards, ZANU-PF said it stood by the  primacy of politics over the gun  and accused Chiwenga of  treasonable conduct... meant to incite insurrection.  Mugabe fired Vice President Emerson Mnangagwa last week. The veteran of the 1970s liberation war was popular with the military and had been seen as a likely successor to Mugabe. The army views his removal as part of a purge of independence-era figures to pave the way for Mugabe to hand power to his wife Grace Mugabe. A Reuters witness saw two armored vehicles parked beside the main road from Harare to Chinhoyi, about 20 km (14 miles) from the city. One, which was pointed in the direction of the capital, had come off its tracks. Witnesses said they saw four armored vehicles turn before reaching Harare and head towards the Presidential Guard compound in a suburb on the outskirts of Harare.  There were about four tanks and they turned right here, you can see markings on the road,  one witness on the Chinhoyi highway said, referring to the armored vehicles. He pointed to a road that links to the guard compound. The troop movements raise tension on a continent where for decades armies regularly overthrew civilian governments. Neither the president nor his wife responded in public to the general s remarks and state media did not publish Chiwenga s statement. The Herald newspaper posted some of the comments on its Twitter page but deleted them. The head of ZANU-PF s youth wing accused the army chief of subverting the constitution. Grace Mugabe has developed a strong following in the powerful youth wing.  Defending the revolution and our leader and president is an ideal we live for and if need be it is a principle we are prepared to die for,  Kudzai Chipanga, who leads the ZANU-PF Youth League, said at the party s headquarters in Harare. Grace Mugabe s rise has brought her into conflict with the independence-era war veterans, who once enjoyed a privileged role in the ruling party under Mugabe, but who have in recent years been banished from senior government and party roles. Decades ago, Zimbabwe had one of Africa s promising economies due in part to its agricultural exports. The country is currently struggling to pay for imports due to a dollar crunch, which is also sparking rampant inflation only 10 years after it suffered a financial implosion caused when the central bank began to print money. Martin Rupiya, an expert on Zimbabwe military affairs at the University of South Africa in Pretoria, said the army appeared to be putting the squeeze on Mugabe.  There s a rupture between the executive and the armed forces,  Rupiya said. Alex Magaisa, a British-based Zimbabwean academic said it was premature to talk about a coup.   A military coup is the nuclear option. A coup would be a very hard sell at home and in the international community. They will want to avoid that,  Magaisa said.</th>\n",
       "      <td>1</td>\n",
       "    </tr>\n",
       "    <tr>\n",
       "      <th>HARARE (Reuters) - Zimbabwe s ruling party will dismiss President Robert Mugabe on Sunday and reinstate Emmerson Mnangagwa, the vice-president he fired, two party sources told Reuters on Saturday, as ecstatic crowds celebrated the expected downfall. Mugabe s 37-year rule has been effectively at an end since the army seized control on Wednesday, confining him to his residence, saying it wanted to target the  criminals  around him. State television said Mugabe would meet military commanders on Sunday, quoting Catholic priest Fidelis Mukonori, who has been mediating in negotiations with the president. But hundreds of thousands of people had no need for a formal signal that his time had ended as they flooded the streets of Harare, singing, dancing and hugging soldiers. In scenes reminiscent of the downfall of Romanian dictator Nicolae Ceausescu in 1989, men, women and children ran alongside the armoured cars and the troops who stepped in this week to oust the only ruler Zimbabwe has known since independence in 1980. Others marched towards his lavish  Blue Roof  residence, but were kept away by soldiers. Under house arrest in his compound, the 93-year-old has watched support from his party, security services and people evaporate in less than three days. The sources said a ZANU-PF party central committee meeting scheduled for 10:30 a.m. (0830 GMT) would also dismiss 93-year-old Mugabe s preferred successor, his wife Grace, from her role as head of the ZANU-PF Women s League. Mugabe s nephew Patrick Zhuwao, speaking from an undisclosed  location in South Africa, told Reuters the leader and his wife were  ready to die for what is correct  rather than step down in order to legitimise what he described as a coup.  Zhuwao also said that only Mugabe, who had hardly slept since the military took over but was otherwise in  good  health, could call a meeting of the central committee. It was not clear from reading the party s constitution who is empowered to call such a meeting - but events appeared to have made the issue irrelevant. On Harare s streets, Zimbabweans spoke of a second liberation for the former British colony, alongside their dreams of political and economic change after two decades of deepening repression and hardship.  These are tears of joy,  said Frank Mutsindikwa, 34, holding aloft the Zimbabwean flag.  I ve been waiting all my life for this day. Free at last. We are free at last.  Mugabe s downfall is likely to send shockwaves across Africa, where a number of entrenched strongmen, from Uganda s Yoweri Museveni to Democratic Republic of Congo s Joseph Kabila, are facing mounting pressure to step aside. The crowds in Harare have so far given a quasi-democratic veneer to the army s intervention, backing its claims that it is merely effecting a constitutional transfer of power, which would help it avoid the diplomatic backlash and opprobrium that normally follows a coup. The military had been prompted to act by Mugabe s decision to sack Mnangagwa, Grace Mugabe s main rival to succeed her husband. The next presidential election is due next year.  Zimbabweans abroad were also hailing the end of Mugabe s rule, not least the hundreds living in Britain who gathered outside their embassy in central London.  I m ecstatic to see people give Mugabe a reality check because he has been in his echo chamber for too long, lying to himself that people still want him,  said Ruva Kudambo, 37, who came to study technology and ended up staying. Tasa, a 36-year-old who refused to give his family name, said he had brought his four young children, aged 5 to 9, to the protest  because they are the future of Zimbabwe . NO DIS-GRACE For some Africans, Mugabe remains a nationalist hero, the continent s last independence leader and a symbol of its struggle to throw off the legacy of decades of colonial subjugation. But to many more at home and abroad, he was reviled as a dictator happy to resort to violence to retain power and to run a once-promising economy into the ground. Political sources and intelligence documents seen by Reuters said Mugabe s exit was likely to pave the way for an interim unity government led by Mnangagwa, a life-long Mugabe aide and former security chief known as  The Crocodile . Stabilising the free-falling economy will be the number one priority, the documents said. The United States, a long-time critic of Mugabe, said it was looking forward to a  new era  in Zimbabwe, while President Ian Khama of neighbouring Botswana said Mugabe had no diplomatic support in the region and should resign at once. The Herald, the state newspaper that has served as Mugabe s loyal mouthpiece, said ZANU-PF had called on Friday for him to go. It said ZANU-PF branches in all 10 provinces had also called for the resignation of Grace, the first lady whose ambitions to succeed her husband outraged the military and much of the country. To many Zimbabweans, she is known as  Gucci Grace  on account of her reported dedication to shopping, or - in the wake of an alleged assault in September on a South African model -  Dis-Grace . The scenes in Harare reflect the anger and frustration that has built up among Zimbabwe s 16 million people in nearly two decades of economic mismanagement that started with the seizure of white-owned farms in 2000, the catalyst of a wider collapse. The central bank tried to print its way out of trouble by unleashing a flood of cash but that only made matters worse, leading to hyperinflation that topped out at 500 billion percent in 2008. At least 3 million Zimbabweans emigrated in search of a better life, most of them to neighbouring South Africa. After stabilising briefly when Mugabe was forced to work with the opposition in a 2009-2013 unity government, the economy has collapsed again, this time due to a chronic shortage of dollars. In October, monthly inflation leapt to more than 50 percent, according to some economists, putting basic goods beyond the means of many in a country with 90 percent unemployment.  Mugabe s only public appearance since the military took over was at a university graduation ceremony on Friday morning. Decked out in blue and yellow academic gowns, he appeared tired, at one point falling asleep in his chair. A senior member of ZANU-PF said it was only a matter of time before he agreed to go.  If he becomes stubborn, we will arrange for him to be fired on Sunday,  the source said.  When that is done, it s impeachment on Tuesday.</th>\n",
       "      <td>1</td>\n",
       "    </tr>\n",
       "    <tr>\n",
       "      <th>youngers these days are becoming so moist pic.twitter.com/ctKxUQXIAz  6Paths OfA WolfsPain (@GiovanniiDC) September 21, 2016THUGS BEATING UP A RANDOM WHITE GUY:Why are they attacking this random guy?#CharlotteProtest #Charlotte pic.twitter.com/Wt6q7o5iwc  Andrew Quackson (@AndrewQuackson) September 22, 2016 RIOTERS TRYING TO LIGHT A GUY ON FIRE: Peaceful Protesters  just trying to keep a man warm by attempting to light him on fire#CharlotteProtest #Charlotte pic.twitter.com/hWeVAadoi4  Andrew Quackson (@AndrewQuackson) September 22, 2016 RIOTERS BREAKING INTO A STORE:Protestors rush into souvenir store in #Charlotte #CharlotteRiots pic.twitter.com/r0KmeyTkTs  myrcat (@Myrna_Perez) September 22, 2016 RIOTERS PULLING PEOPLE FROM CARS:Agitators are now attempting to surround and pull people out of vehicles. #CharlotteRiot/#CharlotteProtest pic.twitter.com/V5ZokkRxlX  Audit The Media ?? (@AuditTheMedia) September 22, 2016 STEALING JUST BECAUSE Protesters getting even with an ATM for being responsible for the death of a black man.#Charlotte #CharlotteProtest pic.twitter.com/2wDpOgys8E  Andrew Quackson (@AndrewQuackson) September 22, 2016</th>\n",
       "      <td>1</td>\n",
       "    </tr>\n",
       "  </tbody>\n",
       "</table>\n",
       "<p>38646 rows × 1 columns</p>\n",
       "</div>"
      ],
      "text/plain": [
       "                                                    IsFake\n",
       "text                                                      \n",
       "                                                         2\n",
       "TAIPEI (Reuters) - Taiwan s government said on ...       1\n",
       "TAIPEI (Reuters) - Taiwan said its environment ...       1\n",
       "TAIPEI (Reuters) - Taiwan will allow visa-free ...       1\n",
       "TAIPEI (Reuters) - Taiwan will increase future ...       1\n",
       "...                                                    ...\n",
       "HARARE (Reuters) - Zimbabwe s ruling ZANU-PF pa...       1\n",
       "HARARE (Reuters) - Zimbabwe s ruling ZANU-PF pa...       1\n",
       "HARARE (Reuters) - Zimbabwe s ruling party accu...       1\n",
       "HARARE (Reuters) - Zimbabwe s ruling party will...       1\n",
       "youngers these days are becoming so moist pic.t...       1\n",
       "\n",
       "[38646 rows x 1 columns]"
      ]
     },
     "execution_count": 5,
     "metadata": {},
     "output_type": "execute_result"
    }
   ],
   "source": [
    "news_data.groupby(\"text\").nunique()[[\"IsFake\"]].sort_values('IsFake',ascending=False)"
   ]
  },
  {
   "cell_type": "code",
   "execution_count": 6,
   "metadata": {
    "scrolled": true
   },
   "outputs": [
    {
     "data": {
      "text/html": [
       "<div>\n",
       "<style scoped>\n",
       "    .dataframe tbody tr th:only-of-type {\n",
       "        vertical-align: middle;\n",
       "    }\n",
       "\n",
       "    .dataframe tbody tr th {\n",
       "        vertical-align: top;\n",
       "    }\n",
       "\n",
       "    .dataframe thead th {\n",
       "        text-align: right;\n",
       "    }\n",
       "</style>\n",
       "<table border=\"1\" class=\"dataframe\">\n",
       "  <thead>\n",
       "    <tr style=\"text-align: right;\">\n",
       "      <th></th>\n",
       "      <th>IsFake</th>\n",
       "    </tr>\n",
       "    <tr>\n",
       "      <th>title</th>\n",
       "      <th></th>\n",
       "    </tr>\n",
       "  </thead>\n",
       "  <tbody>\n",
       "    <tr>\n",
       "      <th>\\r\\r\\r\\r\\r\\r\\r\\nDonald Trump Gets His A** Handed To Him By A 10-Year-Old Girl (VIDEO)\\r\\r\\r\\r\\r\\r\\r\\n</th>\n",
       "      <td>1</td>\n",
       "    </tr>\n",
       "    <tr>\n",
       "      <th>Pentagon notified U.S. Congress of $593 million military sale to Nigeria</th>\n",
       "      <td>1</td>\n",
       "    </tr>\n",
       "    <tr>\n",
       "      <th>Pentagon revises law of war manual after criticism of press treatment</th>\n",
       "      <td>1</td>\n",
       "    </tr>\n",
       "    <tr>\n",
       "      <th>Pentagon says diplomatic tension with Turkey not affecting military operations</th>\n",
       "      <td>1</td>\n",
       "    </tr>\n",
       "    <tr>\n",
       "      <th>Pentagon says fourth U.S. soldier killed in Niger ambush</th>\n",
       "      <td>1</td>\n",
       "    </tr>\n",
       "    <tr>\n",
       "      <th>...</th>\n",
       "      <td>...</td>\n",
       "    </tr>\n",
       "    <tr>\n",
       "      <th>California Democrats propose series of infrastructure bills</th>\n",
       "      <td>1</td>\n",
       "    </tr>\n",
       "    <tr>\n",
       "      <th>California Governor Brown pushes big water project amid drought</th>\n",
       "      <td>1</td>\n",
       "    </tr>\n",
       "    <tr>\n",
       "      <th>California Governor Brown vows to fight Trump, calls for civility</th>\n",
       "      <td>1</td>\n",
       "    </tr>\n",
       "    <tr>\n",
       "      <th>California Republican challenges state's hiring of Eric Holder to fight Trump policies</th>\n",
       "      <td>1</td>\n",
       "    </tr>\n",
       "    <tr>\n",
       "      <th>“You’re Not Welcome!” Obama As Welcome At Roseberg Funerals As Westboro Baptist Church Members [Videos]</th>\n",
       "      <td>1</td>\n",
       "    </tr>\n",
       "  </tbody>\n",
       "</table>\n",
       "<p>38729 rows × 1 columns</p>\n",
       "</div>"
      ],
      "text/plain": [
       "                                                    IsFake\n",
       "title                                                     \n",
       "\\r\\r\\r\\r\\r\\r\\r\\nDonald Trump Gets His A** Hande...       1\n",
       "Pentagon notified U.S. Congress of $593 million...       1\n",
       "Pentagon revises law of war manual after critic...       1\n",
       "Pentagon says diplomatic tension with Turkey no...       1\n",
       "Pentagon says fourth U.S. soldier killed in Nig...       1\n",
       "...                                                    ...\n",
       "California Democrats propose series of infrastr...       1\n",
       "California Governor Brown pushes big water proj...       1\n",
       "California Governor Brown vows to fight Trump, ...       1\n",
       "California Republican challenges state's hiring...       1\n",
       "“You’re Not Welcome!” Obama As Welcome At Roseb...       1\n",
       "\n",
       "[38729 rows x 1 columns]"
      ]
     },
     "execution_count": 6,
     "metadata": {},
     "output_type": "execute_result"
    }
   ],
   "source": [
    "news_data.groupby(\"title\").nunique()[[\"IsFake\"]].sort_values('IsFake',ascending=False)"
   ]
  },
  {
   "cell_type": "markdown",
   "metadata": {},
   "source": [
    "The only text with both real and fake flagged articles is a blank space - we will look into these. There are no titles that appear in both the fake and real datasets."
   ]
  },
  {
   "cell_type": "markdown",
   "metadata": {},
   "source": [
    "#### Check if there are any duplicate articles or titles"
   ]
  },
  {
   "cell_type": "code",
   "execution_count": 41,
   "metadata": {},
   "outputs": [
    {
     "name": "stdout",
     "output_type": "stream",
     "text": [
      "4947  articles appear multiple times\n",
      "6043  articles are duplicates\n"
     ]
    },
    {
     "data": {
      "text/html": [
       "<div>\n",
       "<style scoped>\n",
       "    .dataframe tbody tr th:only-of-type {\n",
       "        vertical-align: middle;\n",
       "    }\n",
       "\n",
       "    .dataframe tbody tr th {\n",
       "        vertical-align: top;\n",
       "    }\n",
       "\n",
       "    .dataframe thead th {\n",
       "        text-align: right;\n",
       "    }\n",
       "</style>\n",
       "<table border=\"1\" class=\"dataframe\">\n",
       "  <thead>\n",
       "    <tr style=\"text-align: right;\">\n",
       "      <th></th>\n",
       "      <th>text</th>\n",
       "    </tr>\n",
       "  </thead>\n",
       "  <tbody>\n",
       "    <tr>\n",
       "      <th></th>\n",
       "      <td>627</td>\n",
       "    </tr>\n",
       "    <tr>\n",
       "      <th>Because there wouldn t be any outrage over a  white kids only  field trip to a local college would there?Parents criticized Indiana school officials Thursday for a trip planned to local colleges that was only offered to black third-graders, ABC 57 reported.School officials defended the trip, saying the outing sends a positive message to black students who may believe the prospect of college is out of reach. We take them to a college campus, have them meet African-American students, modeling the idea that as a black person, college is a great place,  Dr. G. David Moss, the head of the African-American services at the South Bend Community Schools Corporation, told the station.The initiative has been criticized by parents in the community, not because of its ambitions, but because it excludes students with other backgrounds.One parent whose son is going on the trip told the station that she believes  all kids should be going. Moss told the station that he did not mean to offend anyone with the trips, but said he was hired to  look at the issues facing African-American kids  in the community.Via: FOX News</th>\n",
       "      <td>4</td>\n",
       "    </tr>\n",
       "    <tr>\n",
       "      <th>Things didn t go as well as Nicholle had hoped and now, she s lashing out at the owner of the billboard company who was inundated with calls from angry residents.Rouse &amp; Revolt owner Nicholle Lewis told Newsweek that she didn t sleep much last night. Her phone wouldn t stop going off with the persistent buzzing of death threats for her sign, which stylizes the number 45 into a swastika and features Trump posed in a Hitler-esque stance. I m living in a small, podunk red town and I m already getting death threats,  said Lewis, whose store is in right-leaning Chico, population 90,000.  My business has completely floundered. Overnight I had more one-star reviews than all the reviews I ve received in a year. The sign was up for less than 24 hours before Stott Outdoor Advertising took it down amid a backlash that featured online attacks.But Lewis said she s standing behind her beliefs. I don t necessarily think that just because I m a business doesn t mean I can t mix my beliefs,  Lewis said.  That s a common misconception that you can t mix politics and business.   I have a platform and I m going to use it. Lewis has used the billboard at the corner of Third Avenue and Mangrove Avenue all year, though this is the first time she s made it political. He is not presidential, he is not a president,  Lewis said.  He is a celebrity who was born into money. And he s a Nazi sympathizer. I am going to stand behind my beliefs regardless. Lewis said she has been getting some support, too.Lewis got slammed by bad reviews on her store, Rouse and Revolt Facebook page, as well as her personal Facebook page, where she posted this video. In the video, Lewis pleas with liberals to make false claims against the sign company, as a payback because she s been hit with bad reviews. That s called liberal logic, in case you re not familiar with how liberal operate.Watch, as angry liberal Nicholle Haber Lewis threatens the sign company with a lawsuit while simultaneously asking libs to help her destroy his business.(function(d, s, id) {  var js, fjs = d.getElementsByTagName(s)[0];  if (d.getElementById(id)) return;  js = d.createElement(s); js.id = id;  js.src = \"//connect.facebook.net/en_US/sdk.js#xfbml=1&amp;version=v2.10\";  fjs.parentNode.insertBefore(js, fjs);}(document, 'script', 'facebook-jssdk'));Posted by Nicholle Haber Lewis on Friday, October 6, 2017The general manager of Stott Outdoor Advertising replied to Newsweek:Jim Moravec, the general manager of Stott Outdoor Advertising, told Newsweek that the company took it down because  a lot of people misinterpreted the billboard and who the speaker was. I should have not accepted the ad in the first place,  Moravec said, adding that the sign looked more like a call for action than an ad for the clothing store.   Newsweek</th>\n",
       "      <td>4</td>\n",
       "    </tr>\n",
       "    <tr>\n",
       "      <th>On September 15, Hillary  apparently  held a rally in the Old Student Recreational Center at the University of North Carolina in Greensboro, NC. This was her first public appearance since she convulsed and had to be lifted into her van following the 9-11 memorial in NYC. Hillary s campaign was quick to blame the heat until they discovered conservative websites were able to quickly access the weather and determine that it was a balmy 74 degrees in NYC! Hillary was quickly whisked away to her daughter Chelsea s apartment following her  incident,  passing more than one hospital on the way to  recuperate.  Did Hillary recover from her  incident  or was this rally faked to make it look like she did?Here is the first video of Hillary s Greensboro, NC rally that was causing viewers to ask  what the heck are those cameras in Hillary s  audience  pointing at?  If you look closely, it sure isn t Hillary!Watch this video first, and then the video below to get a closer analysis of what appears to be a phony rally for Hillary at https://twitter.com/WDFx2EU5/status/777263623915745280This stunning video takes the viewer through and shows step-by-step where the audience is faked:Here is the actual video from C-Span to prove nothing was doctored in the videos above. Holy moly!</th>\n",
       "      <td>4</td>\n",
       "    </tr>\n",
       "    <tr>\n",
       "      <th>Enjoy:</th>\n",
       "      <td>4</td>\n",
       "    </tr>\n",
       "    <tr>\n",
       "      <th></th>\n",
       "      <td>4</td>\n",
       "    </tr>\n",
       "    <tr>\n",
       "      <th>AP News  The regulars amble in before dawn and claim their usual table, the one next to an old box television playing the news on mute.Steven Whitt fires up the coffee pot and flips on the fluorescent sign in the window of the Frosty Freeze, his diner that looks and sounds and smells about the same as it did when it opened a half-century ago. Coffee is 50 cents a cup, refills 25 cents. The pot sits on the counter, and payment is based on the honor system.People like it that way, he thinks. It reminds them of a time before the world seemed to stray away from them, when coal was king and the values of the nation seemed the same as the values here, in God s Country, in this small county isolated in the foothills of the Appalachian Mountains.Everyone in town comes to his diner for nostalgia and homestyle cooking. And, recently, news reporters come from all over the world to puzzle over politics   because Elliott County, a blue-collar union stronghold, voted for the Democrat in each and every presidential election for its 147-year existence.Until Donald Trump came along and promised to wind back the clock. He was the hope we were all waiting on, the guy riding up on the white horse. There was a new energy about everybody here,  says Whitt. I still see it. Despite the president s dismal approval ratings and lethargic legislative achievements, he remains profoundly popular here in these mountains, a region so badly battered by the collapse of the coal industry it became the symbolic heart of Trump s white working-class base.The frenetic churn of the national news, the ceaseless Twitter taunts, the daily declarations of outrage scroll soundlessly across the bottom of the diner s television screen, rarely registering. When they do, Trump doesn t shoulder the blame   because the allegiance of those here is as emotional as it is economic.It means God, guns, patriotism, saying  Merry Christmas  and not Happy Holidays. It means validation of their indignation about a changing nation: gay marriage and immigration and factories moving overseas. It means tearing down the political system that neglected them again and again in favor of the big cities that feel a world away.On those counts, they believe Trump has delivered, even if his promised blue-collar renaissance has not yet materialized. He s punching at all the people who let them down for so long   the presidential embodiment of their own discontent. He s already done enough to get my vote again, without a doubt, no question,  Wes Lewis, a retired pipefitter and one of Whitt s regulars, declares as he deals the day s first hand of cards.He thinks the mines and the factories will soon roar back to life, and if they don t, he believes they would have if Democrats and Republicans and the media   all  crooked as a barrel of fishhooks    had gotten out of the way. What Lewis has now that he didn t have before Trump is a belief that his president is pulling for people like him. One thing I hear in here a lot is that nobody s gonna push him into a corner,  says Whitt, 35.  He s a fighter. I think they like the bluntness of it. He plops down at an empty table next to the card game, drops a stack of mail onto his lap and begins flipping through the envelopes. Bill, bill, bill,  he reports to his wife, Chesla, who has arrived to relieve him at the restaurant they run together. He needs to run home and change of out his Frosty Freeze uniform, the first of several work ensembles he wears each day, and put on his second, a suit and tie. He also owns a local funeral home and he s the county coroner, elected as a Democrat.The Whitts, like many people here, cobble together a living with a couple jobs each   sometimes working 12 or 15 hours a day   because there aren t many options better than minimum wage. There s the school system, and a prison, and that s pretty much it. Outside of town, population 622, roads wind past rolling farms that used to grow tobacco before that industry crumbled too, then up into the hills of Appalachia, with its spectacular natural beauty and grinding poverty that has come to define this region in the American imagination.Whitt slides a medical bill across the table. Looks like this one is the new helmet,  he says, and his wife tears the envelope open and reports the debt: $3,995. They will add it to a growing pile that s already surpassed $40,000 since their son was born nine months ago with a rare condition. His skull was shaped like an egg, the bones fused together in places they shouldn t be. Tommy, their baby boy with big blue eyes, has now outgrown three of the helmets he s been required to wear after surgery so his bones grow back together like they should.They pay $800 a month for insurance. But when they took their baby to a surgeon in Cincinnati, they learned it was out of network. In-network hospitals offered only more invasive surgeries, so they opted to pay out of pocket. At the hospital they were told that if they d been on an insurance program for the poor, it would have all been free.This represents the cracks in America s institutions that drove Whitt, a lifelong Democrat, from supporting President Barack Obama to buying a  Make America Great Again  cap that he still keeps on top of the hutch. Many of their welfare-dependent neighbors, he believes, stay trapped in a cycle of handouts and poverty while hardworking taxpayers like him and his wife are stuck with the tab and can t get ahead. Where s the fairness in that?  he asks.But Whitt doesn t blame Trump for the failure this year to repeal the health care law and replace it with something better. He blames the  brick wall  in Washington, the politicians he sees as blocking everything Trump proposes while  small people  like them in small places like this are left again to languish.A third of people here live in poverty. Just 9 percent of adults have a college degree, but they always made up for that with backbreaking labor that workers traveled dozens of miles to neighboring counties or states to do, and those jobs have gotten harder to find.Many here blame global trade agreements and the  war on coal    environmental regulations designed by Obama s administration to curb carbon emissions   for the decline of mining and manufacturing jobs. When Trump bemoans the  American carnage  of lost factories and lost faith, it feels like he s talking to the people in these Appalachian hills. When he scraps dozens of regulations to the horror of environmentalists and says it means jobs are on the way, they embrace him.Coal has ticked up since Trump took office; mining companies have added 1,200 jobs across the country since his inauguration, more than 180 of them in Kentucky. But industry analysts say that was tied largely to market forces and dismiss Trump s repeated pledges to resuscitate the coal industry as pie in the sky. Coal has been on the decline for many decades for many reasons outside of regulation: far cheaper natural gas, mechanization, thinning Appalachian seams. With the opposition he s had, I think he s pulling the plow pretty good,  offers Wes Lewis from the card table. A few months ago, he says, he saw four brand-new coal rigs going through town.  For the longest time, under Obama, all we saw were trucks being pulled on wreckers, because people turned belly up, they went broke. Lewis says he s heard about friends of friends being called back to work. He s noticed new trucks in people s driveways, too, which he takes as evidence that his neighbors are feeling confident about their futures. These tiny signs stack up to him as proof. Lewis fishes the tag out of the bib of his overalls:  Made in Mexico,  it reads. Trump s bringing them back,  he says.Lewis, a registered Democrat, trusts Trump because he trusts his values. And because of that, he trusts Trump s other promises   so strongly he can t think of anything that would shake that faith in him. If the factories and mines don t come back, he ll blame the opposition. If there isn t a wall on the Mexico border, he says, it won t be because Trump didn t try. If investigators find his campaign colluded with Russians, it s because so many people are so determined to bring him down.Go HERE to read entire story.</th>\n",
       "      <td>4</td>\n",
       "    </tr>\n",
       "    <tr>\n",
       "      <th>Why should Barack Obama bother with the courts? He s always been above the law. He s already proven to us that he doesn t need a court ruling to bring millions of illegal aliens into our country. He s not following any laws when he demands our border patrol agents stand down to drug cartels, dangerous gangs, pedophiles, members of terror groups and rapists crossing our open borders. He doesn t need a law to ensure that in exchange for votes for the Democrat party, American taxpayers will reward illegal aliens with the right to free education, free food, free health care and subsidized housing. Who needs the law when you re  America s First Black President. The Obama administration revealed today that it will not take the fight over executive immigration amnesty to the Supreme Court, essentially admitting defeat in its fight to lift a court-ordered stay placed by a Texas judge.Obama s executive actions still have to be settled in court, but yesterday s decision prevented the administration from moving forward in its efforts to sign up illegal immigrants for the amnesty programs. The department believes the best way to achieve this goal is to focus on the ongoing appeal on the merits of the preliminary injunction itself,  said Patrick Rodenbush, a spokesman for the Justice Department to the New York Times.  Although the department continues to disagree with the Fifth Circuit s refusal to stay the district court s preliminary injunction, the department has determined that it will not seek a stay from the Supreme Court. The arguments for the legal battle begin next month before the Fifth Circuit court, but the results of yesterday s decision mean the final will likely be pushed into 2016. There s an important hearing scheduled for July 6 at which the Department of Justice is preparing its arguments on the legal merits of the executive actions that the president announced last fall,  White House Deputy Press Secretary Eric Schultz told reporters aboard Air Force One.  The Department of Justice remains focused on that argument and that hearing proceeding on an expedited basis. Obama is traveling to Miami today for a series of fundraisers for the Democratic National Committee.Via: Breitbart News</th>\n",
       "      <td>3</td>\n",
       "    </tr>\n",
       "    <tr>\n",
       "      <th>This is the best explanation of why Obama and the Democrat party are fighting so hard to keep the US State Department s Refugee Resettlement program going strong.  Please share this with everyone who s been wondering why the Democrats are so eager to bring Muslim immigrants from countries who hate us, to America, while leaving Christian refugees from the same countries behind. To hell with terrorism, the Democrats want to win even if it s at the expense of our national security Looks like my old stomping grounds in Montana are heating up. People there are not taking Obama s plan to force refugees on them lying down. There was a protest in Missoula, Montana recently over that very issue. It is just one of many battles brewing out there in small town America.Small towns in the sparsely populated parts of America are the perfect place to relocate these refugees. Especially, if your agenda includes politically terraforming the country. The West is historically conservative in their politics. Many are Republicans and Libertarians. Even the Democrats hearken back to an earlier time when they were more conservative in nature. Obama and the Democrats can t have that. They need to have an entire country willing to submit to Marxist diktats. They need areas seeded with those who will vote Democrat and ensure that they stay in power no matter what.And it s not just voting demographics that are pushing this move either. I personally believe that there is a warped logic to all of this. That if Islam can be made the predominant religion in America, people will be more easily controlled. That s insane of course and won t work, but there you have it. Instead, Shariah law will be implemented and you will see the same atrocities occurring in Europe happen here. The big difference being, that at least for now, Americans are armed and will use those weapons to protect their neighbors, loved ones and country.Of the 237 Syrian refugees admitted to the U.S. since the attacks in Paris just one has been a Christian. The rest have been Muslims.CNS News reports that according to data from the State Department Refugee Processing Center, since the November 13 attacks the U.S. has admitted 236 Sunni Muslim refugees from Syria and a single Christian   a Greek Orthodox refugee.Bringing in the refugees also moves forward the Cloward and Piven strategy to overwhelm the system so it will collapse and cause chaos in the streets. These people want to tear the system apart, so they can replace it with something truly heinous. The Obama administration will never admit that this is the plan, but can you honestly look at what is going on today and tell me it isn t? Our borders are wide open. We are not vetting anyone to speak of and security here in the US is worse than before 9/11.Communities in states such as Idaho, Montana, North Dakota and Kansas are being infused with Muslim refugees even though they are not wanted by the residents or the local law enforcement. The feds and their leaders are not giving them a choice. Wyoming is the only state currently not participating in the program, but even the governor there wants to jump in it. Living in large cities would be too costly for the refugees and more can be accomplished with seeding them across the plains. In a small town, they can turn everything to their advantage in short order. Since many of our larger cities are already flooded with immigrants from south of the border and from Muslim nations, in many respects they have at least partially fallen to the ploy already. This is the fundamental transformation of America in play. South Carolina, Idaho, Minnesota, North Dakota and Michigan are vigorously fighting against this program and Obama s  change .The same entitlements, jobs, lodging and freebies will be given to these refugees in small town America. But that will mean taking more and more away from locals in these same communities. These immigrants bring crime and disease with them. As crime rises, people will leave which will hasten the take over of these towns. At least that is what Obama and his friends hope for. I pray that people dig in and decide to stay and fight if they can.We haven t learned a damned thing from watching what is going on over in Europe. How do you justify the rapefugees in Germany and Sweden, who treat rape as game for a large number of players at a given event? How can you ignore the violence, the murders, the depravity that is the Ummah? What s wrong with these people? Do money and power mean so much to them that they don t care that they are selling America out to a hellish nightmare movement? Imagine your wives, daughters, mothers, neighbors  little children  subjected to these beasts. What would you do?For entire story: Trevor Loudon</th>\n",
       "      <td>3</td>\n",
       "    </tr>\n",
       "    <tr>\n",
       "      <th>Fox News Channel s Jeanine Pirro went after the GOP establishment Saturday on  Justice. Pirro accused the establishment Republicans leaders of watching the Democrats  railroad their president, and then urged them to prove their loyalty by convincing everyone that they are not in on the  effort to take down  President Donald Trump. The Republican establishment not fighting for the commander-in-chief as day after day they watch him being savaged, forcing him to defend himself and run the country. Think about it. If he s knocked out, the succession is clear and things go back to the way they were,  Pirro said. You re in power, damn it!  she later exclaimed.  Do something, pass something, cut this kumbaya crap, put on your big boy pants and act like you re in power, act like you give a damn! And more importantly, convince us that you are not in on the effort to take down the president of the United States.   Breitbart</th>\n",
       "      <td>3</td>\n",
       "    </tr>\n",
       "  </tbody>\n",
       "</table>\n",
       "</div>"
      ],
      "text/plain": [
       "                                                    text\n",
       "                                                     627\n",
       "Because there wouldn t be any outrage over a  w...     4\n",
       "Things didn t go as well as Nicholle had hoped ...     4\n",
       "On September 15, Hillary  apparently  held a ra...     4\n",
       "Enjoy:                                                 4\n",
       "                                                       4\n",
       "AP News  The regulars amble in before dawn and ...     4\n",
       "Why should Barack Obama bother with the courts?...     3\n",
       "This is the best explanation of why Obama and t...     3\n",
       "Fox News Channel s Jeanine Pirro went after the...     3"
      ]
     },
     "execution_count": 41,
     "metadata": {},
     "output_type": "execute_result"
    }
   ],
   "source": [
    "duplicate_articles=pd.DataFrame(news_data['text'].value_counts().loc[lambda x : x!=1])\n",
    "print(len(duplicate_articles),\" articles appear multiple times\")\n",
    "print(duplicate_articles['text'].sum()-len(duplicate_articles),\" articles are duplicates\")\n",
    "duplicate_articles.head(10)"
   ]
  },
  {
   "cell_type": "code",
   "execution_count": 66,
   "metadata": {},
   "outputs": [
    {
     "name": "stdout",
     "output_type": "stream",
     "text": [
      "5445  titles appear multiple times\n",
      "5960  titles are duplicates\n"
     ]
    },
    {
     "data": {
      "text/html": [
       "<div>\n",
       "<style scoped>\n",
       "    .dataframe tbody tr th:only-of-type {\n",
       "        vertical-align: middle;\n",
       "    }\n",
       "\n",
       "    .dataframe tbody tr th {\n",
       "        vertical-align: top;\n",
       "    }\n",
       "\n",
       "    .dataframe thead th {\n",
       "        text-align: right;\n",
       "    }\n",
       "</style>\n",
       "<table border=\"1\" class=\"dataframe\">\n",
       "  <thead>\n",
       "    <tr style=\"text-align: right;\">\n",
       "      <th></th>\n",
       "      <th>title</th>\n",
       "    </tr>\n",
       "  </thead>\n",
       "  <tbody>\n",
       "    <tr>\n",
       "      <th>Factbox: Trump fills top jobs for his administration</th>\n",
       "      <td>14</td>\n",
       "    </tr>\n",
       "    <tr>\n",
       "      <th>Factbox: Contenders for senior jobs in Trump's administration</th>\n",
       "      <td>8</td>\n",
       "    </tr>\n",
       "    <tr>\n",
       "      <th>MEDIA IGNORES Time That Bill Clinton FIRED His FBI Director On Day Before Vince Foster Was Found Dead</th>\n",
       "      <td>6</td>\n",
       "    </tr>\n",
       "    <tr>\n",
       "      <th>Factbox: International reaction to arrest of Reuters reporters in Myanmar</th>\n",
       "      <td>6</td>\n",
       "    </tr>\n",
       "    <tr>\n",
       "      <th>Factbox: Contenders, picks for key jobs in Trump's administration</th>\n",
       "      <td>5</td>\n",
       "    </tr>\n",
       "    <tr>\n",
       "      <th>Factbox: Contenders for key jobs in Trump's administration</th>\n",
       "      <td>4</td>\n",
       "    </tr>\n",
       "    <tr>\n",
       "      <th>FORMER FBI ASST DIRECTOR: “Jim Comey ‘Danced With The Devil’…I’m Glad He’s Gone” [VIDEO]</th>\n",
       "      <td>4</td>\n",
       "    </tr>\n",
       "    <tr>\n",
       "      <th>Timeline: Zika's origin and global spread</th>\n",
       "      <td>4</td>\n",
       "    </tr>\n",
       "    <tr>\n",
       "      <th>Factbox: Why the Zika virus is causing alarm</th>\n",
       "      <td>4</td>\n",
       "    </tr>\n",
       "    <tr>\n",
       "      <th>ELEMENTARY SCHOOL PLANS ‘BLACKS ONLY’ FIELD TRIP TO COLLEGE FOR THIRD GRADERS</th>\n",
       "      <td>4</td>\n",
       "    </tr>\n",
       "  </tbody>\n",
       "</table>\n",
       "</div>"
      ],
      "text/plain": [
       "                                                    title\n",
       "Factbox: Trump fills top jobs for his administr...     14\n",
       "Factbox: Contenders for senior jobs in Trump's ...      8\n",
       "MEDIA IGNORES Time That Bill Clinton FIRED His ...      6\n",
       "Factbox: International reaction to arrest of Re...      6\n",
       "Factbox: Contenders, picks for key jobs in Trum...      5\n",
       "Factbox: Contenders for key jobs in Trump's adm...      4\n",
       "FORMER FBI ASST DIRECTOR: “Jim Comey ‘Danced Wi...      4\n",
       "Timeline: Zika's origin and global spread               4\n",
       "Factbox: Why the Zika virus is causing alarm            4\n",
       "ELEMENTARY SCHOOL PLANS ‘BLACKS ONLY’ FIELD TRI...      4"
      ]
     },
     "execution_count": 66,
     "metadata": {},
     "output_type": "execute_result"
    }
   ],
   "source": [
    "duplicate_titles=pd.DataFrame(news_data['title'].value_counts().loc[lambda x : x!=1])\n",
    "print(len(duplicate_titles),\" titles appear multiple times\")\n",
    "print(duplicate_titles['title'].sum()-len(duplicate_titles),\" titles are duplicates\")\n",
    "duplicate_titles.head(10)"
   ]
  },
  {
   "cell_type": "markdown",
   "metadata": {},
   "source": [
    "There are a lot of duplicates, and also over 600 'duplicate' records where the article was a blank text. \n",
    "Let's separate these out and look at the genuine duplicates."
   ]
  },
  {
   "cell_type": "code",
   "execution_count": 348,
   "metadata": {},
   "outputs": [
    {
     "data": {
      "text/html": [
       "<div>\n",
       "<style scoped>\n",
       "    .dataframe tbody tr th:only-of-type {\n",
       "        vertical-align: middle;\n",
       "    }\n",
       "\n",
       "    .dataframe tbody tr th {\n",
       "        vertical-align: top;\n",
       "    }\n",
       "\n",
       "    .dataframe thead th {\n",
       "        text-align: right;\n",
       "    }\n",
       "</style>\n",
       "<table border=\"1\" class=\"dataframe\">\n",
       "  <thead>\n",
       "    <tr style=\"text-align: right;\">\n",
       "      <th></th>\n",
       "      <th>title</th>\n",
       "      <th>text</th>\n",
       "      <th>subject</th>\n",
       "      <th>date</th>\n",
       "      <th>IsFake</th>\n",
       "      <th>textlengthwords</th>\n",
       "      <th>titlelengthwords</th>\n",
       "      <th>VideoStoryOrLink</th>\n",
       "      <th>Datetime</th>\n",
       "      <th>Year</th>\n",
       "      <th>titlelength</th>\n",
       "      <th>textlength</th>\n",
       "      <th>text_percent_punct</th>\n",
       "      <th>title_percent_punct</th>\n",
       "      <th>text_excl</th>\n",
       "      <th>title_excl</th>\n",
       "      <th>text_incaps</th>\n",
       "      <th>title_incaps</th>\n",
       "      <th>news</th>\n",
       "      <th>news_clean</th>\n",
       "    </tr>\n",
       "  </thead>\n",
       "  <tbody>\n",
       "    <tr>\n",
       "      <th>8970</th>\n",
       "      <td>Graphic: Supreme Court roundup</td>\n",
       "      <td></td>\n",
       "      <td>politicsNews</td>\n",
       "      <td>June 16, 2016</td>\n",
       "      <td>0</td>\n",
       "      <td>0</td>\n",
       "      <td>4</td>\n",
       "      <td>0</td>\n",
       "      <td>2016-06-16</td>\n",
       "      <td>2016</td>\n",
       "      <td>30</td>\n",
       "      <td>1</td>\n",
       "      <td>0.0</td>\n",
       "      <td>0.037037</td>\n",
       "      <td>0</td>\n",
       "      <td>0</td>\n",
       "      <td>0.0</td>\n",
       "      <td>0.000000</td>\n",
       "      <td>Graphic: Supreme Court roundup</td>\n",
       "      <td>graphic supreme court roundup</td>\n",
       "    </tr>\n",
       "    <tr>\n",
       "      <th>10923</th>\n",
       "      <td>TAKE OUR POLL: Who Do You Think President Trum...</td>\n",
       "      <td></td>\n",
       "      <td>politics</td>\n",
       "      <td>May 10, 2017</td>\n",
       "      <td>1</td>\n",
       "      <td>0</td>\n",
       "      <td>15</td>\n",
       "      <td>0</td>\n",
       "      <td>2017-05-10</td>\n",
       "      <td>2017</td>\n",
       "      <td>83</td>\n",
       "      <td>1</td>\n",
       "      <td>0.0</td>\n",
       "      <td>0.028986</td>\n",
       "      <td>0</td>\n",
       "      <td>0</td>\n",
       "      <td>0.0</td>\n",
       "      <td>0.200000</td>\n",
       "      <td>TAKE OUR POLL: Who Do You Think President Trum...</td>\n",
       "      <td>take poll think president trump pick replace j...</td>\n",
       "    </tr>\n",
       "    <tr>\n",
       "      <th>11041</th>\n",
       "      <td>Joe Scarborough BERATES Mika Brzezinski Over “...</td>\n",
       "      <td></td>\n",
       "      <td>politics</td>\n",
       "      <td>Apr 26, 2017</td>\n",
       "      <td>1</td>\n",
       "      <td>0</td>\n",
       "      <td>19</td>\n",
       "      <td>1</td>\n",
       "      <td>2017-04-26</td>\n",
       "      <td>2017</td>\n",
       "      <td>116</td>\n",
       "      <td>1</td>\n",
       "      <td>0.0</td>\n",
       "      <td>0.040816</td>\n",
       "      <td>0</td>\n",
       "      <td>1</td>\n",
       "      <td>0.0</td>\n",
       "      <td>0.105263</td>\n",
       "      <td>Joe Scarborough BERATES Mika Brzezinski Over “...</td>\n",
       "      <td>joe scarborough berates mika brzezinski cheap ...</td>\n",
       "    </tr>\n",
       "    <tr>\n",
       "      <th>11190</th>\n",
       "      <td>WATCH TUCKER CARLSON Scorch Sanctuary City May...</td>\n",
       "      <td></td>\n",
       "      <td>politics</td>\n",
       "      <td>Apr 6, 2017</td>\n",
       "      <td>1</td>\n",
       "      <td>0</td>\n",
       "      <td>13</td>\n",
       "      <td>1</td>\n",
       "      <td>2017-04-06</td>\n",
       "      <td>2017</td>\n",
       "      <td>86</td>\n",
       "      <td>1</td>\n",
       "      <td>0.0</td>\n",
       "      <td>0.054054</td>\n",
       "      <td>0</td>\n",
       "      <td>0</td>\n",
       "      <td>0.0</td>\n",
       "      <td>0.230769</td>\n",
       "      <td>WATCH TUCKER CARLSON Scorch Sanctuary City May...</td>\n",
       "      <td>watch tucker carlson scorch sanctuary city may...</td>\n",
       "    </tr>\n",
       "    <tr>\n",
       "      <th>11225</th>\n",
       "      <td>MAYOR OF SANCTUARY CITY: Trump Trying To Make ...</td>\n",
       "      <td></td>\n",
       "      <td>politics</td>\n",
       "      <td>Apr 2, 2017</td>\n",
       "      <td>1</td>\n",
       "      <td>0</td>\n",
       "      <td>13</td>\n",
       "      <td>1</td>\n",
       "      <td>2017-04-02</td>\n",
       "      <td>2017</td>\n",
       "      <td>82</td>\n",
       "      <td>1</td>\n",
       "      <td>0.0</td>\n",
       "      <td>0.042857</td>\n",
       "      <td>0</td>\n",
       "      <td>0</td>\n",
       "      <td>0.0</td>\n",
       "      <td>0.307692</td>\n",
       "      <td>MAYOR OF SANCTUARY CITY: Trump Trying To Make ...</td>\n",
       "      <td>mayor sanctuary city trump trying make us fugi...</td>\n",
       "    </tr>\n",
       "    <tr>\n",
       "      <th>...</th>\n",
       "      <td>...</td>\n",
       "      <td>...</td>\n",
       "      <td>...</td>\n",
       "      <td>...</td>\n",
       "      <td>...</td>\n",
       "      <td>...</td>\n",
       "      <td>...</td>\n",
       "      <td>...</td>\n",
       "      <td>...</td>\n",
       "      <td>...</td>\n",
       "      <td>...</td>\n",
       "      <td>...</td>\n",
       "      <td>...</td>\n",
       "      <td>...</td>\n",
       "      <td>...</td>\n",
       "      <td>...</td>\n",
       "      <td>...</td>\n",
       "      <td>...</td>\n",
       "      <td>...</td>\n",
       "      <td>...</td>\n",
       "    </tr>\n",
       "    <tr>\n",
       "      <th>21816</th>\n",
       "      <td>BALTIMORE BURNS: MARYLAND GOVERNOR BRINGS IN N...</td>\n",
       "      <td></td>\n",
       "      <td>left-news</td>\n",
       "      <td>Apr 27, 2015</td>\n",
       "      <td>1</td>\n",
       "      <td>0</td>\n",
       "      <td>14</td>\n",
       "      <td>0</td>\n",
       "      <td>2015-04-27</td>\n",
       "      <td>2015</td>\n",
       "      <td>93</td>\n",
       "      <td>1</td>\n",
       "      <td>0.0</td>\n",
       "      <td>0.012500</td>\n",
       "      <td>0</td>\n",
       "      <td>0</td>\n",
       "      <td>0.0</td>\n",
       "      <td>1.000000</td>\n",
       "      <td>BALTIMORE BURNS: MARYLAND GOVERNOR BRINGS IN N...</td>\n",
       "      <td>baltimore burns maryland governor brings natio...</td>\n",
       "    </tr>\n",
       "    <tr>\n",
       "      <th>21826</th>\n",
       "      <td>FULL VIDEO: THE BLOCKBUSTER INVESTIGATION INTO...</td>\n",
       "      <td></td>\n",
       "      <td>left-news</td>\n",
       "      <td>Apr 25, 2015</td>\n",
       "      <td>1</td>\n",
       "      <td>0</td>\n",
       "      <td>8</td>\n",
       "      <td>1</td>\n",
       "      <td>2015-04-25</td>\n",
       "      <td>2015</td>\n",
       "      <td>59</td>\n",
       "      <td>1</td>\n",
       "      <td>0.0</td>\n",
       "      <td>0.019231</td>\n",
       "      <td>0</td>\n",
       "      <td>0</td>\n",
       "      <td>0.0</td>\n",
       "      <td>1.000000</td>\n",
       "      <td>FULL VIDEO: THE BLOCKBUSTER INVESTIGATION INTO...</td>\n",
       "      <td>full video blockbuster investigation clinton c...</td>\n",
       "    </tr>\n",
       "    <tr>\n",
       "      <th>21827</th>\n",
       "      <td>(VIDEO) HILLARY CLINTON: RELIGIOUS BELIEFS MUS...</td>\n",
       "      <td></td>\n",
       "      <td>left-news</td>\n",
       "      <td>Apr 25, 2015</td>\n",
       "      <td>1</td>\n",
       "      <td>0</td>\n",
       "      <td>11</td>\n",
       "      <td>1</td>\n",
       "      <td>2015-04-25</td>\n",
       "      <td>2015</td>\n",
       "      <td>82</td>\n",
       "      <td>1</td>\n",
       "      <td>0.0</td>\n",
       "      <td>0.041667</td>\n",
       "      <td>0</td>\n",
       "      <td>0</td>\n",
       "      <td>0.0</td>\n",
       "      <td>1.000000</td>\n",
       "      <td>(VIDEO) HILLARY CLINTON: RELIGIOUS BELIEFS MUS...</td>\n",
       "      <td>video hillary clinton religious beliefs must c...</td>\n",
       "    </tr>\n",
       "    <tr>\n",
       "      <th>21857</th>\n",
       "      <td>(VIDEO)ICE PROTECTING OBAMA: WON’T RELEASE NAM...</td>\n",
       "      <td></td>\n",
       "      <td>left-news</td>\n",
       "      <td>Apr 14, 2015</td>\n",
       "      <td>1</td>\n",
       "      <td>0</td>\n",
       "      <td>12</td>\n",
       "      <td>1</td>\n",
       "      <td>2015-04-14</td>\n",
       "      <td>2015</td>\n",
       "      <td>91</td>\n",
       "      <td>1</td>\n",
       "      <td>0.0</td>\n",
       "      <td>0.037500</td>\n",
       "      <td>0</td>\n",
       "      <td>0</td>\n",
       "      <td>0.0</td>\n",
       "      <td>1.000000</td>\n",
       "      <td>(VIDEO)ICE PROTECTING OBAMA: WON’T RELEASE NAM...</td>\n",
       "      <td>videoice protecting obama release names crimin...</td>\n",
       "    </tr>\n",
       "    <tr>\n",
       "      <th>21873</th>\n",
       "      <td>(VIDEO) HYSTERICAL SNL TAKE ON HILLARY’S ANNOU...</td>\n",
       "      <td></td>\n",
       "      <td>left-news</td>\n",
       "      <td>Apr 12, 2015</td>\n",
       "      <td>1</td>\n",
       "      <td>0</td>\n",
       "      <td>14</td>\n",
       "      <td>1</td>\n",
       "      <td>2015-04-12</td>\n",
       "      <td>2015</td>\n",
       "      <td>98</td>\n",
       "      <td>1</td>\n",
       "      <td>0.0</td>\n",
       "      <td>0.058824</td>\n",
       "      <td>0</td>\n",
       "      <td>1</td>\n",
       "      <td>0.0</td>\n",
       "      <td>1.000000</td>\n",
       "      <td>(VIDEO) HYSTERICAL SNL TAKE ON HILLARY’S ANNOU...</td>\n",
       "      <td>video hysterical snl take hillary announcement...</td>\n",
       "    </tr>\n",
       "  </tbody>\n",
       "</table>\n",
       "<p>631 rows × 20 columns</p>\n",
       "</div>"
      ],
      "text/plain": [
       "                                                   title text       subject  \\\n",
       "8970                      Graphic: Supreme Court roundup       politicsNews   \n",
       "10923  TAKE OUR POLL: Who Do You Think President Trum...           politics   \n",
       "11041  Joe Scarborough BERATES Mika Brzezinski Over “...           politics   \n",
       "11190  WATCH TUCKER CARLSON Scorch Sanctuary City May...           politics   \n",
       "11225  MAYOR OF SANCTUARY CITY: Trump Trying To Make ...           politics   \n",
       "...                                                  ...  ...           ...   \n",
       "21816  BALTIMORE BURNS: MARYLAND GOVERNOR BRINGS IN N...          left-news   \n",
       "21826  FULL VIDEO: THE BLOCKBUSTER INVESTIGATION INTO...          left-news   \n",
       "21827  (VIDEO) HILLARY CLINTON: RELIGIOUS BELIEFS MUS...          left-news   \n",
       "21857  (VIDEO)ICE PROTECTING OBAMA: WON’T RELEASE NAM...          left-news   \n",
       "21873  (VIDEO) HYSTERICAL SNL TAKE ON HILLARY’S ANNOU...          left-news   \n",
       "\n",
       "                 date  IsFake  textlengthwords  titlelengthwords  \\\n",
       "8970   June 16, 2016        0                0                 4   \n",
       "10923    May 10, 2017       1                0                15   \n",
       "11041    Apr 26, 2017       1                0                19   \n",
       "11190     Apr 6, 2017       1                0                13   \n",
       "11225     Apr 2, 2017       1                0                13   \n",
       "...               ...     ...              ...               ...   \n",
       "21816    Apr 27, 2015       1                0                14   \n",
       "21826    Apr 25, 2015       1                0                 8   \n",
       "21827    Apr 25, 2015       1                0                11   \n",
       "21857    Apr 14, 2015       1                0                12   \n",
       "21873    Apr 12, 2015       1                0                14   \n",
       "\n",
       "       VideoStoryOrLink   Datetime  Year  titlelength  textlength  \\\n",
       "8970                  0 2016-06-16  2016           30           1   \n",
       "10923                 0 2017-05-10  2017           83           1   \n",
       "11041                 1 2017-04-26  2017          116           1   \n",
       "11190                 1 2017-04-06  2017           86           1   \n",
       "11225                 1 2017-04-02  2017           82           1   \n",
       "...                 ...        ...   ...          ...         ...   \n",
       "21816                 0 2015-04-27  2015           93           1   \n",
       "21826                 1 2015-04-25  2015           59           1   \n",
       "21827                 1 2015-04-25  2015           82           1   \n",
       "21857                 1 2015-04-14  2015           91           1   \n",
       "21873                 1 2015-04-12  2015           98           1   \n",
       "\n",
       "       text_percent_punct  title_percent_punct  text_excl  title_excl  \\\n",
       "8970                  0.0             0.037037          0           0   \n",
       "10923                 0.0             0.028986          0           0   \n",
       "11041                 0.0             0.040816          0           1   \n",
       "11190                 0.0             0.054054          0           0   \n",
       "11225                 0.0             0.042857          0           0   \n",
       "...                   ...                  ...        ...         ...   \n",
       "21816                 0.0             0.012500          0           0   \n",
       "21826                 0.0             0.019231          0           0   \n",
       "21827                 0.0             0.041667          0           0   \n",
       "21857                 0.0             0.037500          0           0   \n",
       "21873                 0.0             0.058824          0           1   \n",
       "\n",
       "       text_incaps  title_incaps  \\\n",
       "8970           0.0      0.000000   \n",
       "10923          0.0      0.200000   \n",
       "11041          0.0      0.105263   \n",
       "11190          0.0      0.230769   \n",
       "11225          0.0      0.307692   \n",
       "...            ...           ...   \n",
       "21816          0.0      1.000000   \n",
       "21826          0.0      1.000000   \n",
       "21827          0.0      1.000000   \n",
       "21857          0.0      1.000000   \n",
       "21873          0.0      1.000000   \n",
       "\n",
       "                                                    news  \\\n",
       "8970                     Graphic: Supreme Court roundup    \n",
       "10923  TAKE OUR POLL: Who Do You Think President Trum...   \n",
       "11041  Joe Scarborough BERATES Mika Brzezinski Over “...   \n",
       "11190  WATCH TUCKER CARLSON Scorch Sanctuary City May...   \n",
       "11225  MAYOR OF SANCTUARY CITY: Trump Trying To Make ...   \n",
       "...                                                  ...   \n",
       "21816  BALTIMORE BURNS: MARYLAND GOVERNOR BRINGS IN N...   \n",
       "21826  FULL VIDEO: THE BLOCKBUSTER INVESTIGATION INTO...   \n",
       "21827  (VIDEO) HILLARY CLINTON: RELIGIOUS BELIEFS MUS...   \n",
       "21857  (VIDEO)ICE PROTECTING OBAMA: WON’T RELEASE NAM...   \n",
       "21873  (VIDEO) HYSTERICAL SNL TAKE ON HILLARY’S ANNOU...   \n",
       "\n",
       "                                              news_clean  \n",
       "8970                      graphic supreme court roundup   \n",
       "10923  take poll think president trump pick replace j...  \n",
       "11041  joe scarborough berates mika brzezinski cheap ...  \n",
       "11190  watch tucker carlson scorch sanctuary city may...  \n",
       "11225  mayor sanctuary city trump trying make us fugi...  \n",
       "...                                                  ...  \n",
       "21816  baltimore burns maryland governor brings natio...  \n",
       "21826  full video blockbuster investigation clinton c...  \n",
       "21827  video hillary clinton religious beliefs must c...  \n",
       "21857  videoice protecting obama release names crimin...  \n",
       "21873  video hysterical snl take hillary announcement...  \n",
       "\n",
       "[631 rows x 20 columns]"
      ]
     },
     "execution_count": 348,
     "metadata": {},
     "output_type": "execute_result"
    }
   ],
   "source": [
    "news_data[news_data[\"text\"].str.strip()=='']"
   ]
  },
  {
   "cell_type": "code",
   "execution_count": 4,
   "metadata": {},
   "outputs": [
    {
     "name": "stdout",
     "output_type": "stream",
     "text": [
      "44058  articles with text\n",
      "631  articles with a blank text\n"
     ]
    }
   ],
   "source": [
    "NonBlankArticles =news_data[news_data[\"text\"].apply(lambda x: x.strip())!=\"\"]\n",
    "BlankTextArticles=news_data[news_data[\"text\"].apply(lambda x: x.strip())==\"\"]\n",
    "\n",
    "print(len(NonBlankArticles),\" articles with text\")\n",
    "print(len(BlankTextArticles),\" articles with a blank text\")"
   ]
  },
  {
   "cell_type": "code",
   "execution_count": 5,
   "metadata": {},
   "outputs": [
    {
     "name": "stdout",
     "output_type": "stream",
     "text": [
      "Number of records:  44058\n",
      "5400  duplicate articles removed\n",
      "Number of records after removing duplicates:  38658\n"
     ]
    },
    {
     "name": "stderr",
     "output_type": "stream",
     "text": [
      "C:\\Users\\patri\\anaconda3\\lib\\site-packages\\ipykernel_launcher.py:5: SettingWithCopyWarning: \n",
      "A value is trying to be set on a copy of a slice from a DataFrame\n",
      "\n",
      "See the caveats in the documentation: https://pandas.pydata.org/pandas-docs/stable/user_guide/indexing.html#returning-a-view-versus-a-copy\n",
      "  \"\"\"\n"
     ]
    }
   ],
   "source": [
    "initial_no=NonBlankArticles.shape[0]\n",
    "print(\"Number of records: \",initial_no)\n",
    "\n",
    "NonBlankArticles.sort_values(['title','text','date'],ascending=[True,True,True])\n",
    "NonBlankArticles.drop_duplicates(subset=['title','text'], keep=\"last\",inplace=True) \n",
    "print(initial_no-NonBlankArticles.shape[0],\" duplicate articles removed\")\n",
    "\n",
    "print(\"Number of records after removing duplicates: \",NonBlankArticles.shape[0])"
   ]
  },
  {
   "cell_type": "code",
   "execution_count": 69,
   "metadata": {},
   "outputs": [
    {
     "name": "stdout",
     "output_type": "stream",
     "text": [
      "14  articles appear multiple times\n",
      "14  articles are duplicates\n"
     ]
    },
    {
     "data": {
      "text/html": [
       "<div>\n",
       "<style scoped>\n",
       "    .dataframe tbody tr th:only-of-type {\n",
       "        vertical-align: middle;\n",
       "    }\n",
       "\n",
       "    .dataframe tbody tr th {\n",
       "        vertical-align: top;\n",
       "    }\n",
       "\n",
       "    .dataframe thead th {\n",
       "        text-align: right;\n",
       "    }\n",
       "</style>\n",
       "<table border=\"1\" class=\"dataframe\">\n",
       "  <thead>\n",
       "    <tr style=\"text-align: right;\">\n",
       "      <th></th>\n",
       "      <th>text</th>\n",
       "    </tr>\n",
       "  </thead>\n",
       "  <tbody>\n",
       "    <tr>\n",
       "      <th>WASHINGTON (Reuters) - U.S. Representative Mark Meadows, chairman of the conservative House Freedom Caucus, said on Wednesday he is very encouraged by the negotiations with Republican leadership over a sweeping healthcare bill. “I’m very encouraged that we might be seeing some real headway,” Meadows told reporters before a caucus meeting. Earlier, a Freedom Caucus aide said more than 25 members of the group opposed the legislation to replace Obamacare, enough votes to sink the bill in Thursday’s scheduled vote.</th>\n",
       "      <td>2</td>\n",
       "    </tr>\n",
       "    <tr>\n",
       "      <th>She burst on the scene last August when she upset a 44-year incumbent Democrat in the Minnesota state primary elections to become the nation s first female Muslim state legislator.Ilhan Omar, the 34-year-old community organizer who came to America as a refugee from Somalia, was touted by Democrats as a model success story. From a refugee camp to the State Capitol with intelligence and insight,  beamed former Minneapolis Mayor R.T. Rybak, who endorsed Omar.  This is a wonderful story to tell as Americans, and a great source of pride for the state of Minnesota s open arms. But on Thursday Omar made her mark in another way.She was one of only two members of the Minnesota State House to vote against a bill that would allow life insurance companies to deny payouts to the beneficiaries of terrorists who die in violent attacks on Americans.Omar, who represents the heavily immigrant Cedar Riverside area of Minneapolis, was joined by fellow Democratic Rep. John Lesch of St. Paul in voting against the bill.Omar s vote sticks out because at least 42 Somali refugees have been confirmed by the FBI to have left the U.S. to join overseas terrorist organizations, including al-Shabab, the al-Qaida affiliate in Somalia, and ISIS in Syria and Iraq.Dozens of other Somali-Americans have been tried and/or convicted of providing material support to overseas terrorists.The Minneapolis-St. Paul area is home to the nation s largest Somali refugee community.The Minnesota insurance bill was introduced by Rep. Joe Hoppe, R-Chaska, in response to Syed Farook s jihadist rampage in San Bernardino, California, in December 2015 in which he shot and killed 14 people and injured 22 at an office Christmas party. Farook made sure his life insurance policies worth $275,000 were valid before conducting the deadly shooting with help from his wife, Tashfeen Malik.After Farook died in a shootout with police, his mother fought to remain the beneficiary of the life insurance policies. The insurance company balked and the case has gone to court.Democratic Rep. Debra Hilstrom said the goal of the Minnesota bill  is to make certain that folks don t benefit [from terrorism] and this limits the beneficiary to the premiums that were paid in. It limits the exposure for the insurance company when someone is committing an act of terrorism.   WNDWatch:</th>\n",
       "      <td>2</td>\n",
       "    </tr>\n",
       "    <tr>\n",
       "      <th>Watch:</th>\n",
       "      <td>2</td>\n",
       "    </tr>\n",
       "    <tr>\n",
       "      <th>LONDON (Reuters) - Back from Brussels with a hard-fought Brexit deal, Prime Minister Theresa May wrote an open letter to the three million citizens of other European Union states living in Britain.  I know our country would be poorer if you left and I want you to stay,  she wrote after striking the initial agreement, which promises to secure their British residency rights after Brexit and allows the negotiations to move onto trade relations. But for some EU nationals - who have endured uncertainty over their rights since the Brexit vote in June 2016, not to mention an unpleasant feeling that many Britons do not want them around - May s Dec. 8 deal is too little, too late. It s too late to keep German nurse Daniela Jones in the chronically short-staffed National Health Service (NHS), where she worked for 35 years. It s too late for French psychotherapist Baya Salmon-Hawk, who after 40 years in Britain has moved to Ireland to remain in the EU. It s too late for French accountant Nathalie Duran, who is planning early retirement in France because after 31 years as a taxpayer in Britain she objects to being told she has to pay a fee and fill in forms to be granted a new  settled status .  I will have to regretfully decline your generous offer for settled status and oblige your lovely countrymen s wishes and go home,  she wrote on Facebook in a response to May laden with irony. Duran told Reuters that the prime minister s  late outpouring of love  for EU citizens, after years of tough talk on the need to cut immigration, could not mask negative attitudes towards immigrants unleashed by the Brexit vote.  I think it s turning ugly,  said 56-year-old Duran.  It s now OK to say  go home foreigners .  EU citizens, particularly those from the poorer eastern member states such as Poland and Romania, have complained of increasing hostility from some Britons. They find themselves accused of stealing jobs from Britons and driving down wages, even though unemployment is at a four-decade low, or of overburdening health services as patients, even though many help to provide them by working for the NHS. Official figures show hate crimes in Britain surged by the highest amount on record last year, with the Brexit vote a significant factor. The impact of Brexit on EU citizens in Britain is a serious concern for sectors of the economy that rely heavily on European workers, such as hospitality, construction, agriculture, care for the elderly and the cherished NHS. Britain won t leave the bloc until March 2019, but many EU nationals are already voting with their feet. In the 12 months following the referendum, 123,000 of them left Britain, a 29 percent year-on-year increase. They were still outnumbered by the 230,000 EU citizens who arrived to live in Britain in the same period, although that figure was down 19 percent on the previous year.  Not everyone is making plans to go: 28,500 EU citizens applied for British citizenship in the 12 months after the referendum, an 80 percent year-on-year jump. With personal and professional roots often running deep, many more have applied for permanent residence documents. UK citizenship would be an option for nurse Jones, 61, who moved to England from Munich just before her 18th birthday. That was in 1974, the year after Britain joined what is now the EU. Today she has a grown-up British son and a British husband. But as a point of principle she cannot see why she should apply for something she never needed in the past.   Despite my enormous love for Britain, I do not feel that I am British,  was how she put it in a letter to Ruth Deech, a pro-Brexit member of parliament s House of Lords, sent in February to lobby her on the EU citizens  rights issue. In a one-line response to the long, impassioned letter, which made clear Jones had worked for 35 years in the state NHS, Deech said she should have applied for UK citizenship. Jones replied it had never been necessary and explained that she was already a dual German and U.S. national through her German mother and her American father, a serviceman in the U.S. army who was posted to Germany in the 1950s. Deech sent another one-liner:  You sought U.S. citizenship - presumably you could have shown the same commitment to this country.  Jones was dismayed by that response, which in her eyes lacked understanding and respect. She began to think she needed to look after her own interests better. A few months later, she quit her NHS job at a doctors  office in Yateley, a small town southwest of London. She is now re-training as a foot and ear care specialist and plans to work privately.  I still like looking after people but I want to do it on my own terms,  she told Reuters.  It s time to get out. Work for myself, start a little business.  Jones wrote to Deech again, saying:  I have now freed up a British job for a British worker.  This time she got no response. Deech declined an interview request from Reuters, but said in an emailed response to questions that obtaining a British passport  might be a good idea for any EU citizen who is (probably needlessly) concerned . French national Baya Salmon-Hawk, 61, initially reacted to the Brexit vote by trying to make sure her residency rights were not under threat. Having lived in England for 40 years, had her son there, owned a home, worked in a variety of jobs and paid taxes, she thought that should be straightforward. But when she made inquiries about a permanent residence permit she had obtained in 1977, she was told this was no longer valid and she would have to re-apply by filling an 85-page form and providing lots of documents, including details of every time she had left the country and returned, stretching back years. Besides, Salmon-Hawk was struggling to adjust to the new reality. Having believed previously that she was integrated into British society, she felt unwelcome for the first time.  I just don t understand what s happened to the UK,  she said.  I became quite easily upset by all this and I didn t want to live like that anymore.  She and her 74-year-old wife Audrey Evelyn, who is British, decided to leave. They sold their house in a village north of London, and in July this year they moved to County Kilkenny in Ireland, where Evelyn has family ties. At times, Salmon-Hawk has wondered if they made the right decision.  I may have made a foolish mistake. I have woken up in the middle of the night in a state of panic,  she said. But she is starting a new venture as a professional story-teller at Hook Lighthouse on the southeast coast of Ireland, telling visitors tales from Irish history.  I thought I was done, I was settled, and I m not. I m having a new adventure.</th>\n",
       "      <td>2</td>\n",
       "    </tr>\n",
       "    <tr>\n",
       "      <th>On September 15, Hillary  apparently  held a rally in the Old Student Recreational Center at the University of North Carolina in Greensboro, NC. This was her first public appearance since she convulsed and had to be lifted into her van following the 9-11 memorial in NYC. Hillary s campaign was quick to blame the heat until they discovered conservative websites were able to quickly access the weather and determine that it was a balmy 74 degrees in NYC! Hillary was quickly whisked away to her daughter Chelsea s apartment following her  incident,  passing more than one hospital on the way to  recuperate.  Did Hillary recover from her  incident  or was this rally faked to make it look like she did?Here is the first video of Hillary s Greensboro, NC rally that was causing viewers to ask  what the heck are those cameras in Hillary s  audience  pointing at?  If you look closely, it sure isn t Hillary!Watch this video first, and then the video below to get a closer analysis of what appears to be a phony rally for Hillary at https://twitter.com/WDFx2EU5/status/777263623915745280This stunning video takes the viewer through and shows step-by-step where the audience is faked:Here is the actual video from C-Span to prove nothing was doctored in the videos above. Holy moly!</th>\n",
       "      <td>2</td>\n",
       "    </tr>\n",
       "    <tr>\n",
       "      <th>BEIRUT (Reuters) - The battle for the city of Raqqa, which Islamic State had used as its headquarters in Syria, is drawing to an end. Islamic State militants have lost swathes of land to various offensives across Syria and Iraq, forced into a diminishing foothold along the Euphrates river valley. Their defeat in Raqqa would be a milestone in the fight to roll back the theocratic  caliphate  Islamic State declared in 2014 in both countries. Following are some facts about Raqqa: Raqqa sits on the Euphrates river around 90 km (56 miles) from the Turkish border in north central Syria.  Hardline Sunni militant group Islamic State overran Raqqa in January 2014, seizing control from rebel factions opposed to the rule of Syrian President Bashar al-Assad. The United States has said Islamic State planned and sent teams from Raqqa to carry out attacks on cities including Paris, Brussels and Istanbul.  THE ANTI-IS OFFENSIVE The Syrian Democratic Forces (SDF), an alliance of mostly Kurdish and Arab militias, began to advance towards Raqqa city in November 2016. After encircling the city, they launched the offensive to take it, facing tough resistance.  The United States-led coalition supports the SDF with air strikes and special forces on the ground.  The battle for Raqqa has taken a severe toll on civilians. The United Nations said in March the city contained around 200,000 people, just under its pre-war population.  Since late last year, fighting around and in Raqqa has displaced tens of thousands of people. Many have fled the city to camps in surrounding territory now under the control of the SDF and its strongest component, the Kurdish YPG militia.  Civilians trapped inside the Islamic State enclave in the city have endured miserable conditions for months, lacking water, power, food and healthcare. Parts of Raqqa that the SDF captured have mostly been cleared of residents.     Air strikes, fighting and Islamic State snipers and mines have killed many hundreds of people.   The coalition says it is careful to avoid civilian casualties in its bombing runs in Syria and Iraq. But the U.N. human rights office and rights group Amnesty International have raised concerns about reports of high civilian deaths.  Islamic State has imposed its very strict interpretation of Islamic law on Raqqa s residents. The fighters have carried out public executions, lashings and violent punishments for infringements of their rule. The Raqqa campaign has stirred tension between the United States and NATO-ally Turkey. Potential Kurdish influence in the future of the mainly Arab city is sensitive both for some activists from Raqqa and for Turkey.   The YPG has become the main U.S. partner in the fight against Islamic State in northern Syria. Ankara views it as a Syrian extension of the Kurdistan Workers Party (PKK), which has waged a three-decade insurgency within Turkey, and fears growing Kurdish power along its border. The SDF s political allies have set up a Raqqa Civil Council of people from the city, which the SDF says it will hand control to once its fighters have defeated Islamic State. This echoes the pattern in other towns and cities that the SDF captured. The U.S.-led coalition has helped train a new police force for the city.  Islamic State has made enemies of all sides in the more than six-year Syrian conflict, with separate offensives now trying to clear it from its last foothold in the towns along the Euphrates river in eastern Syria near the Iraqi border. Besides the U.S.-backed SDF, the Syrian army, with Russian jets and Iran-backed militias, is also waging its own campaign against Islamic State in eastern Syria.     A modern-day provincial transport hub and market town, Raqqa was built by the Abbasid Islamic Caliphate in the eighth century, serving as its capital at one point. It has been inhabited since antiquity and contains important archaeological and architectural sites. The United Nations has said they have been extensively looted during the war and religious buildings have been damaged. Islamic State militants released a video of them bombing a large part of the Uwais al-Qarani shrine complex in March 2014.</th>\n",
       "      <td>2</td>\n",
       "    </tr>\n",
       "    <tr>\n",
       "      <th>AP News  The regulars amble in before dawn and claim their usual table, the one next to an old box television playing the news on mute.Steven Whitt fires up the coffee pot and flips on the fluorescent sign in the window of the Frosty Freeze, his diner that looks and sounds and smells about the same as it did when it opened a half-century ago. Coffee is 50 cents a cup, refills 25 cents. The pot sits on the counter, and payment is based on the honor system.People like it that way, he thinks. It reminds them of a time before the world seemed to stray away from them, when coal was king and the values of the nation seemed the same as the values here, in God s Country, in this small county isolated in the foothills of the Appalachian Mountains.Everyone in town comes to his diner for nostalgia and homestyle cooking. And, recently, news reporters come from all over the world to puzzle over politics   because Elliott County, a blue-collar union stronghold, voted for the Democrat in each and every presidential election for its 147-year existence.Until Donald Trump came along and promised to wind back the clock. He was the hope we were all waiting on, the guy riding up on the white horse. There was a new energy about everybody here,  says Whitt. I still see it. Despite the president s dismal approval ratings and lethargic legislative achievements, he remains profoundly popular here in these mountains, a region so badly battered by the collapse of the coal industry it became the symbolic heart of Trump s white working-class base.The frenetic churn of the national news, the ceaseless Twitter taunts, the daily declarations of outrage scroll soundlessly across the bottom of the diner s television screen, rarely registering. When they do, Trump doesn t shoulder the blame   because the allegiance of those here is as emotional as it is economic.It means God, guns, patriotism, saying  Merry Christmas  and not Happy Holidays. It means validation of their indignation about a changing nation: gay marriage and immigration and factories moving overseas. It means tearing down the political system that neglected them again and again in favor of the big cities that feel a world away.On those counts, they believe Trump has delivered, even if his promised blue-collar renaissance has not yet materialized. He s punching at all the people who let them down for so long   the presidential embodiment of their own discontent. He s already done enough to get my vote again, without a doubt, no question,  Wes Lewis, a retired pipefitter and one of Whitt s regulars, declares as he deals the day s first hand of cards.He thinks the mines and the factories will soon roar back to life, and if they don t, he believes they would have if Democrats and Republicans and the media   all  crooked as a barrel of fishhooks    had gotten out of the way. What Lewis has now that he didn t have before Trump is a belief that his president is pulling for people like him. One thing I hear in here a lot is that nobody s gonna push him into a corner,  says Whitt, 35.  He s a fighter. I think they like the bluntness of it. He plops down at an empty table next to the card game, drops a stack of mail onto his lap and begins flipping through the envelopes. Bill, bill, bill,  he reports to his wife, Chesla, who has arrived to relieve him at the restaurant they run together. He needs to run home and change of out his Frosty Freeze uniform, the first of several work ensembles he wears each day, and put on his second, a suit and tie. He also owns a local funeral home and he s the county coroner, elected as a Democrat.The Whitts, like many people here, cobble together a living with a couple jobs each   sometimes working 12 or 15 hours a day   because there aren t many options better than minimum wage. There s the school system, and a prison, and that s pretty much it. Outside of town, population 622, roads wind past rolling farms that used to grow tobacco before that industry crumbled too, then up into the hills of Appalachia, with its spectacular natural beauty and grinding poverty that has come to define this region in the American imagination.Whitt slides a medical bill across the table. Looks like this one is the new helmet,  he says, and his wife tears the envelope open and reports the debt: $3,995. They will add it to a growing pile that s already surpassed $40,000 since their son was born nine months ago with a rare condition. His skull was shaped like an egg, the bones fused together in places they shouldn t be. Tommy, their baby boy with big blue eyes, has now outgrown three of the helmets he s been required to wear after surgery so his bones grow back together like they should.They pay $800 a month for insurance. But when they took their baby to a surgeon in Cincinnati, they learned it was out of network. In-network hospitals offered only more invasive surgeries, so they opted to pay out of pocket. At the hospital they were told that if they d been on an insurance program for the poor, it would have all been free.This represents the cracks in America s institutions that drove Whitt, a lifelong Democrat, from supporting President Barack Obama to buying a  Make America Great Again  cap that he still keeps on top of the hutch. Many of their welfare-dependent neighbors, he believes, stay trapped in a cycle of handouts and poverty while hardworking taxpayers like him and his wife are stuck with the tab and can t get ahead. Where s the fairness in that?  he asks.But Whitt doesn t blame Trump for the failure this year to repeal the health care law and replace it with something better. He blames the  brick wall  in Washington, the politicians he sees as blocking everything Trump proposes while  small people  like them in small places like this are left again to languish.A third of people here live in poverty. Just 9 percent of adults have a college degree, but they always made up for that with backbreaking labor that workers traveled dozens of miles to neighboring counties or states to do, and those jobs have gotten harder to find.Many here blame global trade agreements and the  war on coal    environmental regulations designed by Obama s administration to curb carbon emissions   for the decline of mining and manufacturing jobs. When Trump bemoans the  American carnage  of lost factories and lost faith, it feels like he s talking to the people in these Appalachian hills. When he scraps dozens of regulations to the horror of environmentalists and says it means jobs are on the way, they embrace him.Coal has ticked up since Trump took office; mining companies have added 1,200 jobs across the country since his inauguration, more than 180 of them in Kentucky. But industry analysts say that was tied largely to market forces and dismiss Trump s repeated pledges to resuscitate the coal industry as pie in the sky. Coal has been on the decline for many decades for many reasons outside of regulation: far cheaper natural gas, mechanization, thinning Appalachian seams. With the opposition he s had, I think he s pulling the plow pretty good,  offers Wes Lewis from the card table. A few months ago, he says, he saw four brand-new coal rigs going through town.  For the longest time, under Obama, all we saw were trucks being pulled on wreckers, because people turned belly up, they went broke. Lewis says he s heard about friends of friends being called back to work. He s noticed new trucks in people s driveways, too, which he takes as evidence that his neighbors are feeling confident about their futures. These tiny signs stack up to him as proof. Lewis fishes the tag out of the bib of his overalls:  Made in Mexico,  it reads. Trump s bringing them back,  he says.Lewis, a registered Democrat, trusts Trump because he trusts his values. And because of that, he trusts Trump s other promises   so strongly he can t think of anything that would shake that faith in him. If the factories and mines don t come back, he ll blame the opposition. If there isn t a wall on the Mexico border, he says, it won t be because Trump didn t try. If investigators find his campaign colluded with Russians, it s because so many people are so determined to bring him down.Go HERE to read entire story.</th>\n",
       "      <td>2</td>\n",
       "    </tr>\n",
       "    <tr>\n",
       "      <th>Things didn t go as well as Nicholle had hoped and now, she s lashing out at the owner of the billboard company who was inundated with calls from angry residents.Rouse &amp; Revolt owner Nicholle Lewis told Newsweek that she didn t sleep much last night. Her phone wouldn t stop going off with the persistent buzzing of death threats for her sign, which stylizes the number 45 into a swastika and features Trump posed in a Hitler-esque stance. I m living in a small, podunk red town and I m already getting death threats,  said Lewis, whose store is in right-leaning Chico, population 90,000.  My business has completely floundered. Overnight I had more one-star reviews than all the reviews I ve received in a year. The sign was up for less than 24 hours before Stott Outdoor Advertising took it down amid a backlash that featured online attacks.But Lewis said she s standing behind her beliefs. I don t necessarily think that just because I m a business doesn t mean I can t mix my beliefs,  Lewis said.  That s a common misconception that you can t mix politics and business.   I have a platform and I m going to use it. Lewis has used the billboard at the corner of Third Avenue and Mangrove Avenue all year, though this is the first time she s made it political. He is not presidential, he is not a president,  Lewis said.  He is a celebrity who was born into money. And he s a Nazi sympathizer. I am going to stand behind my beliefs regardless. Lewis said she has been getting some support, too.Lewis got slammed by bad reviews on her store, Rouse and Revolt Facebook page, as well as her personal Facebook page, where she posted this video. In the video, Lewis pleas with liberals to make false claims against the sign company, as a payback because she s been hit with bad reviews. That s called liberal logic, in case you re not familiar with how liberal operate.Watch, as angry liberal Nicholle Haber Lewis threatens the sign company with a lawsuit while simultaneously asking libs to help her destroy his business.(function(d, s, id) {  var js, fjs = d.getElementsByTagName(s)[0];  if (d.getElementById(id)) return;  js = d.createElement(s); js.id = id;  js.src = \"//connect.facebook.net/en_US/sdk.js#xfbml=1&amp;version=v2.10\";  fjs.parentNode.insertBefore(js, fjs);}(document, 'script', 'facebook-jssdk'));Posted by Nicholle Haber Lewis on Friday, October 6, 2017The general manager of Stott Outdoor Advertising replied to Newsweek:Jim Moravec, the general manager of Stott Outdoor Advertising, told Newsweek that the company took it down because  a lot of people misinterpreted the billboard and who the speaker was. I should have not accepted the ad in the first place,  Moravec said, adding that the sign looked more like a call for action than an ad for the clothing store.   Newsweek</th>\n",
       "      <td>2</td>\n",
       "    </tr>\n",
       "    <tr>\n",
       "      <th>Our FBI Director has testified once before in regards to the inability to screen Syrian refugees. This time he repeats his concerns before the House Homeland Security Committee in a hearing yesterday. Is anyone listening or is Trey Gowdy so focused on the Hillary hearings on Capitol Hill that he s not paying attention to the effort to forever change America. We are scheduled to bring in 200,000 Muslim refugees that WE CANNOT DO BACKGROUND CHECKS ON. This is insane! The left is hell bent on flooding towns across America with these people which is NOT in the best interests of anyone. Please act to at least call your Congressman to ask questions and demand answers.FBI director James Comey said during a House Committee on Homeland Security hearing on Wednesday that the federal government does not have the ability to conduct thorough background checks on all of the 10,000 Syrian refugees that the Obama administration says will be allowed to come to the U.S. We can only query against that which we have collected,  Comey said in response to a line of questioning from Mississippi Rep. Bennie Thompson . And so if someone has never made a ripple in the pond in Syria in a way that would get their identity or their interest reflected in our database, we can query our database until the cows come home, but there will be nothing show up because we have no record of them. The Senate hearing on Syrian refugee resettlement took place on October 1, 2015 and is the first such hearing since 9/11. Can you believe that? I watched the entire hearing on CSPAN and couldn t believe the answers given to our Senators about refugee resettlement! The most important clip from the hearing is VERY IMPORTANT! Please watch the clip below where Matthew Emrich (Associate Director Department of Homeland Security-&gt;Fraud Detection and National Security Directorate) is hammered by Senator Jeff Sessions on the inability to vet refugees:</th>\n",
       "      <td>2</td>\n",
       "    </tr>\n",
       "    <tr>\n",
       "      <th>WASHINGTON (Reuters) - President Donald Trump’s weekend remark about a scaled-back tax cut for corporations sparked behind-the-scenes debate in the U.S. Congress, with a White House aide trying on Thursday to minimize the impact of the president’s comment. Two rival tax bills, passed separately by the Senate and the House of Representatives, propose cutting the U.S. corporate tax rate to 20 percent, but they differ in other areas that Republicans are trying to merge into final legislation. Speaking to reporters after the Senate approved its tax bill on Saturday, Trump said the corporate tax rate in the final legislation, expected soon from lawmakers, “could be 22 (percent) ... it could also be 20 (percent).” The remark whetted the interest of some Republicans who see a slight upward bump in the proposed corporate tax rate as  capturing needed federal revenue that would help solve other problems with the legislation, according to lobbyists.  “The 20 percent rate ought to be our goal,” said House Ways and Means Committee Chairman Kevin Brady, who is expected to head a bicameral House-Senate negotiating committee. “My view is the president is giving us flexibility in that area if it’s needed. No decision’s been made on if that’s needed,” the Texas Republican told reporters. But White House legislative affairs director Marc Short told Reuters on Thursday that Trump was not voicing support for a higher proposed corporate rate. Instead, he may have been only expressing views conveyed to him by Republican senators.  “I think he was just reflecting what conversations he had heard from them, but that ... wasn’t intended to signal: this is an endorsement of raising the corporate rate,” Short said. “We believe that 20 percent is the right number ... 20 percent is about as high as we feel comfortable going,” he said in an interview. Trump and his Republican allies have plenty riding on what happens over the next few weeks. A sweeping U.S. tax overhaul, which has not been achieved since 1986, would give Republicans their first major legislative victory of 2017, after their failure to overturn former President Barack Obama’s healthcare law. Without a win, Republicans fear they could lose their control of the House and Senate in the 2018 congressional elections. But it may be too late to avoid confusion over priorities as the tax debate moves forward in Congress. Lobbyists said many perceive that Trump and his advisers would accept a corporate rate higher than 20 percent. White House economic adviser Kevin Hassett said on Thursday that a 22 percent corporate rate would not undermine the economic boost that Republicans say tax cuts will create. Analysts say the corporate income tax rate could be a ready source of revenue for lawmakers, as they move toward a final bill that can lose no more than $1.5 trillion in revenue over the next decade under Senate rules. Republicans are considering a more costly deduction for state and local taxes than the $10,000 property tax deduction contained in the House and Senate bills. One version would allow taxpayers to choose a $10,000 deduction for either property or income taxes. House lawmakers also want to adopt the House bill’s repeal of the corporate alternative minimum tax, which would cost about $40 billion in revenue over a decade, according to the Joint Committee on Taxation. Senate retained the tax. A House limit on the amount of debt interest payments that businesses can deduct from their income would also cost about $136 billion more than the Senate version, the JCT said. Analysts say a one percentage point change in the corporate rate equals about $100 billion in revenues over a decade.</th>\n",
       "      <td>2</td>\n",
       "    </tr>\n",
       "  </tbody>\n",
       "</table>\n",
       "</div>"
      ],
      "text/plain": [
       "                                                    text\n",
       "WASHINGTON (Reuters) - U.S. Representative Mark...     2\n",
       "She burst on the scene last August when she ups...     2\n",
       "Watch:                                                 2\n",
       "LONDON (Reuters) - Back from Brussels with a ha...     2\n",
       "On September 15, Hillary  apparently  held a ra...     2\n",
       "BEIRUT (Reuters) - The battle for the city of R...     2\n",
       "AP News  The regulars amble in before dawn and ...     2\n",
       "Things didn t go as well as Nicholle had hoped ...     2\n",
       "Our FBI Director has testified once before in r...     2\n",
       "WASHINGTON (Reuters) - President Donald Trump’s...     2"
      ]
     },
     "execution_count": 69,
     "metadata": {},
     "output_type": "execute_result"
    }
   ],
   "source": [
    "duplicate_articles=pd.DataFrame(NonBlankArticles['text'].value_counts().loc[lambda x : x!=1])\n",
    "print(len(duplicate_articles),\" articles appear multiple times\")\n",
    "print(duplicate_articles['text'].sum()-len(duplicate_articles),\" articles are duplicates\")\n",
    "duplicate_articles.head(10)"
   ]
  },
  {
   "cell_type": "code",
   "execution_count": 70,
   "metadata": {},
   "outputs": [
    {
     "name": "stdout",
     "output_type": "stream",
     "text": [
      "340  titles appear multiple times\n",
      "376  titles are duplicates\n"
     ]
    },
    {
     "data": {
      "text/html": [
       "<div>\n",
       "<style scoped>\n",
       "    .dataframe tbody tr th:only-of-type {\n",
       "        vertical-align: middle;\n",
       "    }\n",
       "\n",
       "    .dataframe tbody tr th {\n",
       "        vertical-align: top;\n",
       "    }\n",
       "\n",
       "    .dataframe thead th {\n",
       "        text-align: right;\n",
       "    }\n",
       "</style>\n",
       "<table border=\"1\" class=\"dataframe\">\n",
       "  <thead>\n",
       "    <tr style=\"text-align: right;\">\n",
       "      <th></th>\n",
       "      <th>title</th>\n",
       "    </tr>\n",
       "  </thead>\n",
       "  <tbody>\n",
       "    <tr>\n",
       "      <th>Factbox: Trump fills top jobs for his administration</th>\n",
       "      <td>14</td>\n",
       "    </tr>\n",
       "    <tr>\n",
       "      <th>Factbox: Contenders for senior jobs in Trump's administration</th>\n",
       "      <td>8</td>\n",
       "    </tr>\n",
       "    <tr>\n",
       "      <th>Factbox: International reaction to arrest of Reuters reporters in Myanmar</th>\n",
       "      <td>6</td>\n",
       "    </tr>\n",
       "    <tr>\n",
       "      <th>Factbox: Contenders, picks for key jobs in Trump's administration</th>\n",
       "      <td>5</td>\n",
       "    </tr>\n",
       "    <tr>\n",
       "      <th>Factbox: Contenders for key jobs in Trump's administration</th>\n",
       "      <td>4</td>\n",
       "    </tr>\n",
       "    <tr>\n",
       "      <th>Timeline: Zika's origin and global spread</th>\n",
       "      <td>4</td>\n",
       "    </tr>\n",
       "    <tr>\n",
       "      <th>Contenders, picks for key jobs in Trump's administration</th>\n",
       "      <td>3</td>\n",
       "    </tr>\n",
       "    <tr>\n",
       "      <th>Factbox: Why the Zika virus is causing alarm</th>\n",
       "      <td>3</td>\n",
       "    </tr>\n",
       "    <tr>\n",
       "      <th>Factbox: Countdown to Brexit breakthrough?</th>\n",
       "      <td>3</td>\n",
       "    </tr>\n",
       "    <tr>\n",
       "      <th>Factbox: The race to the U.S. presidential nominations: How delegates are selected</th>\n",
       "      <td>3</td>\n",
       "    </tr>\n",
       "  </tbody>\n",
       "</table>\n",
       "</div>"
      ],
      "text/plain": [
       "                                                    title\n",
       "Factbox: Trump fills top jobs for his administr...     14\n",
       "Factbox: Contenders for senior jobs in Trump's ...      8\n",
       "Factbox: International reaction to arrest of Re...      6\n",
       "Factbox: Contenders, picks for key jobs in Trum...      5\n",
       "Factbox: Contenders for key jobs in Trump's adm...      4\n",
       "Timeline: Zika's origin and global spread               4\n",
       "Contenders, picks for key jobs in Trump's admin...      3\n",
       "Factbox: Why the Zika virus is causing alarm            3\n",
       "Factbox: Countdown to Brexit breakthrough?              3\n",
       "Factbox: The race to the U.S. presidential nomi...      3"
      ]
     },
     "execution_count": 70,
     "metadata": {},
     "output_type": "execute_result"
    }
   ],
   "source": [
    "duplicate_titles=pd.DataFrame(NonBlankArticles['title'].value_counts().loc[lambda x : x!=1])\n",
    "print(len(duplicate_titles),\" titles appear multiple times\")\n",
    "print(duplicate_titles['title'].sum()-len(duplicate_titles),\" titles are duplicates\")\n",
    "duplicate_titles.head(10)"
   ]
  },
  {
   "cell_type": "markdown",
   "metadata": {},
   "source": [
    "#### Articles with blank text"
   ]
  },
  {
   "cell_type": "markdown",
   "metadata": {},
   "source": [
    "Let's look at the length of the titles of these articles - it's possible the body of text has got shifted into this column."
   ]
  },
  {
   "cell_type": "code",
   "execution_count": 6,
   "metadata": {},
   "outputs": [
    {
     "name": "stderr",
     "output_type": "stream",
     "text": [
      "C:\\Users\\patri\\anaconda3\\lib\\site-packages\\ipykernel_launcher.py:1: SettingWithCopyWarning: \n",
      "A value is trying to be set on a copy of a slice from a DataFrame.\n",
      "Try using .loc[row_indexer,col_indexer] = value instead\n",
      "\n",
      "See the caveats in the documentation: https://pandas.pydata.org/pandas-docs/stable/user_guide/indexing.html#returning-a-view-versus-a-copy\n",
      "  \"\"\"Entry point for launching an IPython kernel.\n"
     ]
    },
    {
     "data": {
      "text/html": [
       "<div>\n",
       "<style scoped>\n",
       "    .dataframe tbody tr th:only-of-type {\n",
       "        vertical-align: middle;\n",
       "    }\n",
       "\n",
       "    .dataframe tbody tr th {\n",
       "        vertical-align: top;\n",
       "    }\n",
       "\n",
       "    .dataframe thead th {\n",
       "        text-align: right;\n",
       "    }\n",
       "</style>\n",
       "<table border=\"1\" class=\"dataframe\">\n",
       "  <thead>\n",
       "    <tr style=\"text-align: right;\">\n",
       "      <th></th>\n",
       "      <th>title</th>\n",
       "      <th>text</th>\n",
       "      <th>subject</th>\n",
       "      <th>date</th>\n",
       "      <th>IsFake</th>\n",
       "      <th>titlelengthwords</th>\n",
       "    </tr>\n",
       "  </thead>\n",
       "  <tbody>\n",
       "    <tr>\n",
       "      <th>11922</th>\n",
       "      <td>LEFTIST FREAKS OPENLY CALL For Non-Peaceful In...</td>\n",
       "      <td></td>\n",
       "      <td>politics</td>\n",
       "      <td>Jan 13, 2017</td>\n",
       "      <td>1</td>\n",
       "      <td>34</td>\n",
       "    </tr>\n",
       "    <tr>\n",
       "      <th>19316</th>\n",
       "      <td>LEFTIST FREAKS OPENLY CALL For Non-Peaceful In...</td>\n",
       "      <td></td>\n",
       "      <td>left-news</td>\n",
       "      <td>Jan 13, 2017</td>\n",
       "      <td>1</td>\n",
       "      <td>34</td>\n",
       "    </tr>\n",
       "    <tr>\n",
       "      <th>11465</th>\n",
       "      <td>A MUST WATCH! JUDGE NAPOLITANO: “For the first...</td>\n",
       "      <td></td>\n",
       "      <td>politics</td>\n",
       "      <td>Mar 8, 2017</td>\n",
       "      <td>1</td>\n",
       "      <td>33</td>\n",
       "    </tr>\n",
       "    <tr>\n",
       "      <th>16212</th>\n",
       "      <td>A MUST WATCH! JUDGE NAPOLITANO: “For the first...</td>\n",
       "      <td></td>\n",
       "      <td>Government News</td>\n",
       "      <td>Mar 8, 2017</td>\n",
       "      <td>1</td>\n",
       "      <td>33</td>\n",
       "    </tr>\n",
       "    <tr>\n",
       "      <th>11343</th>\n",
       "      <td>POLITICAL HACK DIANNE FEINSTEIN Makes a Fool o...</td>\n",
       "      <td></td>\n",
       "      <td>politics</td>\n",
       "      <td>Mar 21, 2017</td>\n",
       "      <td>1</td>\n",
       "      <td>31</td>\n",
       "    </tr>\n",
       "    <tr>\n",
       "      <th>...</th>\n",
       "      <td>...</td>\n",
       "      <td>...</td>\n",
       "      <td>...</td>\n",
       "      <td>...</td>\n",
       "      <td>...</td>\n",
       "      <td>...</td>\n",
       "    </tr>\n",
       "    <tr>\n",
       "      <th>12286</th>\n",
       "      <td>MARCO RUBIO Weighs In On Castro’s Death: “He d...</td>\n",
       "      <td></td>\n",
       "      <td>politics</td>\n",
       "      <td>Nov 27, 2016</td>\n",
       "      <td>1</td>\n",
       "      <td>19</td>\n",
       "    </tr>\n",
       "    <tr>\n",
       "      <th>21787</th>\n",
       "      <td>(VIDEO) PAM GELLER HAMMERS CNN HOST: “Did Chri...</td>\n",
       "      <td></td>\n",
       "      <td>left-news</td>\n",
       "      <td>May 4, 2015</td>\n",
       "      <td>1</td>\n",
       "      <td>19</td>\n",
       "    </tr>\n",
       "    <tr>\n",
       "      <th>11305</th>\n",
       "      <td>INTEL WHISTLEBLOWER: Trump was likely spied on...</td>\n",
       "      <td></td>\n",
       "      <td>politics</td>\n",
       "      <td>Mar 25, 2017</td>\n",
       "      <td>1</td>\n",
       "      <td>18</td>\n",
       "    </tr>\n",
       "    <tr>\n",
       "      <th>19656</th>\n",
       "      <td>LOL! LIBERALS ACCUSE MAN Of Voter Intimidation...</td>\n",
       "      <td></td>\n",
       "      <td>left-news</td>\n",
       "      <td>Nov 9, 2016</td>\n",
       "      <td>1</td>\n",
       "      <td>18</td>\n",
       "    </tr>\n",
       "    <tr>\n",
       "      <th>12319</th>\n",
       "      <td>TUCKER CARLSON GRILLS A “TESTY” KARL ROVE: How...</td>\n",
       "      <td></td>\n",
       "      <td>politics</td>\n",
       "      <td>Nov 23, 2016</td>\n",
       "      <td>1</td>\n",
       "      <td>18</td>\n",
       "    </tr>\n",
       "  </tbody>\n",
       "</table>\n",
       "<p>100 rows × 6 columns</p>\n",
       "</div>"
      ],
      "text/plain": [
       "                                                   title text  \\\n",
       "11922  LEFTIST FREAKS OPENLY CALL For Non-Peaceful In...        \n",
       "19316  LEFTIST FREAKS OPENLY CALL For Non-Peaceful In...        \n",
       "11465  A MUST WATCH! JUDGE NAPOLITANO: “For the first...        \n",
       "16212  A MUST WATCH! JUDGE NAPOLITANO: “For the first...        \n",
       "11343  POLITICAL HACK DIANNE FEINSTEIN Makes a Fool o...        \n",
       "...                                                  ...  ...   \n",
       "12286  MARCO RUBIO Weighs In On Castro’s Death: “He d...        \n",
       "21787  (VIDEO) PAM GELLER HAMMERS CNN HOST: “Did Chri...        \n",
       "11305  INTEL WHISTLEBLOWER: Trump was likely spied on...        \n",
       "19656  LOL! LIBERALS ACCUSE MAN Of Voter Intimidation...        \n",
       "12319  TUCKER CARLSON GRILLS A “TESTY” KARL ROVE: How...        \n",
       "\n",
       "               subject          date  IsFake  titlelengthwords  \n",
       "11922         politics  Jan 13, 2017       1                34  \n",
       "19316        left-news  Jan 13, 2017       1                34  \n",
       "11465         politics   Mar 8, 2017       1                33  \n",
       "16212  Government News   Mar 8, 2017       1                33  \n",
       "11343         politics  Mar 21, 2017       1                31  \n",
       "...                ...           ...     ...               ...  \n",
       "12286         politics  Nov 27, 2016       1                19  \n",
       "21787        left-news   May 4, 2015       1                19  \n",
       "11305         politics  Mar 25, 2017       1                18  \n",
       "19656        left-news   Nov 9, 2016       1                18  \n",
       "12319         politics  Nov 23, 2016       1                18  \n",
       "\n",
       "[100 rows x 6 columns]"
      ]
     },
     "execution_count": 6,
     "metadata": {},
     "output_type": "execute_result"
    }
   ],
   "source": [
    "BlankTextArticles[\"titlelengthwords\"]=BlankTextArticles[\"title\"].apply(lambda x: len(x.split()))\n",
    "BlankTextArticles.sort_values('titlelengthwords',ascending=False).head(100)"
   ]
  },
  {
   "cell_type": "markdown",
   "metadata": {},
   "source": [
    "None of the titles seem to have enough words to be the actual body of the article - although some of them are quite long for a headline!\n",
    "\n",
    "Now let's check what's in the text of some of these titles"
   ]
  },
  {
   "cell_type": "code",
   "execution_count": 73,
   "metadata": {},
   "outputs": [
    {
     "data": {
      "text/plain": [
       "array(['Graphic: Supreme Court roundup',\n",
       "       'TAKE OUR POLL: Who Do You Think President Trump Should Pick To Replace James Comey?',\n",
       "       'Joe Scarborough BERATES Mika Brzezinski Over “Cheap Shot” At Ivanka Trump: “You don’t have to be so snotty!” [VIDEO]',\n",
       "       'WATCH TUCKER CARLSON Scorch Sanctuary City Mayor: “Don’t you believe in laws?” [Video]',\n",
       "       'MAYOR OF SANCTUARY CITY: Trump Trying To Make Us “Fugitive Slave Catchers” [Video]',\n",
       "       'SHOCKER: Public School Turns Computer Lab Into Mosque…Bars Non-Muslim Students [Video]',\n",
       "       'BOOM! SEAN SPICER: “Trump Sold Hotels In Russia While Hillary Clinton Sold Uranium”',\n",
       "       'MICHAEL FLYNN’S LAWYER Releases Statement Scorching “Highly Politicized Witch Hunt”',\n",
       "       'ROB SCHNEIDER Nails The Russia Conspiracy Theorists In One Hysterical Tweet',\n",
       "       'TREY GOWDY ON SPYING ON AMERICAN CITIZENS…Like President Trump! [Video]',\n",
       "       'SEAN SPICER CALLS OUT Race Baiting Journalist: “Stop Shaking Your Head Again” [Video]',\n",
       "       'BOOM! TREY GOWDY Shoots Down Outrage Over Intel Chair Briefing Trump on Spying: “If that’s a big deal…we’ve sunk to a new low” [Video]',\n",
       "       'UNREAL! CBS’S TED KOPPEL Tells Sean Hannity He’s “Bad for America” [Video]',\n",
       "       'SENIOR CIA INTEL: “Wiretapping of Trump Transition Team Worse Than Watergate” [Video]',\n",
       "       'THE HORRIBLE END GAME: BERNIE SANDERS Calls for Socialized Medicine aka Single-Payer Healthcare [Video]',\n",
       "       'REINCE PRIEBUS INTERVIEW: Is Speaker Ryan to Blame for Health Care Bill’s Deafeat? [Video]',\n",
       "       'FAKE NEWS ALERT! FORMER GOV OF MARYLAND Calls for Boycott of Trump Party for Totally FAKE Reasons [Video]',\n",
       "       'THE JUDGE HITS THE STREETS TO ASK: Whose Fault is it That The Healthcare Bill Died? [Video]',\n",
       "       'JUDGE JEANINE ON FIRE: “Paul Ryan Needs to Step Down as House Speaker” [Video]',\n",
       "       'LAWYER FOR ILLEGAL ALIEN RAPISTS: “Hysteria” Over Rape of 14-Year Old Caused by Trump [Video]',\n",
       "       'NEWT GINGRICH: If this had been one of Trump’s hotels…there’d be a lot of personnel changes tonight!” [Video]',\n",
       "       'OUTRAGEOUS! NANCY PELOSI Claims Obamacare Honors “Vision of Our Founders” [Video]',\n",
       "       'INTEL WHISTLEBLOWER: Trump was likely spied on for some time…too easy for Americans to be spied on [Video]',\n",
       "       'WATCH FULL RESPONSE FROM TRUMP AFTER OBAMACARE VOTE: “Obamacare will explode…Pelosi and Schumer own it” [Video]',\n",
       "       'NANCY PELOSI Tries to Lead Democrats in Chants on Obamacare…Epic Fail! [Video]',\n",
       "       'HOUSE INTEL CHAIR ON OBAMA ADMINISTRATION SPYING: “Surveillance reports I’ve seen are concerning” [VIDEO]',\n",
       "       'FAKE CNN and MSNBC Caught Claiming “LIVE” Guest…But They Aired at the Same Time [Video]',\n",
       "       'SEAN SPICER HITS LAME CNN: “Let’s actually look at what CNN reported.” [Video]',\n",
       "       'BRILLIANT! TUCKER CARLSON and AYAAN HIRSI ALI Discuss Terrorism and Trump’s Travel Order: He’s right about the danger of radical Islam [Video]',\n",
       "       'NANCY PELOSI ASKED: Who’s the Leader of the Dems?…Any Guesses? Soros? [Video]',\n",
       "       '‘ANGEL’ MOMS of Sons Killed by Illegals Weigh in on Rockville Rape of 14-Year Old by Illegals: “This poor child is scarred forever” [Video]',\n",
       "       'WHICH ONE OF THESE PEOPLE Tried to Lecture the Other on the Constitution….Guesses? [VIDEO]',\n",
       "       'POLITICAL HACK DIANNE FEINSTEIN Makes a Fool of Herself in Questioning Supreme Court Nominee Who Shoots Back: “I have participated in more than 2,700 opinions over the last 10 years.” [Video]',\n",
       "       'TRUTH! Sara Carter is a Gem of a Reporter: “No Evidence of Trump or Trump Team Collusion and Russia or Russia Hacking” [Video]',\n",
       "       'FAKE NEWS! MAXINE WATERS and JOY REID Make Outrageous Claims Against President Trump “Will make sure poor people aren’t getting too much from government”',\n",
       "       'TREY GOWDY Reminds Comey It’s 10 years in jail for Obama Officials Who LEAKED Info [Video]',\n",
       "       'DEMOCRAT ALAN DERSHOWITZ Calls Out Court’s Ruling on Travel Order: If Obama had issued same ban, It would’ve been upheld [Video]',\n",
       "       'SHARE THIS EVERYWHERE! DISEASED REFUGEES Get SSN and Passport Upon Arrival to the U.S. [Video]',\n",
       "       'CNN’S FAREED ZAKARIA Busts Out a Profanity Filled Rant Against Trump [Video]',\n",
       "       'NIGEL FARAGE ON TRUMP/MERKEL POWWOW: Merkel’s decision for mass migration the “worst decision by European leader in 70 years” [Video]',\n",
       "       'JUDGE JEANINE SCORCHES JUDGE On Travel Ban Block: “Bottom Line” is Hawaiian Judge “Hates Donald Trump” [Video]',\n",
       "       'LIVE FEED: PRESIDENT TRUMP IN TENNESSEE: Nashville Rally and Speech On Healthcare [Video]',\n",
       "       'TEXAS CONGRESSMAN Lets Screaming Leftist Agitator Have It: “You sir, SHUT UP!” [Video]',\n",
       "       'KIMBERLY GUILFOYLE: Serious Legal Issues Surround Rachel Maddow Report On Trump’s 2005 Tax Return [Video]',\n",
       "       'FIREWORKS! THE VIEW’S CONSERVATIVE PANELIST Gets Into Heated Debate With Liberal Snowflake On Obamacare [Video]',\n",
       "       'NEWT GINGRICH ON WAR AGAINST TRUMP: “99% of State Dept. Donations Went to Hillary” [VIDEO]',\n",
       "       'SMART AS A WHIP! TRUMP BUDGET DIRECTOR Destroys CBO Report On Health Care Plan [VIDEO]',\n",
       "       'WATTERS’ WORLD: “Do you have Obamacare?”…”How does it work?” [Video]',\n",
       "       'HOME DEPOT CO-FOUNDER ON TRUMP: “This guy has guts and he’s got great people around him” [Video]',\n",
       "       'Young “TRUMP GIRL” Will Blow You Away: “We’re going to build a wall…and Mexico will pay for it”[VIDEO]',\n",
       "       'HILARIOUS! VIDEO Shows Pattern Of CNN Cutting News Feed When Guests Share Opposing Views',\n",
       "       'TEN INCIDENTS IN TEN DAYS That Prove TRUMP Right on Sweden’s Mass Muslim Migration Problem [VIDEO]',\n",
       "       'HYSTERICAL! WHINY LIB Claiming Assault Instantly Shot Down By Quick Thinking Congressman [Video]',\n",
       "       'SHOCKER! CNN POLITICAL DIRECTOR On Trump’s First 50 Days: ‘The business community could not be more enthusiastic’',\n",
       "       'HYSTERICAL! TODDLERS HIJACK LIVE INTERVIEW With Freaked Out Dad [Video]',\n",
       "       'MIKE HUCKABEE SCORCHES THE PRESS: “Grow up!…Start acting like journalists” [Video]',\n",
       "       'LOL! NANCY PELOSI: “I’m not sure if ironically is even a word” [Video]',\n",
       "       'OBNOXIOUS! ANDREA MITCHELL Physically Removed From Photo Op After Repeatedly Yelling Like A Toddler [Video]',\n",
       "       'A MUST WATCH! MONICA CROWLEY WARNS TRUMP: “These forces want to destroy him”…”This is a war!” [Video]',\n",
       "       'A MUST WATCH! JUDGE NAPOLITANO: “For the first time in the modern era the man in the Oval Office is an adversary of the Deep State and not a tool of it” [VIDEO]',\n",
       "       'CNN CUTS FEED Of CONGRESSMAN As Soon As He Speaks About Refugee Crime…Anchor Claims It’s “TV Gremlins” [Video]',\n",
       "       'ELEMENTARY SCHOOL STUDENTS Just Got A Big SURPRISE While Touring White House Today [VIDEO]',\n",
       "       'SHE’S GOT THE SCOOP! CATHERINE HERRIDGE: “Obama Put His Hands On The Scales Of Justice” [Video]',\n",
       "       'CHILLING! FOX REPORTER JAMES ROSEN Recounts Being Spied on by the Obama Mafia [Video]',\n",
       "       'MARK LEVIN Outlines Evidence Of Spying By Obama On Trump: “The evidence is overwhelming!” [Video]',\n",
       "       'VP PENCE OUTRAGED! The Associated Press Publishes His Wife’s Private Email Address',\n",
       "       'PRO-ILLEGAL ADVOCATE Accuses Jesse Watters Of Hate Speech for Saying ‘Illegal Immigrant’ [VIDEO]',\n",
       "       'ANTI-TRUMP ANARCHIST Explains Why She Hates Capitalism…Proves She’s A Clueless Moron [Video]',\n",
       "       'WHOA! TRUTH BOMB On Failed Muslim Integration: We’ve got “honor killings, child marriage and genital mutilation” [Video]',\n",
       "       'ADORABLE MELANIA TRUMP Fan Dressed Up for School Project…NAILS The First Lady’s Inauguration Look',\n",
       "       'Howard Dean: Democratic Party’s Tent Not Big Enough For Pro-Lifers But All About Social Justice [Video]',\n",
       "       'FIRST LADY Makes Surprise Visit to Hospital…Visits Children on Dr. Seuss Day [Video]',\n",
       "       'WOW! 83-YEAR OLD SENATOR Challenged By Teen To Do Push-Up Contest…Who Wins? [Video]',\n",
       "       'FATHER OF SON KILLED BY ILLEGAL Speaks Up On Democrats: “I ignore them like they ignore me” [Video]',\n",
       "       'WATCH SOUR GRAPES NANCY PELOSI Refuse to Stand for American Job Creation [Video]',\n",
       "       'WATCH: Widow of Slain Navy SEAL William Ryan Owens Receives Incredible Standing Ovation During Pres. Trump’s Speech [Video]',\n",
       "       'LIVE FEED-LIVE CHAT: PRESIDENT TRUMP Addresses A Joint Session Of Congress – 9:10 pm ET [Video]',\n",
       "       'DNC CHAIR Vows To Build Party In All *57* States…Oops! Did He Go To School With Obama? [Video]',\n",
       "       'HOUSE INTEL CHAIR On Trump-Russia Fake Story: “No evidence of anything” [Video]',\n",
       "       'Unreal! CNN Anchor Claims Trump Has Committed “Treason”…Former Attorney General Shoots Back: “Where is the crime?” [Video]',\n",
       "       'SENATOR PUSHES To Remove Clinton’s Name From Airport [Video]',\n",
       "       'HYSTERICAL! JESSE WATTERS Busts The Idiotic “White Privilege” Trend On Campus: “I don’t necessarily feel it” [Video]',\n",
       "       'TUCKER CALLS OUT College For Banning Whiteboards: “Why not ban pens?” [Video]',\n",
       "       'DEM CONGRESSMAN RATS OUT OWN PARTY: Discloses Who’s Paying Protesters At GOP Events [Video]',\n",
       "       'LIVE FEED: PRESIDENT TRUMP Speaks At CPAC – 10:00 a.m. EST',\n",
       "       'STEVE BANNON Explains Why The Press Will Relentlessly Continue To Attack Trump [Video]',\n",
       "       'PRESIDENT TRUMP PREDICTED THIS! Riots In Swedish Muslim No-Go Area Prove Trump’s Point [Video]',\n",
       "       'MELANIA TRUMP Recites The Lord’s Prayer At Florida Rally…Crowd Loves It! [Video]',\n",
       "       'PEGGY HUBBARD BLASTS Priorities Of Al Sharpton, Black Lives Matter: “For The First Time In My Life, I’m Ashamed To Be Black…We Wanna Holler ‘Police Brutality’…We Are The Brutal Race!” [VIDEO]',\n",
       "       'LIVE FEED OF TRUMP RALLY: CHECK OUT THE LINE To Get Into PRESIDENT TRUMP’S MASSIVE RALLY! [VIDEO]',\n",
       "       'EPIC! CNN ANCHOR DON LEMON Cuts Interview After Guest Says: “This is a fake news story” [Video]',\n",
       "       'PRICELESS! GRANDPA TRUMP Leaves The White House With The Grandkids [Video]',\n",
       "       'FANTASTIC! Watch Boeing Employees Chant “USA USA USA!” During Intro of President Trump [Video]',\n",
       "       'THE PEOPLE’S PRESIDENT: Trump Meets With Coal Workers To Fulfill Campaign Promise [Video]',\n",
       "       'CLASS ACT! WATCH THE TODAY SHOW’S MATT LAUER Get Shot Down By Trump’s Friend New England Patriots Owner Bob Craft [Video]',\n",
       "       'THIS IS GREAT! You’ll Love What Joy Villa Wants To Do With Her MAGA Grammys Dress [Video]',\n",
       "       'SECURITY ANALYST ON MIKE FLYNN PHONE CALL LEAKS: “I would say the Obama White House is directly involved in this” [Video]',\n",
       "       'FLASHBACK: CHICAGO RESIDENT Blasts Chicago Mayor: “This mayor doesn’t care about black people!” [Video]',\n",
       "       'NOTE TO SATURDAY NIGHT LIVE: Making Fun Of Trump Isn’t Brave Or Funny! [Video]',\n",
       "       'LOL! HIGH SCHOOL STUDENTS Skip School To Protest Trump’s Temporary Travel Ban…Hilarity Ensues When They Try To Explain Ban To Jesse Watters [VIDEO]',\n",
       "       'CENSORED: CRANKY BERNIE Calls CNN “Fake News” During Interview…CNN Cuts Mic: “Are we on?” [VIDEO]',\n",
       "       'JESSE WATTERS Takes On Young Anti-Trump Protesters: “He said that black people are ignorant” [Video]',\n",
       "       'HANDS ON! DHS SECRETARY JOHN KELLY TOURS BORDER: “Stunned” that local officials harboring criminal illegals [VIDEO]',\n",
       "       'EDUCATION SECRETARY BLOCKED And Harrassed Trying To Enter D.C. School [Video]',\n",
       "       'STRAIGHT FROM THE HEART! Pres. Trump Speaks To LEO’s About Executive Order: “I listened to a bunch of stuff last night on television that was disgraceful.” [Video]',\n",
       "       'TIME TRAVELER NANCY PELOSI Says She Just Can’t Work With…President Bush??? [Video]',\n",
       "       '“Your rights are NOT superior to mine!” JUDGE JEANINE PIRRO Lets The Berkeley Protesters Have It! [Video]',\n",
       "       'LOVIN’ IT! ARIZONA DUNKIN’ DONUTS Stirs It Up With TRUMP WALL Donuts [Video]',\n",
       "       'BOLD! HOLLYWOOD ACTOR Speaks Up For Trump…Tells Anti-Trump Crowd To Knock It Off [Video]',\n",
       "       'BREAKING VIDEO: ORRIN HATCH Just Told Dems To “Stop Posturing” And “Stop Acting Like Idiots” [Video]',\n",
       "       'BOOM! This One Picture Will Show You the Difference Between President Trump and President Obama',\n",
       "       'GREAT! TRUMP ADVISOR Hits Back At Sen. Liz Warren On Trump Order: Entitled to her own opinion but not her own Constitution [Video]',\n",
       "       'IT’S NOT A “MUSLIM BAN” You Big Dummies! [VIDEO]',\n",
       "       'TRUMP CHIEF OF STAFF Goes At It With Liberal Hack Chuck Todd: We won’t apologize for keeping Americans safe [Video]',\n",
       "       'JUDGE JEANINE: LIKE IT OR NOT…Laws Are Being Enforced! [Video]',\n",
       "       '#FireBenStein FOX NEWS’ BEN STEIN Calls President Trump “Bozo the Clown”…”Chuckles the Clown” [Video]',\n",
       "       'BORDER PATROL AGENT Tells Of Shocking Obama Border Policy: “They are released with a bus ticket and a work permit” [Video]',\n",
       "       'TOMI LAHREN: “AFTER 8 YEARS…We were part of a different march…we marched into the voting booth to vote for TRUMP!” [Video]',\n",
       "       'WATCH ANTI-TRUMP SNOWFLAKE Get A Smackdown From A Black Trump Supporter: “Black Lives Matter is a terrorist organization!” [Video]',\n",
       "       'YOUNG GIRL KICKED OUT Of Women’s March For Wearing Trump Hat [VIDEO]',\n",
       "       'TRUMP COMES OUT SWINGING: Watch Announcement On Taxes And Regulation…This Leader Means Business! [Video]',\n",
       "       'HARSH AND TRUE! TOP TEN Reasons Obama Was The WORST President EVER! [Video]',\n",
       "       'WATCH! Clueless Anti-Trump “Protesters” Asked Why They’re Protesting Give Hysterical Answers [Video]',\n",
       "       'FUNNIEST INAUGURATION MOMENT: WATCHING Reaction Of Dick Cheney, As George W. Bush Tries To Put On A Rain Poncho…PRICELESS! [VIDEO]',\n",
       "       'TRANSCRIPT AND VIDEO Of President Trump’s Inauguration Speech: “January 20th 2017, will be remembered as the day the people became the rulers of this nation again”',\n",
       "       'AWKWARD! CAMERAS CATCH HILLARY Catching Bill Clinton Checking Out Melania During Trump’s Inauguration [VIDEO]',\n",
       "       'LIVE FEED: INAUGURATION 2017!',\n",
       "       'TRUMP BRINGS LOVE FOR AMERICA BACK TO DC! President-Elect Trump Wows Crowd With Awesome Speech At Union Station [VIDEO]',\n",
       "       'OUTSTANDING! WATCH Lee Greenwood Sing ‘God Bless The USA’ And Trump’s Reaction After [Video]',\n",
       "       'WATCH MAJOR MOMENT President-elect Trump And Entire Family Arrive In D.C. [Video]',\n",
       "       'BEYOND SICK! CNN Runs Segment To Explain How Obama Appointee Will Take Over As President If Both Trump And Pence Are Assassinated At Inauguration [VIDEO]',\n",
       "       'WHAT’S WRONG WITH THIS PICTURE? 5 Anti-Trump Activists On Magazine Cover Just Made Us Detest Them Even More',\n",
       "       'MUST SEE VIDEO! Great Final Campaign Rally Moments: “We started a year and a half ago and now we have one flawed candidate to beat” [Video]',\n",
       "       'BEST TWEET OF THE WEEK: “Hillary For Sale!”',\n",
       "       'CNN CONTRIBUTOR: Trump’s Diversity Coalition ‘Mediocre Negroes’ ‘Dragged In’ ‘As a Photo-Op’ [VIDEO]',\n",
       "       'BRAVO! TRUMP’S INAUGURAL BISHOP SPEAKS OUT: “I’ve been called a sellout” BUT “We’re supposed to love everyone!” [Video]',\n",
       "       'LAUGHABLE! MAXINE WATERS On Why She Wants To Impeach Trump [Video]',\n",
       "       'DR MARTIN LUTHER KING’S NIECE: “I believe that Congressman Lewis can actually help America by working with the President”',\n",
       "       'AMEN! BLACK PASTOR Who Marched With Rep. Lewis Denounces Black Lawmakers For Delegitimizing Trump: “On the wrong side of history” [Video]',\n",
       "       'WATCH Life Accordion To Trump! [VIDEO]',\n",
       "       'WOW! ANGRY NANCY PELOSI Calls Defunding PLANNED PARENTHOOD A “Manhood Thing” [Video]',\n",
       "       'YES! JUDGE JEANINE HAMMERS Hollywood Lefty Rosie O’Donnell [Video]',\n",
       "       'BREAKING: TRUMP HITS BACK AT REP JOHN LEWIS Who Declared Trump’s Presidency “Illegitimate”',\n",
       "       'EPIC! TED CRUZ Reminds Crooked Dems About Their “Silence” While Obama And Regime Broke Multiple Laws For Past 8 Years [VIDEO]',\n",
       "       'LT GEN MCINERNEY’S Take On Trump Dossier And Clinton Emails: “Hillary Clinton has violated the espionage act…and should be tried for that”',\n",
       "       'LEFTIST FREAKS OPENLY CALL For Non-Peaceful Inauguration Actions: “We Are Not In Favor Of A Peaceful Transition Of Power…After The Election, You Saw This Great Spontaneous Upsurge In Spontaneous Anger In The Streets” [VIDEO]',\n",
       "       '“BIKERS FOR TRUMP” Vow To Defend Trump During Inauguration Day…Plan Celebration! [Video]',\n",
       "       'RADICAL ERIC HOLDER STIRS THE POT…Claims Republicans Won Election By “Rigging The System” [Video]',\n",
       "       'Valerie Jarrett Gives Most Hateful Exit Interview To Greta Van Susteren…You Won’t Want To Miss It!',\n",
       "       'HERE’S WHY MEGA BAND U2 Is Blaming TRUMP For Delay Of Release Of New Album [Video]',\n",
       "       '“LITTLE” MARCO RUBIO GRILLS Trump’s Secretary Of State Nominee Like A Chihuahua Biting The Ankles Of Andre The Giant [Video]',\n",
       "       '“YOU ARE FAKE NEWS!” TRUMP DESTROYS CNN Right In The Middle Of Press Conference [VIDEO]',\n",
       "       'SICKENING! MTV HOST MOCKS Senator Jeff Sessions’ Asian Grandchildren',\n",
       "       'DEFIANT DEMOCRATS Announce Effort To Rehang Painting Depicting Police As Pigs..On Police Appreciation Day [Video]',\n",
       "       'FLASHBACK: PRESIDENT-ELECT DONALD TRUMP Sings The Green Acres Theme Song…What A Good Sport! [Video]',\n",
       "       'TRUTH BOMB! PAUL RYAN SETS THE DEMS STRAIGHT ON HACKING SCAM: “This is clearly an attempt by democrats to delegitimize Trump”…”He won fair and square” [Video]',\n",
       "       'WHINING MICHELLE OBAMA: “People Don’t Understand How Hard This Is” [Video]',\n",
       "       'BREAKING: Paul Ryan Makes A HUGE Announcement About Planned Parenthood [Video]',\n",
       "       'WIKILEAKS HITS BACK At Lying Political Hack James Clapper…Testimony On The Hill Highly Partisan! [Video]',\n",
       "       'WHAT DID SHE JUST SAY? NANCY PELOSI Spits Out Word Salad During Press Conference On Obamacare [Video]',\n",
       "       'JULIAN ASSANGE REVEALS John Podesta’s Hilarious Email Password…”A 14 Year Old Kid Could’ve Hacked Podesta” [VIDEO]',\n",
       "       'BREAKING: FORD ANNOUNCES $700 Million U.S. Investment…Jobs, Jobs, Jobs! [VIDEO]',\n",
       "       'EPIC TUCKER CARLSON! Liberal Hack Demolished For Claim About Russian Hacking And Trump’s Response [Video]',\n",
       "       'BOOM! TOMI LAHREN’S Top Tips For Liberals In 2017 [VIDEO]',\n",
       "       'YES, OBAMA…There Is A Magic Wand! [Video]',\n",
       "       'LIBERALS SEE THE LIGHT! HuffPo Columnist LETS IT RIP On The Obama “Destruction” Of The Democrats [Video]',\n",
       "       'WHERE’S HILLARY? CLINTON SPOTTED Dining Alone',\n",
       "       'TRUMP ANNOUNCES Two More Companies Join “America First” Job’s Campaign…8,000 JOBS! [VIDEO]',\n",
       "       'TWEET OF THE DAY: Hillary…The Price Of Failure',\n",
       "       'PURE CLASS: ISRAEL’S Netanyahu Shares Powerful Christmas Message Of The Bond Between Christians And Jews [VIDEO]',\n",
       "       'SECURITY ANALYST: Letting Muslim Refugees In Is A “Suicide Pact” [Video]',\n",
       "       'HUMA ABEDIN AND HILLARY CLINTON Meet At New York Office…Did Hillary Wear The Drapes Home?',\n",
       "       'TRUMP’S GREAT ANSWER On Terror Attack: “It’s an attack on humanity” [Video]',\n",
       "       'MTV Releases Racist ‘Hey Fellow White Guy’s Video’…Social Media Goes Crazy! [Video]',\n",
       "       'PLAYING POLITICS? HERE’S WHY A JUDGE Will Unseal A Clinton Search Warrant [Video]',\n",
       "       'LIBERAL LOSER Screams “This is my America!” After Electors Vote TRUMP [Video]',\n",
       "       'OFFENSIVE SATANIC DISPLAY Allowed Next To Nativity In Florida Town [Video]',\n",
       "       'COLLEGE STUDENTS ASKED TO SIGN A Petition Canceling Christmas…Did They Agree? [Video]',\n",
       "       'KELLYANNE CONWAY Destroys CBS Anchor In Discussion On Russian Hacking [Video]',\n",
       "       '“So Rude!” Nancy Pelosi’s Daughter Blasted By Maria Bartiromo [Video]',\n",
       "       'PUTZ OBAMA Calls Electoral College A ‘Vestige’ Of An ‘Earlier time In America’',\n",
       "       'EPIC! JUDGE JEANINE PIRRO Rips Into Michelle Obama Over Remark On Loss Of Hope Since Election Of Trump [Video]',\n",
       "       'GREAT! TRUMP RESPONDS TO MICHELLE OBAMA’S Claim That Americans Have Lost Hope Since The Election [Video]',\n",
       "       'TRUMP ARRIVES IN MOBILE, ALABAMA TO SAY THANKS…Obama Vacations For 17 Days In Hawaii [Video]',\n",
       "       'TOP POLLSTER: Trump Could Create Permanent Majority…Change Politics As We Know It [Video]',\n",
       "       'ARNOLD SCHWARZENEGGER Sends A Message To Liberals Whining About Trump [Video]',\n",
       "       'OOPS! ATTORNEY GENERAL LYNCH Slips Up: No Sign Of ‘Technical Interference’ From The Russians',\n",
       "       'TRUMP REVEALS: “I thought I was going to lose on election night” [Video]',\n",
       "       'EPIC CONSERVATIVE Take Down After CNN Ambush Of Radio Host [Video]',\n",
       "       'MICHIGAN ELECTOR Receives Violent Death Threats From Angry Democrats [Video]',\n",
       "       'UNHINGED! NANCY PELOSI’S DAUGHTER Blows Up At Cavuto Claiming She’s Getting Death Threats [Video]',\n",
       "       'GEORGE STEPHANOPOULOS’ Wife Tells ‘The View’ Their Daughters Are Scared And Sleeping With Them After Election [Video]',\n",
       "       'WOW! FORMER AMBASSADOR TO RUSSIA Lists Failures Of OBAMA in Syria [VIDEO]',\n",
       "       'THE VIEW WOMEN Go Off The Rails: Trump ‘has to step down before the inauguration’ [Video]',\n",
       "       '“THE LEFT IS WILLING To Risk Civil War In America, Nuclear War With Russia Because They’re ‘Butt-hurt’ About Losing…Let That Sink In” [VIDEO]',\n",
       "       'ENERGY CO PRESIDENT: “There are no political hacks in this new administration” [VIDEO]',\n",
       "       'MIKE ROWE ASKS: Why Are OUR Tax Dollars Funding Colleges That Burn the Flag? [Video]',\n",
       "       'U.S. STEEL CEO Makes Huge Jobs Announcement…We’re Winning Big! [Video]',\n",
       "       'DONALD TRUMP TIME PERSON OF THE YEAR: “The revolution he stirred feels fully American”',\n",
       "       'LIVE FEED: Trump “Thank You” Tour In NC With Ret. General James Mattis [Video]',\n",
       "       'ROSIE O’DONNELL Gets A Tongue Lashing For Her Attack On Barron Trump: “Why Don’t You Worry About Your Own Children, And Why They Don’t Want To Be With You” [VIDEO]',\n",
       "       'LOU DOBBS Speaks Out On Trump, China And Taiwan [Video]',\n",
       "       'TRUMP TWEETS CRITICISM OF CHINA: Reminds The World “America-First” Is A Policy…Not A Suggestion',\n",
       "       'CHRIS WALLACE CALLS OUT JILL STEIN: ‘Where do you get off saying the American people need a recount?’ [Video]',\n",
       "       'WOW! JILL STEIN’S ‘FIRESIDE CHAT’ Exposes Her Delusion On Recount [Video]',\n",
       "       'WATCH TUCKER CARLSON Face Off With New York Times Editor Who Claims “High Journalistic Standards” At The Liberal Rag [Video]',\n",
       "       'Ohio State University Student Says Terrorist Attack Was “Misunderstanding” Caused By Racism [VIDEO]',\n",
       "       'LIBERAL TREVOR NOAH Didn’t Count On Conservative Tomi Lahren Destroying Him On His Own Show…But That’s Exactly What She Did! [VIDEO]',\n",
       "       'TRUMP SLAMS THE GLOBALISTS: “There is no global anthem…We pledge allegiance to one flag” [Video]',\n",
       "       'HILARIOUS TRUMP CHRISTMAS VIDEO: “It’s The Most Wonderful Time In 8 Years” [Video]',\n",
       "       'WATCH OUT FOR SLICK ANTI-GUN MOVIE Called “Miss Sloane”…A Gun Grabber’s Dream [Video]',\n",
       "       'CNN HOST Suggests Women Wear Muslim Headscarf To Show Solidarity With Muslims [Video]',\n",
       "       'OOPS! SEN COONS ADMITS REGRET MAKING IT EASIER To Confirm Cabinet With Obama [Video]',\n",
       "       'FOX HOST KENNEDY Gives Jill Stein An Earful: ‘Is This How You Want to Be Remembered?’ [Video]',\n",
       "       'WATTERS’ WORLD: What Would You Get Hillary Clinton Or Donald Trump For Christmas? [Video]',\n",
       "       'WOW! PRO-CASTRO LEFTIST: Cubans Fled Castro To Escape Annoying Wife And Family [Video]',\n",
       "       'TRUMP SPOTTED Wearing New Red Presidential Hat On His Trip Back To NYC …People Are Loving it!',\n",
       "       'SNARKY CHUCK TODD SNAPS AT KELLYANNE CONWAY For Criticizing The Press…Conway Strikes Back! [Video]',\n",
       "       'TRUMP ADVISOR: “If election results are overturned we will be looking at a civil war” [Video]',\n",
       "       'MARCO RUBIO Weighs In On Castro’s Death: “He did some horrifying things”…”Don’t make him into a folk hero” [Video]',\n",
       "       'PRESIDENT-ELECT TRUMP Works As A Waiter At His Own Hotel [Video]',\n",
       "       'BLACK FRIDAY SPECIAL: Computer Keyboard For Loony Radical Leftists',\n",
       "       'WILL GENERAL “MAD DOG” MATTIS Be Part Of Trump’s Team? Praise For “Superb Officer” From All Corners [Video]',\n",
       "       'SHERIFF CLARKE On Obama’s Final Days: “Obama’s Like A Tenant Who’s Been Evicted From A Property, And He’s Gonna Trash The Place On The Way Out The Door” [VIDEO]',\n",
       "       'BREAKING: MITT ROMNEY To Craft Apology To Trump? Signals Serious Interest In Cabinet Position [Video]',\n",
       "       'TUCKER CARLSON Demolishes Business Owner Who Won’t Do Business With Trump Supporters [Video]',\n",
       "       'SECURITY NIGHTMARE? TRUMP’S “MAR-A-LAGO”… A Trump-Restored Jewel [Video]',\n",
       "       'PRESIDENT-ELECT DONALD J TRUMP’S Thanksgiving Message To America [Video]',\n",
       "       'JIMMY KIMMEL: A Politically Correct Thanksgiving Pageant [Video]',\n",
       "       'GREAT! TEXAS CONGRESSMAN Rips Media After Election: “Has the media learned any lessons?” [Video]',\n",
       "       'TUCKER CARLSON GRILLS A “TESTY” KARL ROVE: How could you be so wrong about a Trump win? [Video]',\n",
       "       'UNHINGED LIBERAL Uses The ‘N-Word’ On Live TV To Try And Push False Narrative Of Alt-Right And Trump [Video]',\n",
       "       'DONALD TRUMP SKIPS MEDIA: Delivers Transition Update Straight To The People [Video]',\n",
       "       'STUNNING VIDEO: 80-Yr Old Man FORCED By Police To Provide Asylum For Refugees In Italian Hotel Against His Will',\n",
       "       'GENERAL FLYNN: The Right Stuff…You’re In Good Hands America! [Video]',\n",
       "       'DELUSIONAL OBAMA BLAMES “Fake News” For Hillary’s Big Election Loss [Video]',\n",
       "       'FUNNY! SNL’S SOLUTION To Democrat Election Denial: “Safe Space For Everyone” [Video]',\n",
       "       'JUDGE JEANINE Scorches Cast Of Hamilton: “Out and out reverse racism and teed up hate” [Video]',\n",
       "       'EPIC! TUCKER CARLSON Demolishes NYC Councilman Over Sanctuary Cities [Video]',\n",
       "       'ALMOST 100 YEARS LATER…Donald Trump Sounds A Lot Like Theodore Roosevelt On Immigration…And What It Means To Be An American [VIDEO]',\n",
       "       'BOOM! LIBERAL COLUMNIST Gets DESTROYED By Tucker Carlson When He Can’t Answer Why He Lied About Senator Jeff Sessions [VIDEO]',\n",
       "       'OUR CRYBABY COMMUNITY ORGANIZER Makes A Fool Of Himself In Germany…Thanks To Conservatives In Social Media [VIDEO]',\n",
       "       'SHOCKER! IS MITT ROMNEY Being Considered For A Trump Cabinet Position?',\n",
       "       'BOOM! The Truth About “FAKE NEWS” Websites: “The butt-hurt and the rigged media is desperate to salvage some scrap of credibility” [VIDEO]',\n",
       "       'OBAMA’S LIST OF 21 MEDAL OF FREEDOM Recipients Reads Like A Who’s Who Of The Far Left',\n",
       "       '“SUCK IT UP, BUTTERCUP!”…Iowa Lawmaker Names Best Bill Ever [Video]',\n",
       "       'TRUMP SETS THE RECORD STRAIGHT: Slams NYT Then Tweets Directly To Supporters',\n",
       "       'DANIEL HANNAN Tells “The Generation Of The Safe Spaces” To Get Over Themselves [Video]',\n",
       "       'WHAT DONALD TRUMP WILL DO For Christmas Now That He’s President-elect [Video]',\n",
       "       'AWESOME! JEWISH DEMOCRAT LEADER Hits Back At Harry Reid To Defend Trump Appointee: [Video]',\n",
       "       'WOW! WHITE Liberals Suggest Blacks Are Too Stupid To Get ID’s…Can’t Figure Out How To Use Internet [VIDEO]',\n",
       "       '60 MINUTES INTERVIEW: The Trump Family Nailed It Through Condescending Tone From “Media Queen” Leslie Stahl [Video]',\n",
       "       'EPIC LIBERAL SMACKDOWN: “Burning Up The Streets, Blocking Roads, Making People Late For Work…I’m Glad I Don’t Live In NYC, Washington, Oregon Because I’d Run Your A*S Over!” [VIDEO]',\n",
       "       'DWAYNE ‘THE ROCK’ JOHNSON’S Awesome Message To Americans After The Election: “Lead by example…We got this!”',\n",
       "       'JUDGE JEANINE PIRRO: “This wasn’t an election…it was a REVOLUTION!” [Video]',\n",
       "       'WATCH TRUMP’S LAST LAUGH: “Sorry to keep you waiting…complicated business” [Video]',\n",
       "       'COMEDY GOLD! LOCAL TV NEWS Traffic Reporter Shows Crybaby Hillary Supporters Easiest Route To Canada [VIDEO]',\n",
       "       'VICIOUS! PORTLAND RIOTERS ATTACK Pregnant Woman With Baseball Bat [Video]',\n",
       "       'WOW! ONE COURAGEOUS MAN Stands Against Rioters Holding Best Sign Ever!',\n",
       "       'JUDGE JEANINE PIRRO: Rioters Need To Pay The Price With Prosecution! [Video]',\n",
       "       'PORTLAND RIOTS: Is Obama Risking A Dangerous Game Of Violence And Anarchy? [Video]',\n",
       "       'SEATTLE CITY COUNCILWOMAN Incites Riot…Vows To Shut Down Trump Inauguration [Video]',\n",
       "       'ARROGANT OBAMA Might Want To Scrub This Video From The Internet: “At least I will go down as a president” [Video]',\n",
       "       'WOW! LIBERAL ELECTION FRAUD EXPERT: Trump Landslide Was Enough To Counter Potential Massive Voter Fraud Effort By Hillary Campaign [VIDEO]',\n",
       "       'IS THIS THE MOMENT THAT TRUMP DECIDED TO RUN FOR PRESIDENT? WATCH TRUMP As Cruel Jokes Are Made About A Possible Trump Presidency [Video]',\n",
       "       'DONALD TRUMP Sits On Obama’s Right…Why This Is Significant!',\n",
       "       'LOL! LIBERALS ACCUSE MAN Of Voter Intimidation For Reminding ILLEGAL ALIENS It’s Against The Law To Vote [VIDEO]',\n",
       "       'OBAMA’S COMMUNIST CRONY Van Jones Worries About What He’ll “Tell His Children” Now That America Won! [VIDEO]',\n",
       "       'CLUELESS? NEVADA POLL WORKERS BREAK THE LAW Wearing Illegal T-shirts',\n",
       "       'BILL CLINTON Spaces Out…Chews On His Tongue During Rally [Video]',\n",
       "       'YIKES! HILLARY GOES OFF THE RAILS…Pulls A Howard Dean [Video]',\n",
       "       'UNDERCOVER JOURNALIST In Burka Is Offered Huma Abedin’s Ballot [Video]',\n",
       "       'BREAKING: OBAMA CAUGHT ON LIVE TV Telling Illegal Aliens It’s OK To Vote…Promises The Law Will Not Come After You! [Video]',\n",
       "       'PHONY HILLARY PULLS THE WOMAN CARD AT JAY-Z/BEYONCE GIG: “We have a glass ceiling to crack…” [Video]',\n",
       "       'HYSTERICAL! TUCKER CARLSON Slams Geraldo For Putin Conspiracy Theory: “That’s just dumb!” [Video]',\n",
       "       'TRUMP ON TARGET: “We Don’t Need Jay Z To Fill Up Stadiums” [Video]',\n",
       "       'OBAMA UNHINGED AND ANGRY: “He not doin’ nothin!” [Video]',\n",
       "       'YES! TED CRUZ Has A Great Message For The “Never Trump” Crowd And All Republicans [Video]',\n",
       "       'IS THIS WHY HILLARY Has Become “Unhinged”? Perjury Charge The Least Of Clinton’s Problems [Video]',\n",
       "       'WOW! BLACK PROF Delivers Truth Bomb About Black Voters To Race Baiting Obama [Video]',\n",
       "       'BOOM! CLINTON RAP: ‘Pay My Foundation for the Keys to the Nation’ [VIDEO]',\n",
       "       'LOL! WHEN YOUR CLIENT, Hillary Clinton Is Under Investigation By The Law Again [VIDEO]',\n",
       "       'BILL CLINTON LOSES IT With Heckler In Finger-Pointing Rant: “I defended Obama…” [Video]',\n",
       "       'PIN DROP SPEECH BY FATHER OF DAUGHTER Kidnapped And Killed By ISIS: “I have voted for Donald J. Trump!”',\n",
       "       'GAY PAYPAL CEO Gives Rousing Speech Endorsing Trump: “What Trump represents isn’t crazy and it isn’t going away” [Video]',\n",
       "       'WOW! TREY GOWDY On Harry Reid’s Attack On Jim Comey: “I Didn’t Know Mormons Used Drugs” [Video]',\n",
       "       'AWESOME MESSAGE TO NEVER-TRUMPERS: “Kiss and make up!”…”The people have chosen!”',\n",
       "       'SHOCKER! CLINTON CAMPAIGN MANAGER Gets Grilled By CNN’s Jake Tapper: “She hasn’t been cooperative” [Video]',\n",
       "       'TWO TOP Media Leftists DESTROY The Clintons: “They’ve spent their whole lives searching for cash”…Chelsea’s Just As Bad',\n",
       "       'OH MY! ANOTHER GIANT FLY Lands On Hillary Clinton’s Face Mid-Speech [Video]',\n",
       "       'CLINTON SUPPORTER CARL BERNSTEIN : FBI Found A “Real Bombshell” [Video]',\n",
       "       'A VOTE FOR HILLARY IS A VOTE FOR WW III: Are You ‘With Her’ Nuclear Holocaust? [Video]',\n",
       "       'GUESS WHO Predicted Weiner Would “Tell The World” About Hillary’s Crimes?',\n",
       "       'TRUMP LAUNCHES GRENADE AT TAX AND SPEND WASHINGTON: “Under Budget And Ahead Of Schedule…You Don’t Hear Those Words Too Often In Government…But You Will” [Video]',\n",
       "       'HILLARY NEEDS HELP Climbing Up Just One Step At Rally With 50 People',\n",
       "       'BREAKING: BLACK AMERICANS JUMPING ON TRUMP TRAIN In Unprecedented Numbers…United We Stand!',\n",
       "       'BILL O’REILLY Destroys Liberal Pundit On Trump Coverage [Video]',\n",
       "       'OBAMA DANCES At Last-Ever White House Gig To Drake’s “Hotline Bling” [Video]',\n",
       "       'ERIC TRUMP Schools Liberal Hack Stephanopoulos With Facts…Fantastic! [Video]',\n",
       "       'TRUMP SUPPORTERS In Virginia Beach Shout Down CNN AKA Clinton News Network',\n",
       "       'VIRAL VIDEO: A Must Watch Video Hillary Doesn’t Want You To See!',\n",
       "       'DONALD TRUMP’S SEVEN ACTIONS To Protect American Workers',\n",
       "       'DINESH D’SOUZA Has A Brilliant Message For ALL Americans…Especially Never Trumpers [Video]',\n",
       "       'LIVE STREAM: DONALD TRUMP -FIRST 100 DAYS SPEECH – GETTYSBURG, PA [VIDEO]',\n",
       "       'BRAVO! MSNBC ANCHOR Rips Into Hypocrisy Of Media On Trump’s Election Result Comment [Video]',\n",
       "       'DEMOCRAT OPERATIVES Caught Planning To Bully Women At Trump Rally [Video]',\n",
       "       'WIKILEAKS BOMBSHELL: HUGE PAY TO PLAY By Hillary That Risked Our National Security…How Is This Legal?',\n",
       "       'BREAKING: TRUMP PUNKS THE PRESS: Gives Awesome Answer About Whether He’ll Accept Election Results…CROWD GOES NUTS! [Video]',\n",
       "       'BREAKING: Philippines President Announces ‘Separation’ From U.S….Now Supporting THIS Super Power [Video]',\n",
       "       'DEMOCRATS ADMIT PLAN To Commit Mass Voter Fraud [Video]',\n",
       "       'BOYCOTT THE MEDIA! You Know It’s Bad When MSNBC Anchor Calls Out Media Bias On Trump…”Deplorable”',\n",
       "       'WIKILEAKS SMOKING GUN: Here’s Best Proof Hillary Is Just A Puppet for Globalist George Soros',\n",
       "       'COMEDY GOLD! NANCY PELOSI Talks Clinton And Trump In Epic Train Wreck Interview',\n",
       "       'YES! NEWT GINGRICH Rips Into ABC Anchor Over Anti-Trump Coverage [Video]',\n",
       "       'BILL CLINTON: West Virginia Miners Believe Climate Change Cost Them Their Jobs [Video]',\n",
       "       'WOW! LEGAL HISPANIC AMERICAN IMMIGRANT Unloads On Racist Hillary Supporters: “Liberals Are Desperate Because They Know They’re Gonna Lose” [VIDEO]',\n",
       "       'JUDGE JEANINE PIRRO Rips Into The Lying Media “In Cahoots with Clintons” [Video]',\n",
       "       'WHOA! RUSH LIMBAUGH RIPS Into Republicans Who Don’t Support Trump [Audio]',\n",
       "       'ONE MILLION DEMOCRATS Switched To TRUMP And Here’s Why…Trumpocrats! [Video]',\n",
       "       'TRUMP NAILED IT! Everyone’s Calling THIS The Best Line Of The Night..Mic Drop Moment…[Video]',\n",
       "       'DONALD TRUMP – VS – CROOKED HILLARY Second Presidential Debate – Live Feed!',\n",
       "       'JUDGE JEANINE PIRRO: “Trump Leak Was A Clinton Setup” [Video]',\n",
       "       'WATCH HUGE CROWD CHEER When Asked If Trump Should “Win For America” [Video]',\n",
       "       'HECKLERS YELL: “Bill Clinton’s a rapist!” At Milwaukee Rally [Video]',\n",
       "       'FLASHBACK! BILL CLINTON: “I did not have sexual relations with that woman” [VIDEO]',\n",
       "       'FLASHBACK! PRESIDENTS BEING “COLORFUL”…Yes, Two Can Play This Game! [Video]',\n",
       "       'HILLARY CLINTON RAPE ENABLER: “What kind of monster does this?” [Video]',\n",
       "       'BREAKING: DONALD TRUMP Video Statement On Leaked Private Conversation From 10 Years Ago [Video]',\n",
       "       'FUNNY! MSNBC ANCHOR ASKS Millennial Women If They Feel “Connected” To Hillary [VIDEO]',\n",
       "       'A MUST SEE! MEDIA SCORCHED FOR THEIR BIAS AGAINST TRUMP By Former Gunnery Sgt. [VIDEO]',\n",
       "       'WOW! HOW 100% OF CLINTON CHARITY Went To…Themselves [Video]',\n",
       "       'SHOW THIS TO YOUR FRIENDS Who Don’t Fully Grasp The Severity Of Hillary Clinton’s Email Breach',\n",
       "       'CROOKED HILLARY Slams The Bank She Took A $258K Donation From [Video]',\n",
       "       'JUDGE JEANINE SCORCHES HILLARY: “You don’t support women…you destroy them!” [Video]',\n",
       "       'WHAT WAS HE THINKING? DISHEVELED OBAMA YELLS From Air Force One At Bill Clinton: “Bill, Let’s Go!”',\n",
       "       'THIS WILL MAKE YOUR WEEK! Do You Want To Build A Wall? Jump On The Trump Train! [Video]',\n",
       "       'THIS ONE VERY IMPORTANT THING THE MEDIA MISSED That Tells You How The Candidates Feel About America',\n",
       "       'MEDIA BUSTED! 2003 VIDEO Of TRUMP Proving His Claim That He Was Against The Iraq War [Video]',\n",
       "       'SHOCKER! A LIBERAL TAKEDOWN Of Hillary Clinton Not To Be Missed [Video]',\n",
       "       'TREY GOWDY Rips DOJ For Giving Immunity To Guilty In Clinton E-mail Scandal: “It’s just 5 get out of jail free cards”',\n",
       "       'CLINTON CHIEF STRATEGIST CRASHES AND BURNS: Called Out For Spin And Lies On Clinton/Mills E-Mail Scandal [Video]',\n",
       "       'JUDGE JEANINE Gives Great Debate Advice To Trump: “Be the man I’ve known for decades” [Video]',\n",
       "       'LATINOS MAKE DISGUSTING VIDEOS Bashing TRUMP: “Make America Mexico Again” [Video]',\n",
       "       '“PEOPLE ARE HUGGING?”…”PEACEFUL PROTEST?” What The Media’s NOT Telling You About The Charlotte Riots [Video]',\n",
       "       'THIS VIDEO WILL DESTROY “Black Lives Matter”…SHARE It Everywhere!',\n",
       "       'WHOA! ANGRY OBAMA Berates Black Caucus In Rant About His ‘Legacy’…WHAT LEGACY? [Video]',\n",
       "       'WOW! DID JIMMY FALLON Just Destroy Hillary’s Campaign Wearing This To Greet Her On His Show?',\n",
       "       'AMAZING ENTRANCE! Trump Does “Les Deplorables” [Video]',\n",
       "       'THIS ONE CREEPY TWEET FROM HILLARY Should Have Parents Saying: “Hands off my kids!”',\n",
       "       'HILLARY TAKES CREDIT For The Arab Spring Disaster…AND SHE WANTS TO BE PRESIDENT?',\n",
       "       'NOT-SO-SLICK WILLY: Bill Clinton Tries To Joke Around About Hillary’s E-mail Scandal…Not Funny [Video]',\n",
       "       'BENGHAZI DEPUTY CHIEF Lets It Rip On Hillary Delegating Her Duty In Libya [Video]',\n",
       "       'HILLARY “POWERED THROUGH” Is The Word Of The Day For The Lap Dog Media [VIDEO]',\n",
       "       'BREAKING: MYSTERIOUS METAL OBJECT Flings Out Of Hillary’s Pant Leg During Apparent Convulsion Or Seizure [Video]',\n",
       "       'DID HILLARY Cut Interview Short Because She Felt Another Coughing Fit Coming On? Ducks Behind Pillar [Video]',\n",
       "       'RAW VIDEO: A SHOCKING TOUR Of The Detroit Ghetto…Ruled By DEMOCRATS For Decades! [Video]',\n",
       "       'FATHER OF BENGHAZI VICTIM TY WOODS SPEAKS UP AGAINST HILLARY: “My son would still be alive…” [Video]',\n",
       "       'TREY GOWDY RIPS INTO THE DOJ AND FBI: “I was STUNNED when I read the New York Times article last night.” [Video]',\n",
       "       'INSULTS FLY During Obama’s Town Hall In Laos…EXCEPT The Insults Were Directed At AMERICANS! [Video]',\n",
       "       'BOOM! JULIAN ASSANGE OF WIKILEAKS Drops A Truth Bomb On Hillary…”Disturbing That FBI Director Comey Goes Along With That Game” [Video]',\n",
       "       'WATCH LIBERAL CNN LAWYER Skewer “Village Idiot” Hillary Clinton: “Clear Violations Of Federal Records Act”',\n",
       "       'NEW EVIDENCE PROVES Hillary Manipulated Senate Benghazi Hearing With Help From Democrat Senators [Video]',\n",
       "       '‘NAFTA BOY’ BILL CLINTON HECKLED At Detroit Labor Day Parade [Video]',\n",
       "       'BOOM! Woman Tries To Steal TRUMP Signs BUT This Guy Was Ready For Her! [Video]',\n",
       "       'CNN PANEL ROARS WITH LAUGHTER At Tim Kaine’s Lame Defense Of Clinton Not Holding A Press Conference [Video]',\n",
       "       'BLACK LEADER CALLS ON BLACK CAUCUS MEMBERS TO RESIGN: Praises Trump’s Visit To Detroit [video]',\n",
       "       'RED ALERT: CLINTON DESTROYED EVIDENCE IN TWO WAYS…Isn’t This Criminal Intent?',\n",
       "       'KAINE GETS TRIPPED UP Trying To Explain Away Hillary’s Absence…’She, she, she…” [Video]',\n",
       "       'TRUMP HANDLES MEXICO Meeting Like A REAL Leader: “We will get those problems solved” [Video]',\n",
       "       'ABOUT HILLARY’S COUGH: We Discovered The Secret To Why She Keeps Coughing [Video]',\n",
       "       'AWESOME! UK LEADER: Nothing on Earth could ever persuade me to support Hillary Clinton! [Video]',\n",
       "       'CLASSIC! COLLEGE SNOWFLAKE Demolished By The GREAT Andrew Breitbart [VIDEO]',\n",
       "       'POLL: Who Should Donald Trump Choose For Vice President?',\n",
       "       'FEEL THE BERN: This Is What Your Paycheck Will Look Like With Bernie As President',\n",
       "       'BREAKING: FLORIDA GOV RICK SCOTT ENDORSES DONALD TRUMP…Says It’s Time For GOP To Come Together',\n",
       "       '[VIDEO] RUBIO GETS WALLOPED IN FL…Blames GOP Establishment For Rise Of Trump…SUSPENDS Campaign',\n",
       "       'The “MAKE AMERICA GREAT AGAIN” Do-It-Yourself” Kit',\n",
       "       'STUNNING! FORMER DISNEY TECH WORKER’S Emotional Testimony Of Humiliation In Training Foreign Workers [Video]',\n",
       "       'TAKE OUR POLL AND TELL US WHO YOU THINK WON TONIGHT’S DEBATE',\n",
       "       'HILLARY CLINTON TRIES TO FIRE UP THE MINORITY VOTE WITH LIES ABOUT ‘VOTER SUPPRESSION’',\n",
       "       '(VIDEO) THE INCREDIBLE JOHN BOLTON: WHAT HILL’S E-MAILS TELL US ABOUT HER ABILITY TO LEAD',\n",
       "       'MUST WATCH VIDEO: DO YOU REALLY WANT FOUR YEARS OF THIS?',\n",
       "       '[Video] TED CRUZ SHOWS THE GOP How To Effectively Shut Down The Narrative Of The Leftist Media',\n",
       "       'MUST WATCH COMEDY: ROOM FULL OF DEMS ARE ASKED TO NAME ONE OF HILLARY’S ACCOMPLISHMENTS AS SEC. OF STATE….',\n",
       "       'STORE OWNER BASHES LIBERAL OBAMAITES AS HE SHUTS HIS DOORS AND MOVES',\n",
       "       '(VIDEO) JUDGE NAPOLITANO FILLS US IN ON ORDER FOR “ROLLING RELEASE” OF CLINTON E-MAILS',\n",
       "       '(VIDEO) TREY GOWDY GETS REAL AT COMMUNITY POLICING HEARING: “ALL LIVES MATTER!”',\n",
       "       'MUST WATCH VIDEO: HILLARY SUPPORTERS ACTUALLY DON’T SUPPORT HILLARY',\n",
       "       'MUST WATCH VIDEO: BUSH EERILY WARNS US ABOUT ISIS',\n",
       "       '(VIDEO) FORMER DEFENSE SECRETARY EXPRESSES CONCERN OVER HILLARY E-MAILS AND FOREIGN DONATIONS',\n",
       "       '(VIDEO) DID HE JUST SAY THAT?! OBAMA DOWNPLAYS HORRIFIC CHLORINE GAS ATTACKS',\n",
       "       '(VIDEO)KRAUTHAMMER AND GUTFELD ON OBAMA’S OBSESSION WITH FOX NEWS AND CLASS WAR',\n",
       "       'MEGYN KELLY RIPS INTO OBAMA ON HIS SWIPE OF FOX NEWS: “BENEATH THE DIGNITY OF THE OFFICE”',\n",
       "       '(VIDEO) THE GREAT DIVIDER: OBAMA PULLS OUT THE STRAW MAN ARGUMENT AT THE POVERTY SUMMIT',\n",
       "       '(VIDEO) LIBERAL PUNDIT: OBAMA WORST POTUS EVER',\n",
       "       '(VIDEO) KRAUTHAMMER: FORMER CIA DEPUTY DIRECTOR GIVES TELLING STATEMENTS THAT WILL BE USED AGAINST HILLARY',\n",
       "       '(VIDEO) CLINTON FOUNDATION HOSTS FUNDRAISERS ‘WITH GREAT SECRECY’ IN HUMAN RIGHTS VIOLATING COUNTRIES',\n",
       "       'A MUST SEE! THE BALTIMORE RIOT STORY IN ONE BIG PICTURE',\n",
       "       '(VIDEO) GELLER ON HER OWN: AFTER DEATH THREATS FROM JIHADIS IT’S CRICKETS FROM FBI AND DHS',\n",
       "       'BLACK REPUBLICAN AND BRILLIANT NEUROSURGEON ANNOUNCES RUN FOR PREZ: Huffington Post Places Story Next To Story About Dog Living In Tree Trunk',\n",
       "       '(VIDEO) BALTIMORE MAYOR REOPENS LOOTED MALL: TELLS VENDORS THEY’RE MAKING A “GREAT INVESTMENT” BY STAYING',\n",
       "       'BREAKING VIDEO: “RELAX, RELAX!” AL SHARPTON GETS PHYSICAL WITH REPORTER JUST TRYING TO ASK QUESTIONS',\n",
       "       '(VIDEO) RIOTERS TAKE SELFIES WITH TORCHED POLICE CAR',\n",
       "       'BALTIMORE BURNS: MARYLAND GOVERNOR BRINGS IN NATIONAL GUARD AND DECLARES A STATE OF EMERGENCY',\n",
       "       'FULL VIDEO: THE BLOCKBUSTER INVESTIGATION INTO CLINTON CASH',\n",
       "       '(VIDEO) HILLARY CLINTON: RELIGIOUS BELIEFS MUST BE CHANGED TO ACCOMMODATE ABORTION',\n",
       "       'BLOCKBUSTER INTERVIEW: MALIK OBAMA OPENS UP ABOUT BARACK OBAMA AND IT’S NOT PRETTY',\n",
       "       '(VIDEO)ICE PROTECTING OBAMA: WON’T RELEASE NAMES OF CRIMINAL ILLEGALS RELEASED INTO AMERICA',\n",
       "       '(VIDEO) HYSTERICAL SNL TAKE ON HILLARY’S ANNOUNCEMENT: ‘BUCKLE UP AMERICA, THE CLINTONS ARE BACK!’',\n",
       "       'WATCH: TED CRUZ SKEWERS DEMS for Hypocritical Questioning of Supreme Court Nominee [Video]',\n",
       "       'CRYBABY DEM WOMEN Stay Seated When Trump Enters Chamber To Address Congress [Video]',\n",
       "       'AWESOME! HISPANIC TRUMP SUPPORTER Rips Into Pro-Sanctuary City Officials: “I’m a hard core TRUMP supporter” [Video]',\n",
       "       'WOW! TUCKER CARLSON TAKES ON OBAMACARE ARCHITECT Who Thinks “Americans just don’t understand what it’s done for them” [Video]',\n",
       "       'DIRTY JOBS’ MIKE ROWE: Great Opportunities Out There That People Don’t Know Exist [Video]',\n",
       "       'SCROOGE PASTOR HECKLES Kids Waiting In Line For Santa: “Santa Does Not Exist!” [Video]',\n",
       "       'UNREAL! OBAMA BLAMES SYRIAN CIVIL WAR ON CLIMATE CHANGE…Mocks Those Who Wear Flag Pins [VIDEO]',\n",
       "       'BURN! TREY GOWDY Skewers FBI Director Comey: “That is not the FBI that I used to work with” [Video]',\n",
       "       'SO GOD MADE A PATRIOT: “I need a man who knows the fragility of liberty” [VIDEO]',\n",
       "       'Judge Napolitano Slams SCOTUS Ruling on Obamacare',\n",
       "       'HEARTWARMING VIDEO: BEHIND THE SCENES OF THE LARGEST FREE-FLYING AMERICAN FLAG',\n",
       "       '(VIDEO) MARK STEYN ON ‘AMERICAN RELEVANCE’ IN THE WORLD',\n",
       "       '(VIDEO) JUDGE JEANINE: FREE SPEECH IS NON-NEGOTIABLE – PERIOD!',\n",
       "       'MUST WATCH VIDEO! MEGYN KELLY SPELLS IT OUT FOR THE CLUELESS AGAINST FIRST AMENDMENT RIGHTS',\n",
       "       '(VIDEO)MILWAUKEE SHERIFF DAVID CLARKE HAMMERS BALTIMORE PROSECUTOR',\n",
       "       '(VIDEO)INCREDIBLE ACCOUNT FROM SHERIFF MICHAEL LEWIS ON STAND DOWN ORDER DURING BALTIMORE RIOTS',\n",
       "       'TREY GOWDY TO DEA CHIEF ON MISCONDUCT: “WHAT THE HELL DO YOU GET TO DO?!”',\n",
       "       'YOU WON’T BELIEVE Who Rachel Maddow Blames for Her Trump Tax Dud [Video]',\n",
       "       'MARK ZUCKERBERG Rides Shotgun with Dale Earnhardt, Jr: “HOLY SH*T!” [Video]',\n",
       "       'ILLEGAL ALIEN PROTESTERS Yell at Police for Not Shutting Down Pro-Trump Protesters [Video]',\n",
       "       'UNREAL! LIBERAL PROTESTERS Scream and Yell During Prayer, Pledge of Allegiance at Republican Town Hall [Video]',\n",
       "       'TUCKER CARLSON Defends Trump On Sweden Comment That The Left Went Nuts Over! [Video]',\n",
       "       'PRICELESS! MILO DESTROYS Heckling Muslim Woman…Crowd Chants USA! USA! USA! [Video] #MiloYiannopoulos',\n",
       "       'IRONY! WATCH WHAT HAPPENS WHEN FEMALE REPORTER Punched In The Face At Women’s March…Find This Man! [Video]',\n",
       "       'HERE’S WHAT Feminists Left Behind After Their Day-Long Hissy Fit…Clearly They’re Not Too Worried About The Environment',\n",
       "       'ARMED BLACK PANTHERS March In Milwaukee: “Free us or you die, CRACKER!” [Video]',\n",
       "       'FLORIDA SHERIFF Hysterically Shames Woman Busted For Stealing From TOYS FOR TOTS! [Video]',\n",
       "       'YOU’LL LOVE MIKE ROWE’S Awesome Response To Angry Liberal Claiming American Flag Is A ‘Mere Symbol’',\n",
       "       'WHOOPIE GOLDBERG: Right To Abort Baby Same As Right To Celebrate Birth Of Jesus Christ [VIDEO]',\n",
       "       'COULD YOUR Mail Carrier Be Throwing Your Vote Away? [Video]',\n",
       "       'MUSLIM WOMAN BUSTED Buying Soda With Food Stamps For Her Store: “My Name Is F*ck America!” [Video]',\n",
       "       'MARK STEYN Hammers Democrats On Climate Change Scam: ‘You’re effectively enforcing a state ideology’',\n",
       "       '2009 DUKES OF HAZARD VIDEO EERILY PREDICTS THE FUTURE…This Is A Must Watch!',\n",
       "       'WACKO LIBERAL PUNDIT: ‘GOOD NEWS’ BECAUSE ISIS ATTACKS IN U.S. WILL JUST BE SMALL SCALE',\n",
       "       'MEGYN KELLY SETS A CONFUSED LIBERAL STRAIGHT ON FREE SPEECH',\n",
       "       'OUTRAGEOUS VIDEO! OBAMA KEEPS STIRRING THE FLAMES OF DIVISION AND HATE',\n",
       "       '(VIDEO) PAM GELLER HAMMERS CNN HOST: “Did Christians Burn Embassies When Jesus Christ Was Put in Jar of Urine?”',\n",
       "       '(VIDEO) MOM OF THE YEAR! WHEN YOUR MOM CATCHES YOU RIOTING AND BEATS YOUR A@@ ON LIVE TV'],\n",
       "      dtype=object)"
      ]
     },
     "metadata": {},
     "output_type": "display_data"
    }
   ],
   "source": [
    "display(BlankTextArticles['title'].unique())"
   ]
  },
  {
   "cell_type": "markdown",
   "metadata": {},
   "source": [
    "Nearly all these \"articles\" have titles containing [VIDEO]. It seems as these aren't really \"articles\" at all, just videos with a title. \n",
    "\n",
    "These type of records have also almost entirely come from the fake news set - suggesting there might be value in separating them out and handling them differently, or removing them entirely"
   ]
  },
  {
   "cell_type": "code",
   "execution_count": 7,
   "metadata": {},
   "outputs": [],
   "source": [
    "def FindVideo(title):\n",
    "    if \"VIDEO\" in title.upper():\n",
    "        return 1\n",
    "    else:\n",
    "        return 0"
   ]
  },
  {
   "cell_type": "code",
   "execution_count": 8,
   "metadata": {},
   "outputs": [
    {
     "name": "stderr",
     "output_type": "stream",
     "text": [
      "C:\\Users\\patri\\anaconda3\\lib\\site-packages\\ipykernel_launcher.py:1: SettingWithCopyWarning: \n",
      "A value is trying to be set on a copy of a slice from a DataFrame.\n",
      "Try using .loc[row_indexer,col_indexer] = value instead\n",
      "\n",
      "See the caveats in the documentation: https://pandas.pydata.org/pandas-docs/stable/user_guide/indexing.html#returning-a-view-versus-a-copy\n",
      "  \"\"\"Entry point for launching an IPython kernel.\n"
     ]
    },
    {
     "data": {
      "text/plain": [
       "1    523\n",
       "0    108\n",
       "Name: IsVideo, dtype: int64"
      ]
     },
     "execution_count": 8,
     "metadata": {},
     "output_type": "execute_result"
    }
   ],
   "source": [
    "BlankTextArticles['IsVideo']=BlankTextArticles[\"title\"].apply(lambda x: FindVideo(x))\n",
    "BlankTextArticles['IsVideo'].value_counts()"
   ]
  },
  {
   "cell_type": "code",
   "execution_count": 9,
   "metadata": {},
   "outputs": [
    {
     "data": {
      "text/plain": [
       "1    630\n",
       "0      1\n",
       "Name: IsFake, dtype: int64"
      ]
     },
     "execution_count": 9,
     "metadata": {},
     "output_type": "execute_result"
    }
   ],
   "source": [
    "BlankTextArticles['IsFake'].value_counts()"
   ]
  },
  {
   "cell_type": "code",
   "execution_count": 44,
   "metadata": {},
   "outputs": [
    {
     "data": {
      "text/plain": [
       "array(['Graphic: Supreme Court roundup',\n",
       "       'TAKE OUR POLL: Who Do You Think President Trump Should Pick To Replace James Comey?',\n",
       "       'BOOM! SEAN SPICER: “Trump Sold Hotels In Russia While Hillary Clinton Sold Uranium”',\n",
       "       'MICHAEL FLYNN’S LAWYER Releases Statement Scorching “Highly Politicized Witch Hunt”',\n",
       "       'ROB SCHNEIDER Nails The Russia Conspiracy Theorists In One Hysterical Tweet',\n",
       "       'FAKE NEWS! MAXINE WATERS and JOY REID Make Outrageous Claims Against President Trump “Will make sure poor people aren’t getting too much from government”',\n",
       "       'SHOCKER! CNN POLITICAL DIRECTOR On Trump’s First 50 Days: ‘The business community could not be more enthusiastic’',\n",
       "       'VP PENCE OUTRAGED! The Associated Press Publishes His Wife’s Private Email Address',\n",
       "       'ADORABLE MELANIA TRUMP Fan Dressed Up for School Project…NAILS The First Lady’s Inauguration Look',\n",
       "       'LIVE FEED: PRESIDENT TRUMP Speaks At CPAC – 10:00 a.m. EST',\n",
       "       'BOOM! This One Picture Will Show You the Difference Between President Trump and President Obama',\n",
       "       'LIVE FEED: INAUGURATION 2017!',\n",
       "       'WHAT’S WRONG WITH THIS PICTURE? 5 Anti-Trump Activists On Magazine Cover Just Made Us Detest Them Even More',\n",
       "       'BEST TWEET OF THE WEEK: “Hillary For Sale!”',\n",
       "       'DR MARTIN LUTHER KING’S NIECE: “I believe that Congressman Lewis can actually help America by working with the President”',\n",
       "       'BREAKING: TRUMP HITS BACK AT REP JOHN LEWIS Who Declared Trump’s Presidency “Illegitimate”',\n",
       "       'LT GEN MCINERNEY’S Take On Trump Dossier And Clinton Emails: “Hillary Clinton has violated the espionage act…and should be tried for that”',\n",
       "       'Valerie Jarrett Gives Most Hateful Exit Interview To Greta Van Susteren…You Won’t Want To Miss It!',\n",
       "       'SICKENING! MTV HOST MOCKS Senator Jeff Sessions’ Asian Grandchildren',\n",
       "       'WHERE’S HILLARY? CLINTON SPOTTED Dining Alone',\n",
       "       'TWEET OF THE DAY: Hillary…The Price Of Failure',\n",
       "       'HUMA ABEDIN AND HILLARY CLINTON Meet At New York Office…Did Hillary Wear The Drapes Home?',\n",
       "       'PUTZ OBAMA Calls Electoral College A ‘Vestige’ Of An ‘Earlier time In America’',\n",
       "       'OOPS! ATTORNEY GENERAL LYNCH Slips Up: No Sign Of ‘Technical Interference’ From The Russians',\n",
       "       'DONALD TRUMP TIME PERSON OF THE YEAR: “The revolution he stirred feels fully American”',\n",
       "       'TRUMP TWEETS CRITICISM OF CHINA: Reminds The World “America-First” Is A Policy…Not A Suggestion',\n",
       "       'TRUMP SPOTTED Wearing New Red Presidential Hat On His Trip Back To NYC …People Are Loving it!',\n",
       "       'BLACK FRIDAY SPECIAL: Computer Keyboard For Loony Radical Leftists',\n",
       "       'SHOCKER! IS MITT ROMNEY Being Considered For A Trump Cabinet Position?',\n",
       "       'OBAMA’S LIST OF 21 MEDAL OF FREEDOM Recipients Reads Like A Who’s Who Of The Far Left',\n",
       "       'TRUMP SETS THE RECORD STRAIGHT: Slams NYT Then Tweets Directly To Supporters',\n",
       "       'DWAYNE ‘THE ROCK’ JOHNSON’S Awesome Message To Americans After The Election: “Lead by example…We got this!”',\n",
       "       'WOW! ONE COURAGEOUS MAN Stands Against Rioters Holding Best Sign Ever!',\n",
       "       'DONALD TRUMP Sits On Obama’s Right…Why This Is Significant!',\n",
       "       'CLUELESS? NEVADA POLL WORKERS BREAK THE LAW Wearing Illegal T-shirts',\n",
       "       'PIN DROP SPEECH BY FATHER OF DAUGHTER Kidnapped And Killed By ISIS: “I have voted for Donald J. Trump!”',\n",
       "       'AWESOME MESSAGE TO NEVER-TRUMPERS: “Kiss and make up!”…”The people have chosen!”',\n",
       "       'TWO TOP Media Leftists DESTROY The Clintons: “They’ve spent their whole lives searching for cash”…Chelsea’s Just As Bad',\n",
       "       'GUESS WHO Predicted Weiner Would “Tell The World” About Hillary’s Crimes?',\n",
       "       'HILLARY NEEDS HELP Climbing Up Just One Step At Rally With 50 People',\n",
       "       'BREAKING: BLACK AMERICANS JUMPING ON TRUMP TRAIN In Unprecedented Numbers…United We Stand!',\n",
       "       'TRUMP SUPPORTERS In Virginia Beach Shout Down CNN AKA Clinton News Network',\n",
       "       'DONALD TRUMP’S SEVEN ACTIONS To Protect American Workers',\n",
       "       'WIKILEAKS BOMBSHELL: HUGE PAY TO PLAY By Hillary That Risked Our National Security…How Is This Legal?',\n",
       "       'BOYCOTT THE MEDIA! You Know It’s Bad When MSNBC Anchor Calls Out Media Bias On Trump…”Deplorable”',\n",
       "       'WIKILEAKS SMOKING GUN: Here’s Best Proof Hillary Is Just A Puppet for Globalist George Soros',\n",
       "       'COMEDY GOLD! NANCY PELOSI Talks Clinton And Trump In Epic Train Wreck Interview',\n",
       "       'WHOA! RUSH LIMBAUGH RIPS Into Republicans Who Don’t Support Trump [Audio]',\n",
       "       'DONALD TRUMP – VS – CROOKED HILLARY Second Presidential Debate – Live Feed!',\n",
       "       'SHOW THIS TO YOUR FRIENDS Who Don’t Fully Grasp The Severity Of Hillary Clinton’s Email Breach',\n",
       "       'WHAT WAS HE THINKING? DISHEVELED OBAMA YELLS From Air Force One At Bill Clinton: “Bill, Let’s Go!”',\n",
       "       'THIS ONE VERY IMPORTANT THING THE MEDIA MISSED That Tells You How The Candidates Feel About America',\n",
       "       'TREY GOWDY Rips DOJ For Giving Immunity To Guilty In Clinton E-mail Scandal: “It’s just 5 get out of jail free cards”',\n",
       "       'WOW! DID JIMMY FALLON Just Destroy Hillary’s Campaign Wearing This To Greet Her On His Show?',\n",
       "       'THIS ONE CREEPY TWEET FROM HILLARY Should Have Parents Saying: “Hands off my kids!”',\n",
       "       'HILLARY TAKES CREDIT For The Arab Spring Disaster…AND SHE WANTS TO BE PRESIDENT?',\n",
       "       'WATCH LIBERAL CNN LAWYER Skewer “Village Idiot” Hillary Clinton: “Clear Violations Of Federal Records Act”',\n",
       "       'RED ALERT: CLINTON DESTROYED EVIDENCE IN TWO WAYS…Isn’t This Criminal Intent?',\n",
       "       'POLL: Who Should Donald Trump Choose For Vice President?',\n",
       "       'FEEL THE BERN: This Is What Your Paycheck Will Look Like With Bernie As President',\n",
       "       'BREAKING: FLORIDA GOV RICK SCOTT ENDORSES DONALD TRUMP…Says It’s Time For GOP To Come Together',\n",
       "       'The “MAKE AMERICA GREAT AGAIN” Do-It-Yourself” Kit',\n",
       "       'TAKE OUR POLL AND TELL US WHO YOU THINK WON TONIGHT’S DEBATE',\n",
       "       'HILLARY CLINTON TRIES TO FIRE UP THE MINORITY VOTE WITH LIES ABOUT ‘VOTER SUPPRESSION’',\n",
       "       'MUST WATCH COMEDY: ROOM FULL OF DEMS ARE ASKED TO NAME ONE OF HILLARY’S ACCOMPLISHMENTS AS SEC. OF STATE….',\n",
       "       'STORE OWNER BASHES LIBERAL OBAMAITES AS HE SHUTS HIS DOORS AND MOVES',\n",
       "       'MEGYN KELLY RIPS INTO OBAMA ON HIS SWIPE OF FOX NEWS: “BENEATH THE DIGNITY OF THE OFFICE”',\n",
       "       'A MUST SEE! THE BALTIMORE RIOT STORY IN ONE BIG PICTURE',\n",
       "       'BLACK REPUBLICAN AND BRILLIANT NEUROSURGEON ANNOUNCES RUN FOR PREZ: Huffington Post Places Story Next To Story About Dog Living In Tree Trunk',\n",
       "       'BALTIMORE BURNS: MARYLAND GOVERNOR BRINGS IN NATIONAL GUARD AND DECLARES A STATE OF EMERGENCY',\n",
       "       'BLOCKBUSTER INTERVIEW: MALIK OBAMA OPENS UP ABOUT BARACK OBAMA AND IT’S NOT PRETTY',\n",
       "       'Judge Napolitano Slams SCOTUS Ruling on Obamacare',\n",
       "       'TREY GOWDY TO DEA CHIEF ON MISCONDUCT: “WHAT THE HELL DO YOU GET TO DO?!”',\n",
       "       'HERE’S WHAT Feminists Left Behind After Their Day-Long Hissy Fit…Clearly They’re Not Too Worried About The Environment',\n",
       "       'YOU’LL LOVE MIKE ROWE’S Awesome Response To Angry Liberal Claiming American Flag Is A ‘Mere Symbol’',\n",
       "       'MARK STEYN Hammers Democrats On Climate Change Scam: ‘You’re effectively enforcing a state ideology’',\n",
       "       'WACKO LIBERAL PUNDIT: ‘GOOD NEWS’ BECAUSE ISIS ATTACKS IN U.S. WILL JUST BE SMALL SCALE',\n",
       "       'MEGYN KELLY SETS A CONFUSED LIBERAL STRAIGHT ON FREE SPEECH'],\n",
       "      dtype=object)"
      ]
     },
     "metadata": {},
     "output_type": "display_data"
    }
   ],
   "source": [
    "display(BlankTextArticles[BlankTextArticles['IsVideo']==0]['title'].unique())"
   ]
  },
  {
   "cell_type": "markdown",
   "metadata": {},
   "source": [
    "#### See if any articles have a blank title"
   ]
  },
  {
   "cell_type": "code",
   "execution_count": 43,
   "metadata": {},
   "outputs": [
    {
     "name": "stdout",
     "output_type": "stream",
     "text": [
      "0  articles have a blank title\n"
     ]
    },
    {
     "data": {
      "text/html": [
       "<div>\n",
       "<style scoped>\n",
       "    .dataframe tbody tr th:only-of-type {\n",
       "        vertical-align: middle;\n",
       "    }\n",
       "\n",
       "    .dataframe tbody tr th {\n",
       "        vertical-align: top;\n",
       "    }\n",
       "\n",
       "    .dataframe thead th {\n",
       "        text-align: right;\n",
       "    }\n",
       "</style>\n",
       "<table border=\"1\" class=\"dataframe\">\n",
       "  <thead>\n",
       "    <tr style=\"text-align: right;\">\n",
       "      <th></th>\n",
       "      <th>title</th>\n",
       "      <th>text</th>\n",
       "      <th>subject</th>\n",
       "      <th>date</th>\n",
       "      <th>IsFake</th>\n",
       "    </tr>\n",
       "  </thead>\n",
       "  <tbody>\n",
       "  </tbody>\n",
       "</table>\n",
       "</div>"
      ],
      "text/plain": [
       "Empty DataFrame\n",
       "Columns: [title, text, subject, date, IsFake]\n",
       "Index: []"
      ]
     },
     "execution_count": 43,
     "metadata": {},
     "output_type": "execute_result"
    }
   ],
   "source": [
    "BlankTitleArticles=news_data[news_data[\"title\"].apply(lambda x: x.strip())==\"\"]\n",
    "print(len(BlankTitleArticles),\" articles have a blank title\")\n",
    "BlankTitleArticles.head()"
   ]
  },
  {
   "cell_type": "markdown",
   "metadata": {},
   "source": [
    "#### Merged blank text articles back in with the other deduped articles"
   ]
  },
  {
   "cell_type": "code",
   "execution_count": 16,
   "metadata": {},
   "outputs": [
    {
     "data": {
      "text/html": [
       "<div>\n",
       "<style scoped>\n",
       "    .dataframe tbody tr th:only-of-type {\n",
       "        vertical-align: middle;\n",
       "    }\n",
       "\n",
       "    .dataframe tbody tr th {\n",
       "        vertical-align: top;\n",
       "    }\n",
       "\n",
       "    .dataframe thead th {\n",
       "        text-align: right;\n",
       "    }\n",
       "</style>\n",
       "<table border=\"1\" class=\"dataframe\">\n",
       "  <thead>\n",
       "    <tr style=\"text-align: right;\">\n",
       "      <th></th>\n",
       "      <th>title</th>\n",
       "      <th>text</th>\n",
       "      <th>subject</th>\n",
       "      <th>date</th>\n",
       "      <th>IsFake</th>\n",
       "    </tr>\n",
       "  </thead>\n",
       "  <tbody>\n",
       "    <tr>\n",
       "      <th>0</th>\n",
       "      <td>As U.S. budget fight looms, Republicans flip t...</td>\n",
       "      <td>WASHINGTON (Reuters) - The head of a conservat...</td>\n",
       "      <td>politicsNews</td>\n",
       "      <td>December 31, 2017</td>\n",
       "      <td>0</td>\n",
       "    </tr>\n",
       "    <tr>\n",
       "      <th>1</th>\n",
       "      <td>U.S. military to accept transgender recruits o...</td>\n",
       "      <td>WASHINGTON (Reuters) - Transgender people will...</td>\n",
       "      <td>politicsNews</td>\n",
       "      <td>December 29, 2017</td>\n",
       "      <td>0</td>\n",
       "    </tr>\n",
       "    <tr>\n",
       "      <th>2</th>\n",
       "      <td>Senior U.S. Republican senator: 'Let Mr. Muell...</td>\n",
       "      <td>WASHINGTON (Reuters) - The special counsel inv...</td>\n",
       "      <td>politicsNews</td>\n",
       "      <td>December 31, 2017</td>\n",
       "      <td>0</td>\n",
       "    </tr>\n",
       "    <tr>\n",
       "      <th>3</th>\n",
       "      <td>FBI Russia probe helped by Australian diplomat...</td>\n",
       "      <td>WASHINGTON (Reuters) - Trump campaign adviser ...</td>\n",
       "      <td>politicsNews</td>\n",
       "      <td>December 30, 2017</td>\n",
       "      <td>0</td>\n",
       "    </tr>\n",
       "    <tr>\n",
       "      <th>4</th>\n",
       "      <td>Trump wants Postal Service to charge 'much mor...</td>\n",
       "      <td>SEATTLE/WASHINGTON (Reuters) - President Donal...</td>\n",
       "      <td>politicsNews</td>\n",
       "      <td>December 29, 2017</td>\n",
       "      <td>0</td>\n",
       "    </tr>\n",
       "  </tbody>\n",
       "</table>\n",
       "</div>"
      ],
      "text/plain": [
       "                                               title  \\\n",
       "0  As U.S. budget fight looms, Republicans flip t...   \n",
       "1  U.S. military to accept transgender recruits o...   \n",
       "2  Senior U.S. Republican senator: 'Let Mr. Muell...   \n",
       "3  FBI Russia probe helped by Australian diplomat...   \n",
       "4  Trump wants Postal Service to charge 'much mor...   \n",
       "\n",
       "                                                text       subject  \\\n",
       "0  WASHINGTON (Reuters) - The head of a conservat...  politicsNews   \n",
       "1  WASHINGTON (Reuters) - Transgender people will...  politicsNews   \n",
       "2  WASHINGTON (Reuters) - The special counsel inv...  politicsNews   \n",
       "3  WASHINGTON (Reuters) - Trump campaign adviser ...  politicsNews   \n",
       "4  SEATTLE/WASHINGTON (Reuters) - President Donal...  politicsNews   \n",
       "\n",
       "                 date  IsFake  \n",
       "0  December 31, 2017        0  \n",
       "1  December 29, 2017        0  \n",
       "2  December 31, 2017        0  \n",
       "3  December 30, 2017        0  \n",
       "4  December 29, 2017        0  "
      ]
     },
     "execution_count": 16,
     "metadata": {},
     "output_type": "execute_result"
    }
   ],
   "source": [
    "news_data=pd.concat([NonBlankArticles,BlankTextArticles.drop(['IsVideo','titlelengthwords'],axis=1)])\n",
    "news_data.head()"
   ]
  },
  {
   "cell_type": "markdown",
   "metadata": {},
   "source": [
    "#### Check if there are any other records that have very short text length - what kind of \"articles\" are these?"
   ]
  },
  {
   "cell_type": "code",
   "execution_count": 17,
   "metadata": {},
   "outputs": [
    {
     "data": {
      "text/html": [
       "<div>\n",
       "<style scoped>\n",
       "    .dataframe tbody tr th:only-of-type {\n",
       "        vertical-align: middle;\n",
       "    }\n",
       "\n",
       "    .dataframe tbody tr th {\n",
       "        vertical-align: top;\n",
       "    }\n",
       "\n",
       "    .dataframe thead th {\n",
       "        text-align: right;\n",
       "    }\n",
       "</style>\n",
       "<table border=\"1\" class=\"dataframe\">\n",
       "  <thead>\n",
       "    <tr style=\"text-align: right;\">\n",
       "      <th></th>\n",
       "      <th>title</th>\n",
       "      <th>text</th>\n",
       "      <th>subject</th>\n",
       "      <th>date</th>\n",
       "      <th>IsFake</th>\n",
       "      <th>textlengthwords</th>\n",
       "      <th>titlelengthwords</th>\n",
       "    </tr>\n",
       "  </thead>\n",
       "  <tbody>\n",
       "    <tr>\n",
       "      <th>9358</th>\n",
       "      <td>https://100percentfedup.com/served-roy-moore-v...</td>\n",
       "      <td>https://100percentfedup.com/served-roy-moore-v...</td>\n",
       "      <td>politics</td>\n",
       "      <td>https://100percentfedup.com/served-roy-moore-v...</td>\n",
       "      <td>1</td>\n",
       "      <td>1</td>\n",
       "      <td>1</td>\n",
       "    </tr>\n",
       "    <tr>\n",
       "      <th>19252</th>\n",
       "      <td>WATCH! TRUMP SUPPORTER “BIG JOE” Surrounded By...</td>\n",
       "      <td>https://www.youtube.com/watch?v=IPqrimR8GWw</td>\n",
       "      <td>left-news</td>\n",
       "      <td>Jan 24, 2017</td>\n",
       "      <td>1</td>\n",
       "      <td>1</td>\n",
       "      <td>18</td>\n",
       "    </tr>\n",
       "    <tr>\n",
       "      <th>19262</th>\n",
       "      <td>WOW! CHUCK TODD Goes After Nasty Chuck Schumer...</td>\n",
       "      <td>https://www.youtube.com/watch?v=EOr9fwoc_mo</td>\n",
       "      <td>left-news</td>\n",
       "      <td>Jan 22, 2017</td>\n",
       "      <td>1</td>\n",
       "      <td>1</td>\n",
       "      <td>16</td>\n",
       "    </tr>\n",
       "    <tr>\n",
       "      <th>19272</th>\n",
       "      <td>“THANK YOU BABY”…YES, FEMINISTS WILL GO NUTS: ...</td>\n",
       "      <td>https://www.youtube.com/watch?v=9LNyx_DWzzA</td>\n",
       "      <td>left-news</td>\n",
       "      <td>Jan 21, 2017</td>\n",
       "      <td>1</td>\n",
       "      <td>1</td>\n",
       "      <td>21</td>\n",
       "    </tr>\n",
       "    <tr>\n",
       "      <th>19376</th>\n",
       "      <td>BREAKING: DEMOCRAT Makes Shocking Statement Re...</td>\n",
       "      <td>https://www.youtube.com/watch?v=IioEIUmawRo</td>\n",
       "      <td>left-news</td>\n",
       "      <td>Dec 31, 2016</td>\n",
       "      <td>1</td>\n",
       "      <td>1</td>\n",
       "      <td>11</td>\n",
       "    </tr>\n",
       "    <tr>\n",
       "      <th>19400</th>\n",
       "      <td>OUCH! Paul Joseph Watson DESTROYS MTV’s Racist...</td>\n",
       "      <td>Enjoy</td>\n",
       "      <td>left-news</td>\n",
       "      <td>Dec 26, 2016</td>\n",
       "      <td>1</td>\n",
       "      <td>1</td>\n",
       "      <td>35</td>\n",
       "    </tr>\n",
       "    <tr>\n",
       "      <th>19401</th>\n",
       "      <td>GIVE ‘EM HELL JESSE: Shouldn’t you Democrats s...</td>\n",
       "      <td>https://www.youtube.com/watch?v=wYdX071Nlow</td>\n",
       "      <td>left-news</td>\n",
       "      <td>Dec 26, 2016</td>\n",
       "      <td>1</td>\n",
       "      <td>1</td>\n",
       "      <td>15</td>\n",
       "    </tr>\n",
       "    <tr>\n",
       "      <th>19403</th>\n",
       "      <td>‘YOU’RE A SEXIST PIG!’ FEMINIST BATTLES Tucker...</td>\n",
       "      <td>https://www.youtube.com/watch?v=YeDU6dCR9tA</td>\n",
       "      <td>left-news</td>\n",
       "      <td>Dec 24, 2016</td>\n",
       "      <td>1</td>\n",
       "      <td>1</td>\n",
       "      <td>11</td>\n",
       "    </tr>\n",
       "    <tr>\n",
       "      <th>19495</th>\n",
       "      <td>UNREAL! CNN PANEL Laughs And Mocks Dr. Ben Car...</td>\n",
       "      <td>https://www.youtube.com/watch?v=_FNt3ns_EGA</td>\n",
       "      <td>left-news</td>\n",
       "      <td>Dec 6, 2016</td>\n",
       "      <td>1</td>\n",
       "      <td>1</td>\n",
       "      <td>13</td>\n",
       "    </tr>\n",
       "    <tr>\n",
       "      <th>19235</th>\n",
       "      <td>TRUMP’S BRILLIANT Director Of Communications O...</td>\n",
       "      <td>Watch:</td>\n",
       "      <td>left-news</td>\n",
       "      <td>Jan 28, 2017</td>\n",
       "      <td>1</td>\n",
       "      <td>1</td>\n",
       "      <td>16</td>\n",
       "    </tr>\n",
       "  </tbody>\n",
       "</table>\n",
       "</div>"
      ],
      "text/plain": [
       "                                                   title  \\\n",
       "9358   https://100percentfedup.com/served-roy-moore-v...   \n",
       "19252  WATCH! TRUMP SUPPORTER “BIG JOE” Surrounded By...   \n",
       "19262  WOW! CHUCK TODD Goes After Nasty Chuck Schumer...   \n",
       "19272  “THANK YOU BABY”…YES, FEMINISTS WILL GO NUTS: ...   \n",
       "19376  BREAKING: DEMOCRAT Makes Shocking Statement Re...   \n",
       "19400  OUCH! Paul Joseph Watson DESTROYS MTV’s Racist...   \n",
       "19401  GIVE ‘EM HELL JESSE: Shouldn’t you Democrats s...   \n",
       "19403  ‘YOU’RE A SEXIST PIG!’ FEMINIST BATTLES Tucker...   \n",
       "19495  UNREAL! CNN PANEL Laughs And Mocks Dr. Ben Car...   \n",
       "19235  TRUMP’S BRILLIANT Director Of Communications O...   \n",
       "\n",
       "                                                    text    subject  \\\n",
       "9358   https://100percentfedup.com/served-roy-moore-v...   politics   \n",
       "19252        https://www.youtube.com/watch?v=IPqrimR8GWw  left-news   \n",
       "19262        https://www.youtube.com/watch?v=EOr9fwoc_mo  left-news   \n",
       "19272        https://www.youtube.com/watch?v=9LNyx_DWzzA  left-news   \n",
       "19376        https://www.youtube.com/watch?v=IioEIUmawRo  left-news   \n",
       "19400                                             Enjoy   left-news   \n",
       "19401        https://www.youtube.com/watch?v=wYdX071Nlow  left-news   \n",
       "19403        https://www.youtube.com/watch?v=YeDU6dCR9tA  left-news   \n",
       "19495        https://www.youtube.com/watch?v=_FNt3ns_EGA  left-news   \n",
       "19235                                            Watch:   left-news   \n",
       "\n",
       "                                                    date  IsFake  \\\n",
       "9358   https://100percentfedup.com/served-roy-moore-v...       1   \n",
       "19252                                       Jan 24, 2017       1   \n",
       "19262                                       Jan 22, 2017       1   \n",
       "19272                                       Jan 21, 2017       1   \n",
       "19376                                       Dec 31, 2016       1   \n",
       "19400                                       Dec 26, 2016       1   \n",
       "19401                                       Dec 26, 2016       1   \n",
       "19403                                       Dec 24, 2016       1   \n",
       "19495                                        Dec 6, 2016       1   \n",
       "19235                                       Jan 28, 2017       1   \n",
       "\n",
       "       textlengthwords  titlelengthwords  \n",
       "9358                 1                 1  \n",
       "19252                1                18  \n",
       "19262                1                16  \n",
       "19272                1                21  \n",
       "19376                1                11  \n",
       "19400                1                35  \n",
       "19401                1                15  \n",
       "19403                1                11  \n",
       "19495                1                13  \n",
       "19235                1                16  "
      ]
     },
     "execution_count": 17,
     "metadata": {},
     "output_type": "execute_result"
    }
   ],
   "source": [
    "news_data[\"textlengthwords\"]=news_data[\"text\"].apply(lambda x: len(x.split()))\n",
    "news_data[\"titlelengthwords\"]=news_data[\"title\"].apply(lambda x: len(x.split()))\n",
    "\n",
    "news_data[(news_data['textlengthwords']>0) & (news_data['textlengthwords'] <=20)].sort_values('textlengthwords').head(10)"
   ]
  },
  {
   "cell_type": "markdown",
   "metadata": {},
   "source": [
    "Many of these seem to just be links to YouTube or other sites, and again most seem to be fake news"
   ]
  },
  {
   "cell_type": "code",
   "execution_count": 81,
   "metadata": {},
   "outputs": [
    {
     "data": {
      "text/plain": [
       "<matplotlib.legend.Legend at 0x2304dc7edc8>"
      ]
     },
     "execution_count": 81,
     "metadata": {},
     "output_type": "execute_result"
    },
    {
     "data": {
      "image/png": "[encoded data removed]",
      "text/plain": [
       "<Figure size 720x720 with 1 Axes>"
      ]
     },
     "metadata": {
      "needs_background": "light"
     },
     "output_type": "display_data"
    }
   ],
   "source": [
    "shortarticles=news_data[(news_data['textlengthwords']>=1) & (news_data['textlengthwords'] <=100)]\n",
    "shortsdist=shortarticles.groupby(['textlengthwords', 'IsFake']).size().unstack()\n",
    "\n",
    "plt.figure(figsize=(10, 10))\n",
    "\n",
    "plt.bar(shortsdist.index,shortsdist[1],width=0.8,label=\"Fake news\")\n",
    "plt.bar(shortsdist.index,shortsdist[0],width=0.8,bottom=shortsdist[1],label=\"Real news\")\n",
    "plt.legend()\n"
   ]
  },
  {
   "cell_type": "markdown",
   "metadata": {},
   "source": [
    "We can see that all the articles with 20 words or less are all fake news - and there are quite a few that are just one word"
   ]
  },
  {
   "cell_type": "code",
   "execution_count": 82,
   "metadata": {},
   "outputs": [
    {
     "data": {
      "text/plain": [
       "array(['https://100percentfedup.com/served-roy-moore-vietnamletter-veteran-sets-record-straight-honorable-decent-respectable-patriotic-commander-soldier/',\n",
       "       'https://www.youtube.com/watch?v=cJZFepSvxzM',\n",
       "       'https://www.youtube.com/watch?v=-7Tn4gi_Os8',\n",
       "       'https://www.youtube.com/watch?v=n9tfNMQpYWU',\n",
       "       'https://www.youtube.com/watch?v=uCS4RB9G13M',\n",
       "       'https://www.youtube.com/watch?v=ISm-p8e-D7I',\n",
       "       'https://www.youtube.com/watch?v=rUr8pYr5AXs',\n",
       "       'https://www.youtube.com/watch?v=gqxwF-TeYas',\n",
       "       'https://www.youtube.com/watch?v=aHkNzBRqPCE',\n",
       "       'https://www.youtube.com/watch?v=RRPSCqkAJgk',\n",
       "       'https://www.youtube.com/watch?v=tY0ApLE6dns',\n",
       "       'https://www.youtube.com/watch?v=sMHGkzrwzKg',\n",
       "       'https://www.youtube.com/watch?v=6VN1maBEKIk',\n",
       "       'https://www.youtube.com/watch?v=0cVugq2GbBk',\n",
       "       'https://www.youtube.com/watch?v=CCr0qvehJIk',\n",
       "       'https://www.youtube.com/watch?v=HXJZbPAf0sk',\n",
       "       'https://www.youtube.com/watch?feature=player_embedded&v=JebHe3049aA',\n",
       "       'https://www.youtube.com/watch?v=sWbYpIj7CQ8', 'Watch:',\n",
       "       'https://youtu.be/7oOhwHG2Gb4',\n",
       "       'https://www.youtube.com/watch?v=uQbAww5wajA',\n",
       "       'https://youtu.be/Ai5ayloRa-0',\n",
       "       'https://www.youtube.com/watch?v=1RVqTfIKGbU', 'Brilliant ',\n",
       "       'https://100percentfedup.com/video-hillary-asked-about-trump-i-just-want-to-eat-some-pie/',\n",
       "       'https://100percentfedup.com/12-yr-old-black-conservative-whose-video-to-obama-went-viral-do-you-really-love-america-receives-death-threats-from-left/',\n",
       "       'https://www.youtube.com/watch?time_continue=2&v=IjWClQcKhD8',\n",
       "       'https://www.youtube.com/watch?v=SH0pRtK9sAE',\n",
       "       'https://www.youtube.com/watch?v=Ws5ojb0PCCo',\n",
       "       '  https://www.youtube.com/watch?v=yRXmFmgoPTk',\n",
       "       'https://www.youtube.com/watch?v=31MRqr9ydUU', 'Enjoy:',\n",
       "       'https://www.youtube.com/watch?v=DRLVvYzG46w',\n",
       "       'https://www.youtube.com/watch?v=P-TBfkqk7gU',\n",
       "       'https://www.youtube.com/watch?v=PjeOoJyPNCk',\n",
       "       'https://www.youtube.com/watch?v=hNPX8ZCIfc0&t=26s',\n",
       "       'https://www.youtube.com/watch?v=J4LjxrOfEF8',\n",
       "       'https://www.youtube.com/watch?time_continue=1&v=NeqMSI6OR5Q',\n",
       "       'https://www.youtube.com/watch?v=VkRCtn0nEvU',\n",
       "       'https://www.youtube.com/watch?v=8Mehk5eWcZA',\n",
       "       'https://www.youtube.com/watch?v=zZ7GrEItGoo',\n",
       "       'https://www.youtube.com/watch?time_continue=139&v=Iil1Z8-A1GA',\n",
       "       'Watch: ', 'https://www.youtube.com/watch?v=IPqrimR8GWw',\n",
       "       'https://www.youtube.com/watch?v=EOr9fwoc_mo',\n",
       "       'https://www.youtube.com/watch?v=9LNyx_DWzzA',\n",
       "       'https://www.youtube.com/watch?v=8dsDdBqF828',\n",
       "       'https://www.youtube.com/watch?v=IioEIUmawRo', 'Enjoy ',\n",
       "       'https://www.youtube.com/watch?v=wYdX071Nlow',\n",
       "       'https://www.youtube.com/watch?v=YeDU6dCR9tA',\n",
       "       'https://www.youtube.com/watch?v=_FNt3ns_EGA',\n",
       "       'https://youtu.be/RTuxvWjH3a4',\n",
       "       'https://twitter.com/Rosie/status/800939338615824384',\n",
       "       'https://youtu.be/0J4xPRYbsLU', 'Ouch!',\n",
       "       'https://youtu.be/kKFQ5i9jXmA',\n",
       "       'https://fedup.wpengine.com/wp-content/uploads/2015/04/hillarystreetart.jpg',\n",
       "       'https://fedup.wpengine.com/wp-content/uploads/2015/04/entitled.jpg'],\n",
       "      dtype=object)"
      ]
     },
     "execution_count": 82,
     "metadata": {},
     "output_type": "execute_result"
    }
   ],
   "source": [
    "news_data[news_data['textlengthwords']==1]['text'].unique()"
   ]
  },
  {
   "cell_type": "markdown",
   "metadata": {},
   "source": [
    "So a lot of these one word articles are just more links to videos, or links to another site. We can flag these as such, along with the video links we identified earlier"
   ]
  },
  {
   "cell_type": "code",
   "execution_count": 18,
   "metadata": {},
   "outputs": [],
   "source": [
    "def FlagVideoOrLink(Title,Text):\n",
    "    if Text.strip()==\"\" and \"VIDEO\" in Title.upper():\n",
    "        return 1\n",
    "    elif len(Text.split())==1 and Text.startswith('https://'):\n",
    "        return 1\n",
    "    else:\n",
    "        return 0"
   ]
  },
  {
   "cell_type": "code",
   "execution_count": 19,
   "metadata": {},
   "outputs": [
    {
     "data": {
      "text/html": [
       "<div>\n",
       "<style scoped>\n",
       "    .dataframe tbody tr th:only-of-type {\n",
       "        vertical-align: middle;\n",
       "    }\n",
       "\n",
       "    .dataframe tbody tr th {\n",
       "        vertical-align: top;\n",
       "    }\n",
       "\n",
       "    .dataframe thead th {\n",
       "        text-align: right;\n",
       "    }\n",
       "</style>\n",
       "<table border=\"1\" class=\"dataframe\">\n",
       "  <thead>\n",
       "    <tr style=\"text-align: right;\">\n",
       "      <th></th>\n",
       "      <th>title</th>\n",
       "      <th>text</th>\n",
       "      <th>subject</th>\n",
       "      <th>date</th>\n",
       "      <th>IsFake</th>\n",
       "      <th>textlengthwords</th>\n",
       "      <th>titlelengthwords</th>\n",
       "      <th>VideoStoryOrLink</th>\n",
       "    </tr>\n",
       "  </thead>\n",
       "  <tbody>\n",
       "    <tr>\n",
       "      <th>9358</th>\n",
       "      <td>https://100percentfedup.com/served-roy-moore-v...</td>\n",
       "      <td>https://100percentfedup.com/served-roy-moore-v...</td>\n",
       "      <td>politics</td>\n",
       "      <td>https://100percentfedup.com/served-roy-moore-v...</td>\n",
       "      <td>1</td>\n",
       "      <td>1</td>\n",
       "      <td>1</td>\n",
       "      <td>1</td>\n",
       "    </tr>\n",
       "    <tr>\n",
       "      <th>11251</th>\n",
       "      <td>MELANIA TRUMP GIVES POWERFUL SPEECH to Honor ‘...</td>\n",
       "      <td>https://www.youtube.com/watch?v=cJZFepSvxzM</td>\n",
       "      <td>politics</td>\n",
       "      <td>Mar 30, 2017</td>\n",
       "      <td>1</td>\n",
       "      <td>1</td>\n",
       "      <td>16</td>\n",
       "      <td>1</td>\n",
       "    </tr>\n",
       "    <tr>\n",
       "      <th>11286</th>\n",
       "      <td>TERRORISM EXPERT SEBASTIAN GORKA On What Next ...</td>\n",
       "      <td>https://www.youtube.com/watch?v=-7Tn4gi_Os8</td>\n",
       "      <td>politics</td>\n",
       "      <td>Mar 26, 2017</td>\n",
       "      <td>1</td>\n",
       "      <td>1</td>\n",
       "      <td>12</td>\n",
       "      <td>1</td>\n",
       "    </tr>\n",
       "    <tr>\n",
       "      <th>11492</th>\n",
       "      <td>Judge Jeanine Gets to The Bottom of “Towergate...</td>\n",
       "      <td>https://www.youtube.com/watch?v=n9tfNMQpYWU</td>\n",
       "      <td>politics</td>\n",
       "      <td>Mar 5, 2017</td>\n",
       "      <td>1</td>\n",
       "      <td>1</td>\n",
       "      <td>9</td>\n",
       "      <td>1</td>\n",
       "    </tr>\n",
       "    <tr>\n",
       "      <th>11626</th>\n",
       "      <td>BOOM! TOMI LARHEN Destroys The Idiotic “Day Wi...</td>\n",
       "      <td>https://www.youtube.com/watch?v=uCS4RB9G13M</td>\n",
       "      <td>politics</td>\n",
       "      <td>Feb 18, 2017</td>\n",
       "      <td>1</td>\n",
       "      <td>1</td>\n",
       "      <td>14</td>\n",
       "      <td>1</td>\n",
       "    </tr>\n",
       "  </tbody>\n",
       "</table>\n",
       "</div>"
      ],
      "text/plain": [
       "                                                   title  \\\n",
       "9358   https://100percentfedup.com/served-roy-moore-v...   \n",
       "11251  MELANIA TRUMP GIVES POWERFUL SPEECH to Honor ‘...   \n",
       "11286  TERRORISM EXPERT SEBASTIAN GORKA On What Next ...   \n",
       "11492  Judge Jeanine Gets to The Bottom of “Towergate...   \n",
       "11626  BOOM! TOMI LARHEN Destroys The Idiotic “Day Wi...   \n",
       "\n",
       "                                                    text   subject  \\\n",
       "9358   https://100percentfedup.com/served-roy-moore-v...  politics   \n",
       "11251        https://www.youtube.com/watch?v=cJZFepSvxzM  politics   \n",
       "11286        https://www.youtube.com/watch?v=-7Tn4gi_Os8  politics   \n",
       "11492        https://www.youtube.com/watch?v=n9tfNMQpYWU  politics   \n",
       "11626        https://www.youtube.com/watch?v=uCS4RB9G13M  politics   \n",
       "\n",
       "                                                    date  IsFake  \\\n",
       "9358   https://100percentfedup.com/served-roy-moore-v...       1   \n",
       "11251                                       Mar 30, 2017       1   \n",
       "11286                                       Mar 26, 2017       1   \n",
       "11492                                        Mar 5, 2017       1   \n",
       "11626                                       Feb 18, 2017       1   \n",
       "\n",
       "       textlengthwords  titlelengthwords  VideoStoryOrLink  \n",
       "9358                 1                 1                 1  \n",
       "11251                1                16                 1  \n",
       "11286                1                12                 1  \n",
       "11492                1                 9                 1  \n",
       "11626                1                14                 1  "
      ]
     },
     "execution_count": 19,
     "metadata": {},
     "output_type": "execute_result"
    }
   ],
   "source": [
    "news_data[\"VideoStoryOrLink\"]=news_data.apply(lambda x: FlagVideoOrLink(x['title'],x['text']),axis=1)\n",
    "\n",
    "news_data[news_data[\"VideoStoryOrLink\"]==1].head()"
   ]
  },
  {
   "cell_type": "markdown",
   "metadata": {},
   "source": [
    "#### Check subjects"
   ]
  },
  {
   "cell_type": "markdown",
   "metadata": {},
   "source": [
    "This may be useful information to include in our model alongside the text, for example if certain categories are more likely to be fake"
   ]
  },
  {
   "cell_type": "code",
   "execution_count": 85,
   "metadata": {},
   "outputs": [
    {
     "data": {
      "text/plain": [
       "<matplotlib.legend.Legend at 0x2304dd18048>"
      ]
     },
     "execution_count": 85,
     "metadata": {},
     "output_type": "execute_result"
    },
    {
     "data": {
      "image/png": "[encoded data removed]",
      "text/plain": [
       "<Figure size 1080x720 with 1 Axes>"
      ]
     },
     "metadata": {
      "needs_background": "light"
     },
     "output_type": "display_data"
    }
   ],
   "source": [
    "subjects=news_data.groupby(['subject', 'IsFake']).size().unstack()\n",
    "\n",
    "plt.figure(figsize=(15, 10))\n",
    "\n",
    "plt.bar(subjects.index,subjects[1],width=0.8,label=\"Fake news\")\n",
    "plt.bar(subjects.index,subjects[0],width=0.8,label=\"Real news\")\n",
    "plt.legend()"
   ]
  },
  {
   "cell_type": "markdown",
   "metadata": {},
   "source": [
    "There are obviously just different labels that have been used for the two datasets, so these labels don't really give us any useful information"
   ]
  },
  {
   "cell_type": "markdown",
   "metadata": {},
   "source": [
    "#### Date column"
   ]
  },
  {
   "cell_type": "markdown",
   "metadata": {},
   "source": [
    "This may be useful information to include in our model alongside the text.\n",
    "For example we may be able to observe seasonality in the frequency of fake news, or if there was particular proliferation of this around the US election."
   ]
  },
  {
   "cell_type": "markdown",
   "metadata": {},
   "source": [
    "Are any dates missing?"
   ]
  },
  {
   "cell_type": "code",
   "execution_count": 90,
   "metadata": {},
   "outputs": [
    {
     "data": {
      "text/html": [
       "<div>\n",
       "<style scoped>\n",
       "    .dataframe tbody tr th:only-of-type {\n",
       "        vertical-align: middle;\n",
       "    }\n",
       "\n",
       "    .dataframe tbody tr th {\n",
       "        vertical-align: top;\n",
       "    }\n",
       "\n",
       "    .dataframe thead th {\n",
       "        text-align: right;\n",
       "    }\n",
       "</style>\n",
       "<table border=\"1\" class=\"dataframe\">\n",
       "  <thead>\n",
       "    <tr style=\"text-align: right;\">\n",
       "      <th></th>\n",
       "      <th>title</th>\n",
       "      <th>text</th>\n",
       "      <th>subject</th>\n",
       "      <th>date</th>\n",
       "      <th>IsFake</th>\n",
       "      <th>textlengthwords</th>\n",
       "      <th>titlelengthwords</th>\n",
       "      <th>IsVideoStory</th>\n",
       "    </tr>\n",
       "  </thead>\n",
       "  <tbody>\n",
       "  </tbody>\n",
       "</table>\n",
       "</div>"
      ],
      "text/plain": [
       "Empty DataFrame\n",
       "Columns: [title, text, subject, date, IsFake, textlengthwords, titlelengthwords, IsVideoStory]\n",
       "Index: []"
      ]
     },
     "execution_count": 90,
     "metadata": {},
     "output_type": "execute_result"
    }
   ],
   "source": [
    "news_data[news_data[\"date\"].apply(lambda x: x.strip())==\"\"]"
   ]
  },
  {
   "cell_type": "code",
   "execution_count": 87,
   "metadata": {},
   "outputs": [
    {
     "name": "stdout",
     "output_type": "stream",
     "text": [
      "2397\n",
      "14-Feb-18\n",
      "https://fedup.wpengine.com/wp-content/uploads/2015/04/hillarystreetart.jpg\n"
     ]
    }
   ],
   "source": [
    "print(news_data['date'].nunique())\n",
    "print(news_data['date'].min())          \n",
    "print(news_data['date'].max())   "
   ]
  },
  {
   "cell_type": "markdown",
   "metadata": {},
   "source": [
    "We can see from the above that the date column has some values which shouldn't be there"
   ]
  },
  {
   "cell_type": "code",
   "execution_count": 120,
   "metadata": {},
   "outputs": [
    {
     "data": {
      "text/html": [
       "<div>\n",
       "<style scoped>\n",
       "    .dataframe tbody tr th:only-of-type {\n",
       "        vertical-align: middle;\n",
       "    }\n",
       "\n",
       "    .dataframe tbody tr th {\n",
       "        vertical-align: top;\n",
       "    }\n",
       "\n",
       "    .dataframe thead th {\n",
       "        text-align: right;\n",
       "    }\n",
       "</style>\n",
       "<table border=\"1\" class=\"dataframe\">\n",
       "  <thead>\n",
       "    <tr style=\"text-align: right;\">\n",
       "      <th></th>\n",
       "      <th>title</th>\n",
       "      <th>text</th>\n",
       "      <th>subject</th>\n",
       "      <th>date</th>\n",
       "      <th>IsFake</th>\n",
       "      <th>textlengthwords</th>\n",
       "      <th>titlelengthwords</th>\n",
       "      <th>IsVideoStory</th>\n",
       "    </tr>\n",
       "  </thead>\n",
       "  <tbody>\n",
       "    <tr>\n",
       "      <th>17432</th>\n",
       "      <td>https://fedup.wpengine.com/wp-content/uploads/...</td>\n",
       "      <td>https://fedup.wpengine.com/wp-content/uploads/...</td>\n",
       "      <td>Government News</td>\n",
       "      <td>https://fedup.wpengine.com/wp-content/uploads/...</td>\n",
       "      <td>1</td>\n",
       "      <td>1</td>\n",
       "      <td>1</td>\n",
       "      <td>0</td>\n",
       "    </tr>\n",
       "    <tr>\n",
       "      <th>15839</th>\n",
       "      <td>https://fedup.wpengine.com/wp-content/uploads/...</td>\n",
       "      <td>https://fedup.wpengine.com/wp-content/uploads/...</td>\n",
       "      <td>politics</td>\n",
       "      <td>https://fedup.wpengine.com/wp-content/uploads/...</td>\n",
       "      <td>1</td>\n",
       "      <td>1</td>\n",
       "      <td>1</td>\n",
       "      <td>0</td>\n",
       "    </tr>\n",
       "    <tr>\n",
       "      <th>21869</th>\n",
       "      <td>https://fedup.wpengine.com/wp-content/uploads/...</td>\n",
       "      <td>https://fedup.wpengine.com/wp-content/uploads/...</td>\n",
       "      <td>left-news</td>\n",
       "      <td>https://fedup.wpengine.com/wp-content/uploads/...</td>\n",
       "      <td>1</td>\n",
       "      <td>1</td>\n",
       "      <td>1</td>\n",
       "      <td>0</td>\n",
       "    </tr>\n",
       "    <tr>\n",
       "      <th>17433</th>\n",
       "      <td>https://fedup.wpengine.com/wp-content/uploads/...</td>\n",
       "      <td>https://fedup.wpengine.com/wp-content/uploads/...</td>\n",
       "      <td>Government News</td>\n",
       "      <td>https://fedup.wpengine.com/wp-content/uploads/...</td>\n",
       "      <td>1</td>\n",
       "      <td>1</td>\n",
       "      <td>1</td>\n",
       "      <td>0</td>\n",
       "    </tr>\n",
       "    <tr>\n",
       "      <th>15840</th>\n",
       "      <td>https://fedup.wpengine.com/wp-content/uploads/...</td>\n",
       "      <td>https://fedup.wpengine.com/wp-content/uploads/...</td>\n",
       "      <td>politics</td>\n",
       "      <td>https://fedup.wpengine.com/wp-content/uploads/...</td>\n",
       "      <td>1</td>\n",
       "      <td>1</td>\n",
       "      <td>1</td>\n",
       "      <td>0</td>\n",
       "    </tr>\n",
       "  </tbody>\n",
       "</table>\n",
       "</div>"
      ],
      "text/plain": [
       "                                                   title  \\\n",
       "17432  https://fedup.wpengine.com/wp-content/uploads/...   \n",
       "15839  https://fedup.wpengine.com/wp-content/uploads/...   \n",
       "21869  https://fedup.wpengine.com/wp-content/uploads/...   \n",
       "17433  https://fedup.wpengine.com/wp-content/uploads/...   \n",
       "15840  https://fedup.wpengine.com/wp-content/uploads/...   \n",
       "\n",
       "                                                    text          subject  \\\n",
       "17432  https://fedup.wpengine.com/wp-content/uploads/...  Government News   \n",
       "15839  https://fedup.wpengine.com/wp-content/uploads/...         politics   \n",
       "21869  https://fedup.wpengine.com/wp-content/uploads/...        left-news   \n",
       "17433  https://fedup.wpengine.com/wp-content/uploads/...  Government News   \n",
       "15840  https://fedup.wpengine.com/wp-content/uploads/...         politics   \n",
       "\n",
       "                                                    date  IsFake  \\\n",
       "17432  https://fedup.wpengine.com/wp-content/uploads/...       1   \n",
       "15839  https://fedup.wpengine.com/wp-content/uploads/...       1   \n",
       "21869  https://fedup.wpengine.com/wp-content/uploads/...       1   \n",
       "17433  https://fedup.wpengine.com/wp-content/uploads/...       1   \n",
       "15840  https://fedup.wpengine.com/wp-content/uploads/...       1   \n",
       "\n",
       "       textlengthwords  titlelengthwords  IsVideoStory  \n",
       "17432                1                 1             0  \n",
       "15839                1                 1             0  \n",
       "21869                1                 1             0  \n",
       "17433                1                 1             0  \n",
       "15840                1                 1             0  "
      ]
     },
     "execution_count": 120,
     "metadata": {},
     "output_type": "execute_result"
    }
   ],
   "source": [
    "news_data.sort_values('date',ascending=False).head()"
   ]
  },
  {
   "cell_type": "code",
   "execution_count": 88,
   "metadata": {},
   "outputs": [
    {
     "data": {
      "text/plain": [
       "November     3711\n",
       "October      3489\n",
       "September    3408\n",
       "December     2838\n",
       "March        1168\n",
       "February     1017\n",
       "January       994\n",
       "June          973\n",
       "August        915\n",
       "April         911\n",
       "May           898\n",
       "July          875\n",
       "Name: date, dtype: int64"
      ]
     },
     "execution_count": 88,
     "metadata": {},
     "output_type": "execute_result"
    }
   ],
   "source": [
    "news_data[news_data[\"IsFake\"]==0][\"date\"].apply(lambda x: x.split()[0]).value_counts()"
   ]
  },
  {
   "cell_type": "code",
   "execution_count": 89,
   "metadata": {},
   "outputs": [
    {
     "data": {
      "text/plain": [
       "May                                                                                                                                                      1676\n",
       "January                                                                                                                                                  1192\n",
       "March                                                                                                                                                    1121\n",
       "February                                                                                                                                                 1091\n",
       "April                                                                                                                                                     920\n",
       "Oct                                                                                                                                                       830\n",
       "June                                                                                                                                                      827\n",
       "Nov                                                                                                                                                       770\n",
       "Aug                                                                                                                                                       747\n",
       "July                                                                                                                                                      731\n",
       "Jul                                                                                                                                                       731\n",
       "Dec                                                                                                                                                       710\n",
       "Sep                                                                                                                                                       709\n",
       "August                                                                                                                                                    701\n",
       "Apr                                                                                                                                                       665\n",
       "September                                                                                                                                                 648\n",
       "October                                                                                                                                                   636\n",
       "Jun                                                                                                                                                       633\n",
       "Mar                                                                                                                                                       614\n",
       "November                                                                                                                                                  566\n",
       "Jan                                                                                                                                                       531\n",
       "December                                                                                                                                                  520\n",
       "Feb                                                                                                                                                       482\n",
       "15-Feb-18                                                                                                                                                   9\n",
       "16-Feb-18                                                                                                                                                   8\n",
       "17-Feb-18                                                                                                                                                   7\n",
       "18-Feb-18                                                                                                                                                   7\n",
       "19-Feb-18                                                                                                                                                   3\n",
       "https://100percentfedup.com/video-hillary-asked-about-trump-i-just-want-to-eat-some-pie/                                                                    1\n",
       "https://fedup.wpengine.com/wp-content/uploads/2015/04/entitled.jpg                                                                                          1\n",
       "https://fedup.wpengine.com/wp-content/uploads/2015/04/hillarystreetart.jpg                                                                                  1\n",
       "https://100percentfedup.com/served-roy-moore-vietnamletter-veteran-sets-record-straight-honorable-decent-respectable-patriotic-commander-soldier/           1\n",
       "14-Feb-18                                                                                                                                                   1\n",
       "MSNBC                                                                                                                                                       1\n",
       "https://100percentfedup.com/12-yr-old-black-conservative-whose-video-to-obama-went-viral-do-you-really-love-america-receives-death-threats-from-left/       1\n",
       "Name: date, dtype: int64"
      ]
     },
     "execution_count": 89,
     "metadata": {},
     "output_type": "execute_result"
    }
   ],
   "source": [
    "news_data[news_data[\"IsFake\"]==1][\"date\"].apply(lambda x: x.split()[0]).value_counts()"
   ]
  },
  {
   "cell_type": "markdown",
   "metadata": {},
   "source": [
    "It seems like the unexpected date values come from the fake news dataset. The code below will put standardize all date stamps to the same format, if some valid date is present"
   ]
  },
  {
   "cell_type": "code",
   "execution_count": 20,
   "metadata": {},
   "outputs": [
    {
     "name": "stdout",
     "output_type": "stream",
     "text": [
      "2021-02-28 00:00:00\n"
     ]
    }
   ],
   "source": [
    "import calendar\n",
    "test='February 28, 2021'\n",
    "\n",
    "monthdict = {\"January\": \"Jan\",\n",
    "             \"February\": \"Feb\",\n",
    "             \"March\": \"Mar\",\n",
    "             \"April\": \"Apr\",\n",
    "             \"June\": \"Jun\",\n",
    "             \"July\": \"Jul\",\n",
    "             \"August\": \"Aug\",\n",
    "             \"September\": \"Sep\",\n",
    "             \"October\": \"Oct\",\n",
    "             \"November\": \"Nov\",\n",
    "             \"December\": \"Dec\"\n",
    "            }\n",
    "\n",
    "\n",
    "def ReturnDate(x):\n",
    "    if len(x.split())>=3:\n",
    "        \n",
    "        Month= x.split()[0]\n",
    "        Day= x.split()[1].replace(',','')\n",
    "        Year=x.split()[2]\n",
    "        \n",
    "        if Month in monthdict:\n",
    "            Month=monthdict[Month]\n",
    "        \n",
    "    elif len(x.split(\"-\"))==3:\n",
    "        Month= x.split(\"-\")[1]\n",
    "        Day= x.split(\"-\")[0]\n",
    "        Year=\"20\"+x.split(\"-\")[2]       \n",
    "\n",
    "    else:\n",
    "        Month= \"\"\n",
    "        Day= \"\"\n",
    "        Year=\"\" \n",
    "        \n",
    "    try:\n",
    "        Date=datetime.datetime(int(Year), list(calendar.month_abbr).index(Month), int(Day))\n",
    "    except:\n",
    "        Date=datetime.datetime(1900, 1, 1)\n",
    "\n",
    "    return Date\n",
    "\n",
    "print(ReturnDate(test))\n"
   ]
  },
  {
   "cell_type": "code",
   "execution_count": 21,
   "metadata": {},
   "outputs": [
    {
     "data": {
      "text/html": [
       "<div>\n",
       "<style scoped>\n",
       "    .dataframe tbody tr th:only-of-type {\n",
       "        vertical-align: middle;\n",
       "    }\n",
       "\n",
       "    .dataframe tbody tr th {\n",
       "        vertical-align: top;\n",
       "    }\n",
       "\n",
       "    .dataframe thead th {\n",
       "        text-align: right;\n",
       "    }\n",
       "</style>\n",
       "<table border=\"1\" class=\"dataframe\">\n",
       "  <thead>\n",
       "    <tr style=\"text-align: right;\">\n",
       "      <th></th>\n",
       "      <th>title</th>\n",
       "      <th>text</th>\n",
       "      <th>subject</th>\n",
       "      <th>date</th>\n",
       "      <th>IsFake</th>\n",
       "      <th>textlengthwords</th>\n",
       "      <th>titlelengthwords</th>\n",
       "      <th>VideoStoryOrLink</th>\n",
       "      <th>Datetime</th>\n",
       "      <th>Year</th>\n",
       "    </tr>\n",
       "  </thead>\n",
       "  <tbody>\n",
       "    <tr>\n",
       "      <th>0</th>\n",
       "      <td>As U.S. budget fight looms, Republicans flip t...</td>\n",
       "      <td>WASHINGTON (Reuters) - The head of a conservat...</td>\n",
       "      <td>politicsNews</td>\n",
       "      <td>December 31, 2017</td>\n",
       "      <td>0</td>\n",
       "      <td>749</td>\n",
       "      <td>10</td>\n",
       "      <td>0</td>\n",
       "      <td>2017-12-31</td>\n",
       "      <td>2017</td>\n",
       "    </tr>\n",
       "    <tr>\n",
       "      <th>1</th>\n",
       "      <td>U.S. military to accept transgender recruits o...</td>\n",
       "      <td>WASHINGTON (Reuters) - Transgender people will...</td>\n",
       "      <td>politicsNews</td>\n",
       "      <td>December 29, 2017</td>\n",
       "      <td>0</td>\n",
       "      <td>624</td>\n",
       "      <td>9</td>\n",
       "      <td>0</td>\n",
       "      <td>2017-12-29</td>\n",
       "      <td>2017</td>\n",
       "    </tr>\n",
       "    <tr>\n",
       "      <th>2</th>\n",
       "      <td>Senior U.S. Republican senator: 'Let Mr. Muell...</td>\n",
       "      <td>WASHINGTON (Reuters) - The special counsel inv...</td>\n",
       "      <td>politicsNews</td>\n",
       "      <td>December 31, 2017</td>\n",
       "      <td>0</td>\n",
       "      <td>457</td>\n",
       "      <td>10</td>\n",
       "      <td>0</td>\n",
       "      <td>2017-12-31</td>\n",
       "      <td>2017</td>\n",
       "    </tr>\n",
       "    <tr>\n",
       "      <th>3</th>\n",
       "      <td>FBI Russia probe helped by Australian diplomat...</td>\n",
       "      <td>WASHINGTON (Reuters) - Trump campaign adviser ...</td>\n",
       "      <td>politicsNews</td>\n",
       "      <td>December 30, 2017</td>\n",
       "      <td>0</td>\n",
       "      <td>376</td>\n",
       "      <td>9</td>\n",
       "      <td>0</td>\n",
       "      <td>2017-12-30</td>\n",
       "      <td>2017</td>\n",
       "    </tr>\n",
       "    <tr>\n",
       "      <th>4</th>\n",
       "      <td>Trump wants Postal Service to charge 'much mor...</td>\n",
       "      <td>SEATTLE/WASHINGTON (Reuters) - President Donal...</td>\n",
       "      <td>politicsNews</td>\n",
       "      <td>December 29, 2017</td>\n",
       "      <td>0</td>\n",
       "      <td>852</td>\n",
       "      <td>11</td>\n",
       "      <td>0</td>\n",
       "      <td>2017-12-29</td>\n",
       "      <td>2017</td>\n",
       "    </tr>\n",
       "  </tbody>\n",
       "</table>\n",
       "</div>"
      ],
      "text/plain": [
       "                                               title  \\\n",
       "0  As U.S. budget fight looms, Republicans flip t...   \n",
       "1  U.S. military to accept transgender recruits o...   \n",
       "2  Senior U.S. Republican senator: 'Let Mr. Muell...   \n",
       "3  FBI Russia probe helped by Australian diplomat...   \n",
       "4  Trump wants Postal Service to charge 'much mor...   \n",
       "\n",
       "                                                text       subject  \\\n",
       "0  WASHINGTON (Reuters) - The head of a conservat...  politicsNews   \n",
       "1  WASHINGTON (Reuters) - Transgender people will...  politicsNews   \n",
       "2  WASHINGTON (Reuters) - The special counsel inv...  politicsNews   \n",
       "3  WASHINGTON (Reuters) - Trump campaign adviser ...  politicsNews   \n",
       "4  SEATTLE/WASHINGTON (Reuters) - President Donal...  politicsNews   \n",
       "\n",
       "                 date  IsFake  textlengthwords  titlelengthwords  \\\n",
       "0  December 31, 2017        0              749                10   \n",
       "1  December 29, 2017        0              624                 9   \n",
       "2  December 31, 2017        0              457                10   \n",
       "3  December 30, 2017        0              376                 9   \n",
       "4  December 29, 2017        0              852                11   \n",
       "\n",
       "   VideoStoryOrLink   Datetime  Year  \n",
       "0                 0 2017-12-31  2017  \n",
       "1                 0 2017-12-29  2017  \n",
       "2                 0 2017-12-31  2017  \n",
       "3                 0 2017-12-30  2017  \n",
       "4                 0 2017-12-29  2017  "
      ]
     },
     "execution_count": 21,
     "metadata": {},
     "output_type": "execute_result"
    }
   ],
   "source": [
    "news_data['Datetime'] = news_data['date'].apply(lambda x: ReturnDate(x))\n",
    "news_data['Year']=news_data['Datetime'].apply(lambda x: x.year)\n",
    "news_data.head()"
   ]
  },
  {
   "cell_type": "code",
   "execution_count": 102,
   "metadata": {},
   "outputs": [
    {
     "data": {
      "text/plain": [
       "[<matplotlib.lines.Line2D at 0x23074284bc8>]"
      ]
     },
     "execution_count": 102,
     "metadata": {},
     "output_type": "execute_result"
    },
    {
     "data": {
      "image/png": "[encoded data removed]",
      "text/plain": [
       "<Figure size 720x1440 with 3 Axes>"
      ]
     },
     "metadata": {
      "needs_background": "light"
     },
     "output_type": "display_data"
    }
   ],
   "source": [
    "timeline=news_data[news_data['Datetime']!='1900-01-01 00:00:00'].groupby(['Datetime', 'IsFake']).size().unstack()\n",
    "timeline['ProportionReal']=timeline[0]/(timeline[0]+timeline[1])\n",
    "years=news_data[news_data['Datetime']!='1900-01-01 00:00:00'].groupby(['Year', 'IsFake']).size().unstack()\n",
    "\n",
    "plt.figure(figsize=(10, 20))\n",
    "\n",
    "plt.subplot(311)\n",
    "plt.bar(years.index,years[1],width=0.8,label=\"Fake news\")\n",
    "plt.bar(years.index,years[0],width=0.8,bottom=years[1],label=\"Real news\")\n",
    "plt.legend()\n",
    "\n",
    "plt.subplot(312)\n",
    "plt.bar(timeline.index,timeline[1],width=0.8,label=\"Fake news\")\n",
    "plt.bar(timeline.index,timeline[0],width=0.8,bottom=timeline[1],label=\"Real news\")\n",
    "plt.legend()\n",
    "\n",
    "plt.subplot(313)\n",
    "plt.plot(timeline.index,timeline['ProportionReal'],linewidth=1.0)\n"
   ]
  },
  {
   "cell_type": "markdown",
   "metadata": {},
   "source": [
    "We have articles from 2015-2017. However all our 2015 articles are just a relatively small subset of the fake news data, and the real news dataset is much more heavily sampled from 2017. \n",
    "\n",
    "It seems that the distribution over time is largely biased by the selections made for the two datasets, so we should be careful if we want to incorporate this into our model."
   ]
  },
  {
   "cell_type": "markdown",
   "metadata": {},
   "source": [
    "# Explorary data analysis - non-word features"
   ]
  },
  {
   "cell_type": "markdown",
   "metadata": {},
   "source": [
    "Before going into word vectorisation,let's explore some features of the text and title (e.g. length, punctuation, upper case) that may be relevant. "
   ]
  },
  {
   "cell_type": "code",
   "execution_count": 161,
   "metadata": {},
   "outputs": [
    {
     "name": "stderr",
     "output_type": "stream",
     "text": [
      "C:\\Users\\patri\\anaconda3\\lib\\site-packages\\ipykernel_launcher.py:24: MatplotlibDeprecationWarning: \n",
      "The 'normed' kwarg was deprecated in Matplotlib 2.1 and will be removed in 3.1. Use 'density' instead.\n",
      "C:\\Users\\patri\\anaconda3\\lib\\site-packages\\ipykernel_launcher.py:25: MatplotlibDeprecationWarning: \n",
      "The 'normed' kwarg was deprecated in Matplotlib 2.1 and will be removed in 3.1. Use 'density' instead.\n",
      "C:\\Users\\patri\\anaconda3\\lib\\site-packages\\ipykernel_launcher.py:32: MatplotlibDeprecationWarning: \n",
      "The 'normed' kwarg was deprecated in Matplotlib 2.1 and will be removed in 3.1. Use 'density' instead.\n",
      "C:\\Users\\patri\\anaconda3\\lib\\site-packages\\ipykernel_launcher.py:33: MatplotlibDeprecationWarning: \n",
      "The 'normed' kwarg was deprecated in Matplotlib 2.1 and will be removed in 3.1. Use 'density' instead.\n",
      "C:\\Users\\patri\\anaconda3\\lib\\site-packages\\ipykernel_launcher.py:39: MatplotlibDeprecationWarning: \n",
      "The 'normed' kwarg was deprecated in Matplotlib 2.1 and will be removed in 3.1. Use 'density' instead.\n",
      "C:\\Users\\patri\\anaconda3\\lib\\site-packages\\ipykernel_launcher.py:40: MatplotlibDeprecationWarning: \n",
      "The 'normed' kwarg was deprecated in Matplotlib 2.1 and will be removed in 3.1. Use 'density' instead.\n",
      "C:\\Users\\patri\\anaconda3\\lib\\site-packages\\ipykernel_launcher.py:47: MatplotlibDeprecationWarning: \n",
      "The 'normed' kwarg was deprecated in Matplotlib 2.1 and will be removed in 3.1. Use 'density' instead.\n",
      "C:\\Users\\patri\\anaconda3\\lib\\site-packages\\ipykernel_launcher.py:48: MatplotlibDeprecationWarning: \n",
      "The 'normed' kwarg was deprecated in Matplotlib 2.1 and will be removed in 3.1. Use 'density' instead.\n"
     ]
    },
    {
     "data": {
      "text/plain": [
       "(0, 200)"
      ]
     },
     "execution_count": 161,
     "metadata": {},
     "output_type": "execute_result"
    },
    {
     "data": {
      "image/png": "[encoded data removed]",
      "text/plain": [
       "<Figure size 720x720 with 4 Axes>"
      ]
     },
     "metadata": {
      "needs_background": "light"
     },
     "output_type": "display_data"
    }
   ],
   "source": [
    "# Length in characters\n",
    "\n",
    "news_data['titlelength'] = news_data['title'].apply(len)\n",
    "news_data['textlength']  = news_data['text'].apply(len)\n",
    "\n",
    "text_len_real = news_data[news_data[\"IsFake\"] == 0][\"textlength\"]\n",
    "text_len_fake = news_data[news_data[\"IsFake\"] == 1][\"textlength\"]\n",
    "\n",
    "title_len_real = news_data[news_data[\"IsFake\"] == 0][\"titlelength\"]\n",
    "title_len_fake = news_data[news_data[\"IsFake\"] == 1][\"titlelength\"]\n",
    "\n",
    "\n",
    "# Length in words\n",
    "text_wordcount_real = news_data[news_data[\"IsFake\"] == 0][\"textlengthwords\"]\n",
    "text_wordcount_fake = news_data[news_data[\"IsFake\"] == 1][\"textlengthwords\"]\n",
    "\n",
    "title_wordcount_real = news_data[news_data[\"IsFake\"] == 0][\"titlelengthwords\"]\n",
    "title_wordcount_fake = news_data[news_data[\"IsFake\"] == 1][\"titlelengthwords\"]\n",
    "\n",
    "\n",
    "plt.figure(figsize=(10, 10))\n",
    "\n",
    "plt.subplot(221)\n",
    "plt.hist(text_wordcount_real,alpha=0.5,bins=250,label=\"Real\",normed=True)\n",
    "plt.hist(text_wordcount_fake,alpha=0.5,bins=250,label=\"Fake\",normed=True)\n",
    "plt.title(\"Words in text\")\n",
    "plt.legend()\n",
    "plt.xlim(0,2000)\n",
    "\n",
    "\n",
    "plt.subplot(222)\n",
    "plt.hist(title_wordcount_real,alpha=0.5,bins=15,label=\"Real\",normed=True)\n",
    "plt.hist(title_wordcount_fake,alpha=0.5,bins=15,label=\"Fake\",normed=True)\n",
    "plt.title(\"Words in title\")\n",
    "plt.legend()\n",
    "plt.xlim(0,40)\n",
    "\n",
    "plt.subplot(223)\n",
    "plt.hist(text_len_real,alpha=0.5,bins=500,label=\"Real\",normed=True)\n",
    "plt.hist(text_len_fake,alpha=0.5,bins=500,label=\"Fake\",normed=True)\n",
    "plt.title(\"Length of text\")\n",
    "plt.legend()\n",
    "plt.xlim(0,10000)\n",
    "\n",
    "\n",
    "plt.subplot(224)\n",
    "plt.hist(title_len_real,alpha=0.5,bins=100,label=\"Real\",normed=True)\n",
    "plt.hist(title_len_fake,alpha=0.5,bins=100,label=\"Fake\",normed=True)\n",
    "plt.title(\"Length of title\")\n",
    "plt.legend()\n",
    "plt.xlim(0,200)"
   ]
  },
  {
   "cell_type": "markdown",
   "metadata": {},
   "source": [
    "Fake and real news articles have significantly different distributions for both text and title length.\n",
    "\n",
    "Fake news titles are on average longer and there is more variance in the distribution, whereas real news articles are much more narrowly distributed around 10 words/60 characters.\n",
    "\n",
    "Both fake and real news articles have a bimodal distribution of text length - however the distribution of fake news seems to be more shifted to the left."
   ]
  },
  {
   "cell_type": "markdown",
   "metadata": {},
   "source": [
    "#### Counts of punctuation"
   ]
  },
  {
   "cell_type": "code",
   "execution_count": 23,
   "metadata": {},
   "outputs": [],
   "source": [
    "def percent_punct(text):\n",
    "    count=sum([1 for char in text if char in string.punctuation])\n",
    "    textlength=len(text)-text.count(\" \")\n",
    "    if textlength>0:\n",
    "        return count/textlength\n",
    "    else:\n",
    "        return 0"
   ]
  },
  {
   "cell_type": "code",
   "execution_count": 24,
   "metadata": {},
   "outputs": [
    {
     "name": "stderr",
     "output_type": "stream",
     "text": [
      "C:\\Users\\patri\\anaconda3\\lib\\site-packages\\ipykernel_launcher.py:14: MatplotlibDeprecationWarning: \n",
      "The 'normed' kwarg was deprecated in Matplotlib 2.1 and will be removed in 3.1. Use 'density' instead.\n",
      "  \n",
      "C:\\Users\\patri\\anaconda3\\lib\\site-packages\\ipykernel_launcher.py:15: MatplotlibDeprecationWarning: \n",
      "The 'normed' kwarg was deprecated in Matplotlib 2.1 and will be removed in 3.1. Use 'density' instead.\n",
      "  from ipykernel import kernelapp as app\n",
      "C:\\Users\\patri\\anaconda3\\lib\\site-packages\\ipykernel_launcher.py:21: MatplotlibDeprecationWarning: \n",
      "The 'normed' kwarg was deprecated in Matplotlib 2.1 and will be removed in 3.1. Use 'density' instead.\n",
      "C:\\Users\\patri\\anaconda3\\lib\\site-packages\\ipykernel_launcher.py:22: MatplotlibDeprecationWarning: \n",
      "The 'normed' kwarg was deprecated in Matplotlib 2.1 and will be removed in 3.1. Use 'density' instead.\n"
     ]
    },
    {
     "data": {
      "text/plain": [
       "(0, 0.15)"
      ]
     },
     "execution_count": 24,
     "metadata": {},
     "output_type": "execute_result"
    },
    {
     "data": {
      "image/png": "[encoded data removed]",
      "text/plain": [
       "<Figure size 1440x576 with 2 Axes>"
      ]
     },
     "metadata": {
      "needs_background": "light"
     },
     "output_type": "display_data"
    }
   ],
   "source": [
    "news_data[\"text_percent_punct\"] = news_data[\"text\"].apply(lambda x: percent_punct(x))\n",
    "news_data[\"title_percent_punct\"] = news_data[\"title\"].apply(lambda x: percent_punct(x))\n",
    "\n",
    "text_punct_real = news_data[news_data[\"IsFake\"] == 0][\"text_percent_punct\"]\n",
    "text_punct_fake = news_data[news_data[\"IsFake\"] == 1][\"text_percent_punct\"]\n",
    "\n",
    "title_punct_real = news_data[news_data[\"IsFake\"] == 0][\"title_percent_punct\"]\n",
    "title_punct_fake = news_data[news_data[\"IsFake\"] == 1][\"title_percent_punct\"]\n",
    "\n",
    "\n",
    "plt.figure(figsize=(20, 8))\n",
    "\n",
    "plt.subplot(121)\n",
    "plt.hist(text_punct_real,alpha=0.5,bins=50,label=\"Real\",normed=True)\n",
    "plt.hist(text_punct_fake,alpha=0.5,bins=50,label=\"Fake\",normed=True)\n",
    "plt.title(\"% Punctuation in text\")\n",
    "plt.legend()\n",
    "plt.xlim(0,0.15)\n",
    "\n",
    "plt.subplot(122)\n",
    "plt.hist(title_punct_real,alpha=0.5,bins=50,label=\"Real\",normed=True)\n",
    "plt.hist(title_punct_fake,alpha=0.5,bins=50,label=\"Fake\",normed=True)\n",
    "plt.title(\"% Punctuation in title\")\n",
    "plt.legend()\n",
    "plt.xlim(0,0.15)"
   ]
  },
  {
   "cell_type": "markdown",
   "metadata": {},
   "source": [
    "It doesn't appear that the frequency of punctuation in the text/title is particularly informative of whether a news article is fake or not.\n",
    "\n",
    "However, the main punctuation mark most often found in the fake news set seems to be the exclamation mark, so we can try engineering a feature specifically around this."
   ]
  },
  {
   "cell_type": "code",
   "execution_count": 25,
   "metadata": {},
   "outputs": [],
   "source": [
    "def flag_exclamation(text):\n",
    "    count=sum([1 for char in text if char==\"!\"])\n",
    "    if count>0:\n",
    "        return 1\n",
    "    else:\n",
    "        return 0"
   ]
  },
  {
   "cell_type": "code",
   "execution_count": 26,
   "metadata": {},
   "outputs": [
    {
     "data": {
      "text/plain": [
       "<matplotlib.legend.Legend at 0x1181585cb48>"
      ]
     },
     "execution_count": 26,
     "metadata": {},
     "output_type": "execute_result"
    },
    {
     "data": {
      "image/png": "[encoded data removed]",
      "text/plain": [
       "<Figure size 864x432 with 2 Axes>"
      ]
     },
     "metadata": {
      "needs_background": "light"
     },
     "output_type": "display_data"
    }
   ],
   "source": [
    "news_data[\"text_excl\"] = news_data[\"text\"].apply(lambda x: flag_exclamation(x))\n",
    "news_data[\"title_excl\"] = news_data[\"title\"].apply(lambda x: flag_exclamation(x))\n",
    "\n",
    "plt.figure(figsize=(12, 6))\n",
    "\n",
    "plt.suptitle(\"Presence of exclamation marks in text/title\")\n",
    "\n",
    "plt.subplot(121)\n",
    "plt.bar([\"No\",\"Yes\"],\n",
    "        news_data.groupby(['text_excl', 'IsFake']).size().unstack()[0],\n",
    "        width=0.8,label=\"Real\")\n",
    "plt.bar([\"No\",\"Yes\"],\n",
    "        news_data.groupby(['text_excl', 'IsFake']).size().unstack()[1],\n",
    "        bottom=news_data.groupby(['text_excl', 'IsFake']).size().unstack()[0],\n",
    "        width=0.8,label=\"Fake\")\n",
    "plt.xlabel(\"Text contains exclamation marks\")\n",
    "plt.legend()\n",
    "\n",
    "\n",
    "plt.subplot(122)\n",
    "plt.bar([\"No\",\"Yes\"],\n",
    "        news_data.groupby(['title_excl', 'IsFake']).size().unstack()[0],\n",
    "        width=0.8,label=\"Real\")\n",
    "plt.bar([\"No\",\"Yes\"],\n",
    "        news_data.groupby(['title_excl', 'IsFake']).size().unstack()[1],\n",
    "        bottom=news_data.groupby(['title_excl', 'IsFake']).size().unstack()[0],\n",
    "        width=0.8,label=\"Fake\")\n",
    "plt.xlabel(\"Title contains exclamation marks\")\n",
    "plt.legend()\n",
    "\n"
   ]
  },
  {
   "cell_type": "markdown",
   "metadata": {},
   "source": [
    "Articles with an exclamation in the text are significantly more likely to be fake news, and articles with an exclamation in the title are exclusively fake news."
   ]
  },
  {
   "cell_type": "markdown",
   "metadata": {},
   "source": [
    "#### Capitalisation"
   ]
  },
  {
   "cell_type": "markdown",
   "metadata": {},
   "source": [
    "A lot of the fake news article titles observed in the analysis above were in all caps - the proportion of the text that is capitalised may be an informative feature.\n",
    "Note that this doesn't account for common abbreviations that would generally be capitalised anyway (such as USA, NYC, SCOTUS etc which we would expect to find in US politics news)."
   ]
  },
  {
   "cell_type": "code",
   "execution_count": 27,
   "metadata": {},
   "outputs": [
    {
     "name": "stdout",
     "output_type": "stream",
     "text": [
      "0.5\n"
     ]
    }
   ],
   "source": [
    "test=\"THIS SENTENCE IS half in uppercase\"\n",
    "\n",
    "def incapitals(text):\n",
    "    wordsincaps=sum([1 for word in text.split() if word.isupper()==True])\n",
    "    words=len(text.split())\n",
    "    if words>0:\n",
    "        return wordsincaps/words\n",
    "    else:\n",
    "        return 0\n",
    "    \n",
    "print(incapitals(test))"
   ]
  },
  {
   "cell_type": "code",
   "execution_count": 28,
   "metadata": {},
   "outputs": [
    {
     "name": "stderr",
     "output_type": "stream",
     "text": [
      "C:\\Users\\patri\\anaconda3\\lib\\site-packages\\ipykernel_launcher.py:14: MatplotlibDeprecationWarning: \n",
      "The 'normed' kwarg was deprecated in Matplotlib 2.1 and will be removed in 3.1. Use 'density' instead.\n",
      "  \n",
      "C:\\Users\\patri\\anaconda3\\lib\\site-packages\\ipykernel_launcher.py:15: MatplotlibDeprecationWarning: \n",
      "The 'normed' kwarg was deprecated in Matplotlib 2.1 and will be removed in 3.1. Use 'density' instead.\n",
      "  from ipykernel import kernelapp as app\n",
      "C:\\Users\\patri\\anaconda3\\lib\\site-packages\\ipykernel_launcher.py:21: MatplotlibDeprecationWarning: \n",
      "The 'normed' kwarg was deprecated in Matplotlib 2.1 and will be removed in 3.1. Use 'density' instead.\n",
      "C:\\Users\\patri\\anaconda3\\lib\\site-packages\\ipykernel_launcher.py:22: MatplotlibDeprecationWarning: \n",
      "The 'normed' kwarg was deprecated in Matplotlib 2.1 and will be removed in 3.1. Use 'density' instead.\n"
     ]
    },
    {
     "data": {
      "text/plain": [
       "<matplotlib.legend.Legend at 0x1181d2ded88>"
      ]
     },
     "execution_count": 28,
     "metadata": {},
     "output_type": "execute_result"
    },
    {
     "data": {
      "image/png": "[encoded data removed]",
      "text/plain": [
       "<Figure size 1440x576 with 2 Axes>"
      ]
     },
     "metadata": {
      "needs_background": "light"
     },
     "output_type": "display_data"
    }
   ],
   "source": [
    "news_data[\"text_incaps\"] = news_data[\"text\"].apply(lambda x: incapitals(x))\n",
    "news_data[\"title_incaps\"] = news_data[\"title\"].apply(lambda x: incapitals(x))\n",
    "\n",
    "text_incaps_real = news_data[news_data[\"IsFake\"] == 0][\"text_incaps\"]\n",
    "text_incaps_fake = news_data[news_data[\"IsFake\"] == 1][\"text_incaps\"]\n",
    "\n",
    "title_incaps_real = news_data[news_data[\"IsFake\"] == 0][\"title_incaps\"]\n",
    "title_incaps_fake = news_data[news_data[\"IsFake\"] == 1][\"title_incaps\"]\n",
    "\n",
    "\n",
    "plt.figure(figsize=(20, 8))\n",
    "\n",
    "plt.subplot(121)\n",
    "plt.hist(text_incaps_real,alpha=0.5,bins=100,label=\"Real\",normed=True)\n",
    "plt.hist(text_incaps_fake,alpha=0.5,bins=100,label=\"Fake\",normed=True)\n",
    "plt.title(\"% of words in text that are in upper case\")\n",
    "plt.legend()\n",
    "#plt.xlim(0,0.15)\n",
    "\n",
    "plt.subplot(122)\n",
    "plt.hist(title_incaps_real,alpha=0.5,bins=30,label=\"Real\",normed=True)\n",
    "plt.hist(title_incaps_fake,alpha=0.5,bins=30,label=\"Fake\",normed=True)\n",
    "plt.title(\"% of words in title that are in upper case\")\n",
    "plt.legend()\n",
    "#plt.xlim(0,0.15)"
   ]
  },
  {
   "cell_type": "markdown",
   "metadata": {},
   "source": [
    "# Exploratory data analysis - word features"
   ]
  },
  {
   "cell_type": "markdown",
   "metadata": {},
   "source": [
    "We will combine the article title and text into one in order to construct the word corpus"
   ]
  },
  {
   "cell_type": "code",
   "execution_count": 29,
   "metadata": {},
   "outputs": [
    {
     "data": {
      "text/html": [
       "<div>\n",
       "<style scoped>\n",
       "    .dataframe tbody tr th:only-of-type {\n",
       "        vertical-align: middle;\n",
       "    }\n",
       "\n",
       "    .dataframe tbody tr th {\n",
       "        vertical-align: top;\n",
       "    }\n",
       "\n",
       "    .dataframe thead th {\n",
       "        text-align: right;\n",
       "    }\n",
       "</style>\n",
       "<table border=\"1\" class=\"dataframe\">\n",
       "  <thead>\n",
       "    <tr style=\"text-align: right;\">\n",
       "      <th></th>\n",
       "      <th>title</th>\n",
       "      <th>text</th>\n",
       "      <th>subject</th>\n",
       "      <th>date</th>\n",
       "      <th>IsFake</th>\n",
       "      <th>textlengthwords</th>\n",
       "      <th>titlelengthwords</th>\n",
       "      <th>VideoStoryOrLink</th>\n",
       "      <th>Datetime</th>\n",
       "      <th>Year</th>\n",
       "      <th>titlelength</th>\n",
       "      <th>textlength</th>\n",
       "      <th>text_percent_punct</th>\n",
       "      <th>title_percent_punct</th>\n",
       "      <th>text_excl</th>\n",
       "      <th>title_excl</th>\n",
       "      <th>text_incaps</th>\n",
       "      <th>title_incaps</th>\n",
       "      <th>news</th>\n",
       "    </tr>\n",
       "  </thead>\n",
       "  <tbody>\n",
       "    <tr>\n",
       "      <th>0</th>\n",
       "      <td>As U.S. budget fight looms, Republicans flip t...</td>\n",
       "      <td>WASHINGTON (Reuters) - The head of a conservat...</td>\n",
       "      <td>politicsNews</td>\n",
       "      <td>December 31, 2017</td>\n",
       "      <td>0</td>\n",
       "      <td>749</td>\n",
       "      <td>10</td>\n",
       "      <td>0</td>\n",
       "      <td>2017-12-31</td>\n",
       "      <td>2017</td>\n",
       "      <td>64</td>\n",
       "      <td>4659</td>\n",
       "      <td>0.030202</td>\n",
       "      <td>0.054545</td>\n",
       "      <td>0</td>\n",
       "      <td>0</td>\n",
       "      <td>0.016021</td>\n",
       "      <td>0.100000</td>\n",
       "      <td>As U.S. budget fight looms, Republicans flip t...</td>\n",
       "    </tr>\n",
       "    <tr>\n",
       "      <th>1</th>\n",
       "      <td>U.S. military to accept transgender recruits o...</td>\n",
       "      <td>WASHINGTON (Reuters) - Transgender people will...</td>\n",
       "      <td>politicsNews</td>\n",
       "      <td>December 29, 2017</td>\n",
       "      <td>0</td>\n",
       "      <td>624</td>\n",
       "      <td>9</td>\n",
       "      <td>0</td>\n",
       "      <td>2017-12-29</td>\n",
       "      <td>2017</td>\n",
       "      <td>64</td>\n",
       "      <td>4077</td>\n",
       "      <td>0.022299</td>\n",
       "      <td>0.053571</td>\n",
       "      <td>0</td>\n",
       "      <td>0</td>\n",
       "      <td>0.011218</td>\n",
       "      <td>0.111111</td>\n",
       "      <td>U.S. military to accept transgender recruits o...</td>\n",
       "    </tr>\n",
       "    <tr>\n",
       "      <th>2</th>\n",
       "      <td>Senior U.S. Republican senator: 'Let Mr. Muell...</td>\n",
       "      <td>WASHINGTON (Reuters) - The special counsel inv...</td>\n",
       "      <td>politicsNews</td>\n",
       "      <td>December 31, 2017</td>\n",
       "      <td>0</td>\n",
       "      <td>457</td>\n",
       "      <td>10</td>\n",
       "      <td>0</td>\n",
       "      <td>2017-12-31</td>\n",
       "      <td>2017</td>\n",
       "      <td>60</td>\n",
       "      <td>2789</td>\n",
       "      <td>0.020224</td>\n",
       "      <td>0.117647</td>\n",
       "      <td>0</td>\n",
       "      <td>0</td>\n",
       "      <td>0.015317</td>\n",
       "      <td>0.100000</td>\n",
       "      <td>Senior U.S. Republican senator: 'Let Mr. Muell...</td>\n",
       "    </tr>\n",
       "    <tr>\n",
       "      <th>3</th>\n",
       "      <td>FBI Russia probe helped by Australian diplomat...</td>\n",
       "      <td>WASHINGTON (Reuters) - Trump campaign adviser ...</td>\n",
       "      <td>politicsNews</td>\n",
       "      <td>December 30, 2017</td>\n",
       "      <td>0</td>\n",
       "      <td>376</td>\n",
       "      <td>9</td>\n",
       "      <td>0</td>\n",
       "      <td>2017-12-30</td>\n",
       "      <td>2017</td>\n",
       "      <td>59</td>\n",
       "      <td>2461</td>\n",
       "      <td>0.024460</td>\n",
       "      <td>0.039216</td>\n",
       "      <td>0</td>\n",
       "      <td>0</td>\n",
       "      <td>0.010638</td>\n",
       "      <td>0.222222</td>\n",
       "      <td>FBI Russia probe helped by Australian diplomat...</td>\n",
       "    </tr>\n",
       "    <tr>\n",
       "      <th>4</th>\n",
       "      <td>Trump wants Postal Service to charge 'much mor...</td>\n",
       "      <td>SEATTLE/WASHINGTON (Reuters) - President Donal...</td>\n",
       "      <td>politicsNews</td>\n",
       "      <td>December 29, 2017</td>\n",
       "      <td>0</td>\n",
       "      <td>852</td>\n",
       "      <td>11</td>\n",
       "      <td>0</td>\n",
       "      <td>2017-12-29</td>\n",
       "      <td>2017</td>\n",
       "      <td>69</td>\n",
       "      <td>5204</td>\n",
       "      <td>0.031329</td>\n",
       "      <td>0.033898</td>\n",
       "      <td>1</td>\n",
       "      <td>0</td>\n",
       "      <td>0.017606</td>\n",
       "      <td>0.000000</td>\n",
       "      <td>Trump wants Postal Service to charge 'much mor...</td>\n",
       "    </tr>\n",
       "  </tbody>\n",
       "</table>\n",
       "</div>"
      ],
      "text/plain": [
       "                                               title  \\\n",
       "0  As U.S. budget fight looms, Republicans flip t...   \n",
       "1  U.S. military to accept transgender recruits o...   \n",
       "2  Senior U.S. Republican senator: 'Let Mr. Muell...   \n",
       "3  FBI Russia probe helped by Australian diplomat...   \n",
       "4  Trump wants Postal Service to charge 'much mor...   \n",
       "\n",
       "                                                text       subject  \\\n",
       "0  WASHINGTON (Reuters) - The head of a conservat...  politicsNews   \n",
       "1  WASHINGTON (Reuters) - Transgender people will...  politicsNews   \n",
       "2  WASHINGTON (Reuters) - The special counsel inv...  politicsNews   \n",
       "3  WASHINGTON (Reuters) - Trump campaign adviser ...  politicsNews   \n",
       "4  SEATTLE/WASHINGTON (Reuters) - President Donal...  politicsNews   \n",
       "\n",
       "                 date  IsFake  textlengthwords  titlelengthwords  \\\n",
       "0  December 31, 2017        0              749                10   \n",
       "1  December 29, 2017        0              624                 9   \n",
       "2  December 31, 2017        0              457                10   \n",
       "3  December 30, 2017        0              376                 9   \n",
       "4  December 29, 2017        0              852                11   \n",
       "\n",
       "   VideoStoryOrLink   Datetime  Year  titlelength  textlength  \\\n",
       "0                 0 2017-12-31  2017           64        4659   \n",
       "1                 0 2017-12-29  2017           64        4077   \n",
       "2                 0 2017-12-31  2017           60        2789   \n",
       "3                 0 2017-12-30  2017           59        2461   \n",
       "4                 0 2017-12-29  2017           69        5204   \n",
       "\n",
       "   text_percent_punct  title_percent_punct  text_excl  title_excl  \\\n",
       "0            0.030202             0.054545          0           0   \n",
       "1            0.022299             0.053571          0           0   \n",
       "2            0.020224             0.117647          0           0   \n",
       "3            0.024460             0.039216          0           0   \n",
       "4            0.031329             0.033898          1           0   \n",
       "\n",
       "   text_incaps  title_incaps  \\\n",
       "0     0.016021      0.100000   \n",
       "1     0.011218      0.111111   \n",
       "2     0.015317      0.100000   \n",
       "3     0.010638      0.222222   \n",
       "4     0.017606      0.000000   \n",
       "\n",
       "                                                news  \n",
       "0  As U.S. budget fight looms, Republicans flip t...  \n",
       "1  U.S. military to accept transgender recruits o...  \n",
       "2  Senior U.S. Republican senator: 'Let Mr. Muell...  \n",
       "3  FBI Russia probe helped by Australian diplomat...  \n",
       "4  Trump wants Postal Service to charge 'much mor...  "
      ]
     },
     "execution_count": 29,
     "metadata": {},
     "output_type": "execute_result"
    }
   ],
   "source": [
    "news_data['news']=news_data['title']+news_data['text']\n",
    "news_data.head()"
   ]
  },
  {
   "cell_type": "markdown",
   "metadata": {},
   "source": [
    "#### Most common words"
   ]
  },
  {
   "cell_type": "markdown",
   "metadata": {},
   "source": [
    "Pick top 30 most frequent words across all the articles."
   ]
  },
  {
   "cell_type": "code",
   "execution_count": 238,
   "metadata": {},
   "outputs": [],
   "source": [
    "fake_news_topwords=pd.Series(' '.join(news_data[news_data['IsFake']==1]['text']).split()).value_counts()[:30]\n",
    "real_news_topwords=pd.Series(' '.join(news_data[news_data['IsFake']==0]['text']).split()).value_counts()[:30]"
   ]
  },
  {
   "cell_type": "code",
   "execution_count": 252,
   "metadata": {},
   "outputs": [
    {
     "data": {
      "text/plain": [
       "Text(0.5, 1.0, 'Frequency in real news articles')"
      ]
     },
     "execution_count": 252,
     "metadata": {},
     "output_type": "execute_result"
    },
    {
     "data": {
      "image/png": "[encoded data removed]",
      "text/plain": [
       "<Figure size 1440x720 with 2 Axes>"
      ]
     },
     "metadata": {
      "needs_background": "light"
     },
     "output_type": "display_data"
    }
   ],
   "source": [
    "plt.figure(figsize=(20,10))\n",
    "\n",
    "plt.subplot(121)\n",
    "plt.bar(fake_news_topwords.index, fake_news_topwords.values)\n",
    "plt.xticks(rotation=90)\n",
    "plt.xlabel('Word')\n",
    "plt.ylabel('Frequency')\n",
    "plt.title('Frequency in fake news articles')\n",
    "\n",
    "plt.subplot(122)\n",
    "plt.bar(real_news_topwords.index, real_news_topwords.values)\n",
    "plt.xticks(rotation=90)\n",
    "plt.xlabel('Word')\n",
    "plt.ylabel('Frequency')\n",
    "plt.title('Frequency in real news articles')"
   ]
  },
  {
   "cell_type": "markdown",
   "metadata": {},
   "source": [
    "At the minute the top words are all nearly all just common 'stop words', which are always going to feature frequently in any English text and do not really add much meaning/context. \n",
    "\n",
    "We're also seeing duplicates with different capitalisation (e.g. The/the) .\n",
    "\n",
    "We need to 'clean' the text to remove these common words and standardize the text to lower case."
   ]
  },
  {
   "cell_type": "code",
   "execution_count": 87,
   "metadata": {},
   "outputs": [],
   "source": [
    "stopwordslist = stopwords.words('english')\n",
    "\n",
    "def clean_text(text):\n",
    "    text=\"\".join([letter for letter in text if letter not in string.punctuation])\n",
    "    tokens=re.split('\\W+',text)\n",
    "    output_text=\" \".join([word.lower() for word in tokens if word.lower() not in stopwordslist])\n",
    "    return output_text"
   ]
  },
  {
   "cell_type": "code",
   "execution_count": 88,
   "metadata": {},
   "outputs": [],
   "source": [
    "news_data['news_clean']=news_data['news'].apply(lambda x: clean_text(x))"
   ]
  },
  {
   "cell_type": "code",
   "execution_count": 89,
   "metadata": {},
   "outputs": [],
   "source": [
    "fake_news_topwords=pd.Series(' '.join(news_data[news_data['IsFake']==1]['news_clean']).split()).value_counts()[:30]\n",
    "real_news_topwords=pd.Series(' '.join(news_data[news_data['IsFake']==0]['news_clean']).split()).value_counts()[:30]"
   ]
  },
  {
   "cell_type": "code",
   "execution_count": 90,
   "metadata": {},
   "outputs": [
    {
     "data": {
      "text/plain": [
       "Text(0.5, 1.0, 'Frequency in real news articles')"
      ]
     },
     "execution_count": 90,
     "metadata": {},
     "output_type": "execute_result"
    },
    {
     "data": {
      "image/png": "[encoded data removed]",
      "text/plain": [
       "<Figure size 1440x720 with 2 Axes>"
      ]
     },
     "metadata": {
      "needs_background": "light"
     },
     "output_type": "display_data"
    }
   ],
   "source": [
    "plt.figure(figsize=(20,10))\n",
    "\n",
    "plt.subplot(121)\n",
    "plt.bar(fake_news_topwords.index, fake_news_topwords.values)\n",
    "plt.xticks(rotation=90)\n",
    "plt.xlabel('Word')\n",
    "plt.ylabel('Frequency')\n",
    "plt.title('Frequency in fake news articles')\n",
    "\n",
    "plt.subplot(122)\n",
    "plt.bar(real_news_topwords.index, real_news_topwords.values)\n",
    "plt.xticks(rotation=90)\n",
    "plt.xlabel('Word')\n",
    "plt.ylabel('Frequency')\n",
    "plt.title('Frequency in real news articles')"
   ]
  },
  {
   "cell_type": "markdown",
   "metadata": {},
   "source": [
    "The top words now are a much better representation of the topics frequently being discussed (i.e. US politics)."
   ]
  },
  {
   "cell_type": "markdown",
   "metadata": {},
   "source": [
    "# Model using word features"
   ]
  },
  {
   "cell_type": "markdown",
   "metadata": {},
   "source": [
    "We'll first try creating an NLP model built from the text & title of the articles."
   ]
  },
  {
   "cell_type": "code",
   "execution_count": 91,
   "metadata": {},
   "outputs": [],
   "source": [
    "X = news_data['news_clean']\n",
    "y = news_data['IsFake']\n",
    "\n",
    "X_train, X_test, y_train, y_test = train_test_split(X, y,test_size=0.2,random_state=101)"
   ]
  },
  {
   "cell_type": "markdown",
   "metadata": {},
   "source": [
    "#### Using simple count vectoriser"
   ]
  },
  {
   "cell_type": "code",
   "execution_count": 92,
   "metadata": {},
   "outputs": [],
   "source": [
    "cv_text = CountVectorizer()\n",
    "X_train_vect = cv_text.fit_transform(X_train)\n",
    "X_test_vect=cv_text.transform(X_test)\n",
    "\n",
    "# Naive-Bayes Model\n",
    "naivebayes = MultinomialNB()\n",
    "naivebayes.fit(X_train_vect,y_train)\n",
    "\n",
    "# Random Forest Model\n",
    "rf=RandomForestClassifier()\n",
    "rf.fit(X_train_vect,y_train)\n",
    "\n",
    "\n",
    "#Confusion matrices\n",
    "cm_train_nb = confusion_matrix(y_train, naivebayes.predict(X_train_vect) , labels=[0, 1])\n",
    "cm_train_rf = confusion_matrix(y_train, rf.predict(X_train_vect) , labels=[0, 1])\n",
    "cm_test_nb = confusion_matrix(y_test, naivebayes.predict(X_test_vect) , labels=[0, 1])\n",
    "cm_test_rf = confusion_matrix(y_test, rf.predict(X_test_vect) , labels=[0, 1])"
   ]
  },
  {
   "cell_type": "code",
   "execution_count": 93,
   "metadata": {},
   "outputs": [
    {
     "data": {
      "text/plain": [
       "Text(0.5, 1, 'Random Forest (test set) - accuracy 0.972')"
      ]
     },
     "execution_count": 93,
     "metadata": {},
     "output_type": "execute_result"
    },
    {
     "data": {
      "image/png": "[encoded data removed]",
      "text/plain": [
       "<Figure size 1440x720 with 8 Axes>"
      ]
     },
     "metadata": {
      "needs_background": "light"
     },
     "output_type": "display_data"
    }
   ],
   "source": [
    "plt.figure(figsize=(20,10))\n",
    "\n",
    "plt.subplot(221)\n",
    "sns.heatmap(cm_train_nb, annot=True,fmt='g')\n",
    "plt.xlabel('Predicted values')\n",
    "plt.ylabel('True values')\n",
    "plt.title('Naive Bayes (training set) - accuracy '+str(round(accuracy_score(y_train,naivebayes.predict(X_train_vect)),3)))\n",
    "\n",
    "plt.subplot(222)\n",
    "sns.heatmap(cm_test_nb, annot=True,fmt='g')\n",
    "plt.xlabel('Predicted values')\n",
    "plt.ylabel('True values')\n",
    "plt.title('Naive Bayes (test set) - accuracy '+str(round(accuracy_score(y_test,naivebayes.predict(X_test_vect)),3)))\n",
    "\n",
    "plt.subplot(223)\n",
    "sns.heatmap(cm_train_rf, annot=True,fmt='g')\n",
    "plt.xlabel('Predicted values')\n",
    "plt.ylabel('True values')\n",
    "plt.title('Random Forest (training set) - accuracy '+str(round(accuracy_score(y_train,rf.predict(X_train_vect)),3)))\n",
    "\n",
    "plt.subplot(224)\n",
    "sns.heatmap(cm_test_rf, annot=True,fmt='g')\n",
    "plt.xlabel('Predicted values')\n",
    "plt.ylabel('True values')\n",
    "plt.title('Random Forest (test set) - accuracy '+str(round(accuracy_score(y_test,rf.predict(X_test_vect)),3)))"
   ]
  },
  {
   "cell_type": "markdown",
   "metadata": {},
   "source": [
    "Both NB and RF models appear to perform extremely well (with a high degree of accuracy) random forest appears to perform slightly better on the test set however."
   ]
  },
  {
   "cell_type": "markdown",
   "metadata": {},
   "source": [
    "#### Using TFIDF Vectoriser"
   ]
  },
  {
   "cell_type": "markdown",
   "metadata": {},
   "source": [
    "Try using a TFIDF vectoriser, which weights words according to their frequency in the article as well as accounting for their frequency in the overall set of articles. This may be able to improve performance even further."
   ]
  },
  {
   "cell_type": "code",
   "execution_count": 51,
   "metadata": {},
   "outputs": [],
   "source": [
    "from sklearn.feature_extraction.text import TfidfVectorizer"
   ]
  },
  {
   "cell_type": "code",
   "execution_count": 52,
   "metadata": {},
   "outputs": [],
   "source": [
    "tfidf_vect = TfidfVectorizer()\n",
    "X_train_vect = tfidf_vect.fit_transform(X_train)\n",
    "X_test_vect=tfidf_vect.transform(X_test)\n",
    "\n",
    "# Naive-Bayes Model\n",
    "naivebayes = MultinomialNB()\n",
    "naivebayes.fit(X_train_vect,y_train)\n",
    "\n",
    "# Random Forest Model\n",
    "rf=RandomForestClassifier()\n",
    "rf.fit(X_train_vect,y_train)\n",
    "\n",
    "\n",
    "#Confusion matrices\n",
    "cm_train_nb = confusion_matrix(y_train, naivebayes.predict(X_train_vect) , labels=[0, 1])\n",
    "cm_train_rf = confusion_matrix(y_train, rf.predict(X_train_vect) , labels=[0, 1])\n",
    "cm_test_nb = confusion_matrix(y_test, naivebayes.predict(X_test_vect) , labels=[0, 1])\n",
    "cm_test_rf = confusion_matrix(y_test, rf.predict(X_test_vect) , labels=[0, 1])"
   ]
  },
  {
   "cell_type": "code",
   "execution_count": 53,
   "metadata": {},
   "outputs": [
    {
     "data": {
      "text/plain": [
       "Text(0.5, 1, 'Random Forest (test set) - accuracy 0.976')"
      ]
     },
     "execution_count": 53,
     "metadata": {},
     "output_type": "execute_result"
    },
    {
     "data": {
      "image/png": "[encoded data removed]",
      "text/plain": [
       "<Figure size 1440x720 with 8 Axes>"
      ]
     },
     "metadata": {
      "needs_background": "light"
     },
     "output_type": "display_data"
    }
   ],
   "source": [
    "plt.figure(figsize=(20,10))\n",
    "\n",
    "plt.subplot(221)\n",
    "sns.heatmap(cm_train_nb, annot=True,fmt='g')\n",
    "plt.xlabel('Predicted values')\n",
    "plt.ylabel('True values')\n",
    "plt.title('Naive Bayes (training set) - accuracy '+str(round(accuracy_score(y_train,naivebayes.predict(X_train_vect)),3)))\n",
    "\n",
    "plt.subplot(222)\n",
    "sns.heatmap(cm_test_nb, annot=True,fmt='g')\n",
    "plt.xlabel('Predicted values')\n",
    "plt.ylabel('True values')\n",
    "plt.title('Naive Bayes (test set) - accuracy '+str(round(accuracy_score(y_test,naivebayes.predict(X_test_vect)),3)))\n",
    "\n",
    "plt.subplot(223)\n",
    "sns.heatmap(cm_train_rf, annot=True,fmt='g')\n",
    "plt.xlabel('Predicted values')\n",
    "plt.ylabel('True values')\n",
    "plt.title('Random Forest (training set) - accuracy '+str(round(accuracy_score(y_train,rf.predict(X_train_vect)),3)))\n",
    "\n",
    "plt.subplot(224)\n",
    "sns.heatmap(cm_test_rf, annot=True,fmt='g')\n",
    "plt.xlabel('Predicted values')\n",
    "plt.ylabel('True values')\n",
    "plt.title('Random Forest (test set) - accuracy '+str(round(accuracy_score(y_test,rf.predict(X_test_vect)),3)))"
   ]
  },
  {
   "cell_type": "markdown",
   "metadata": {},
   "source": [
    "The TFIDF vectoriser seems to slightly worsen the performance of the Naive-Bayes model, although appears to give a marginally better accuracy for random forest."
   ]
  },
  {
   "cell_type": "markdown",
   "metadata": {},
   "source": [
    "#### Feature importance"
   ]
  },
  {
   "cell_type": "markdown",
   "metadata": {},
   "source": [
    "Take top 50 most important features of the random forest model."
   ]
  },
  {
   "cell_type": "code",
   "execution_count": 94,
   "metadata": {},
   "outputs": [],
   "source": [
    "rf_feature_importances=pd.Series(rf.feature_importances_, index=tfidf_vect.get_feature_names()).sort_values(ascending=False)[:50]"
   ]
  },
  {
   "cell_type": "code",
   "execution_count": 95,
   "metadata": {},
   "outputs": [
    {
     "data": {
      "text/plain": [
       "Text(0.5, 1.0, 'Feature importance')"
      ]
     },
     "execution_count": 95,
     "metadata": {},
     "output_type": "execute_result"
    },
    {
     "data": {
      "image/png": "[encoded data removed]",
      "text/plain": [
       "<Figure size 1440x720 with 1 Axes>"
      ]
     },
     "metadata": {
      "needs_background": "light"
     },
     "output_type": "display_data"
    }
   ],
   "source": [
    "plt.figure(figsize=(20,10))\n",
    "\n",
    "plt.bar(rf_feature_importances.index, rf_feature_importances.values)\n",
    "plt.xticks(rotation=90)\n",
    "plt.xlabel('Word')\n",
    "plt.ylabel('Importance')\n",
    "plt.title('Feature importance')\n"
   ]
  },
  {
   "cell_type": "markdown",
   "metadata": {},
   "source": [
    "The first thing we notice is that the most important feature/word in the model is 'reuters' - going back and looking at the initial data we see that many articles from the real news dataset begin by stating Reuters as the source of publication. \n",
    "\n",
    "As a result almost all the articles containing the word 'Reuters' are real - hence the model is learning that the presence of the word is a strong predictor of the news article being genuine."
   ]
  },
  {
   "cell_type": "code",
   "execution_count": 99,
   "metadata": {},
   "outputs": [
    {
     "data": {
      "text/plain": [
       "0    21159\n",
       "1      220\n",
       "Name: IsFake, dtype: int64"
      ]
     },
     "metadata": {},
     "output_type": "display_data"
    },
    {
     "data": {
      "text/html": [
       "<div>\n",
       "<style scoped>\n",
       "    .dataframe tbody tr th:only-of-type {\n",
       "        vertical-align: middle;\n",
       "    }\n",
       "\n",
       "    .dataframe tbody tr th {\n",
       "        vertical-align: top;\n",
       "    }\n",
       "\n",
       "    .dataframe thead th {\n",
       "        text-align: right;\n",
       "    }\n",
       "</style>\n",
       "<table border=\"1\" class=\"dataframe\">\n",
       "  <thead>\n",
       "    <tr style=\"text-align: right;\">\n",
       "      <th></th>\n",
       "      <th>title</th>\n",
       "      <th>text</th>\n",
       "      <th>subject</th>\n",
       "      <th>date</th>\n",
       "      <th>IsFake</th>\n",
       "      <th>textlengthwords</th>\n",
       "      <th>titlelengthwords</th>\n",
       "      <th>VideoStoryOrLink</th>\n",
       "      <th>Datetime</th>\n",
       "      <th>Year</th>\n",
       "      <th>titlelength</th>\n",
       "      <th>textlength</th>\n",
       "      <th>text_percent_punct</th>\n",
       "      <th>title_percent_punct</th>\n",
       "      <th>text_excl</th>\n",
       "      <th>title_excl</th>\n",
       "      <th>text_incaps</th>\n",
       "      <th>title_incaps</th>\n",
       "      <th>news</th>\n",
       "      <th>news_clean</th>\n",
       "    </tr>\n",
       "  </thead>\n",
       "  <tbody>\n",
       "    <tr>\n",
       "      <th>0</th>\n",
       "      <td>As U.S. budget fight looms, Republicans flip t...</td>\n",
       "      <td>WASHINGTON (Reuters) - The head of a conservat...</td>\n",
       "      <td>politicsNews</td>\n",
       "      <td>December 31, 2017</td>\n",
       "      <td>0</td>\n",
       "      <td>749</td>\n",
       "      <td>10</td>\n",
       "      <td>0</td>\n",
       "      <td>2017-12-31</td>\n",
       "      <td>2017</td>\n",
       "      <td>64</td>\n",
       "      <td>4659</td>\n",
       "      <td>0.030202</td>\n",
       "      <td>0.054545</td>\n",
       "      <td>0</td>\n",
       "      <td>0</td>\n",
       "      <td>0.016021</td>\n",
       "      <td>0.100000</td>\n",
       "      <td>As U.S. budget fight looms, Republicans flip t...</td>\n",
       "      <td>us budget fight looms republicans flip fiscal ...</td>\n",
       "    </tr>\n",
       "    <tr>\n",
       "      <th>1</th>\n",
       "      <td>U.S. military to accept transgender recruits o...</td>\n",
       "      <td>WASHINGTON (Reuters) - Transgender people will...</td>\n",
       "      <td>politicsNews</td>\n",
       "      <td>December 29, 2017</td>\n",
       "      <td>0</td>\n",
       "      <td>624</td>\n",
       "      <td>9</td>\n",
       "      <td>0</td>\n",
       "      <td>2017-12-29</td>\n",
       "      <td>2017</td>\n",
       "      <td>64</td>\n",
       "      <td>4077</td>\n",
       "      <td>0.022299</td>\n",
       "      <td>0.053571</td>\n",
       "      <td>0</td>\n",
       "      <td>0</td>\n",
       "      <td>0.011218</td>\n",
       "      <td>0.111111</td>\n",
       "      <td>U.S. military to accept transgender recruits o...</td>\n",
       "      <td>us military accept transgender recruits monday...</td>\n",
       "    </tr>\n",
       "    <tr>\n",
       "      <th>2</th>\n",
       "      <td>Senior U.S. Republican senator: 'Let Mr. Muell...</td>\n",
       "      <td>WASHINGTON (Reuters) - The special counsel inv...</td>\n",
       "      <td>politicsNews</td>\n",
       "      <td>December 31, 2017</td>\n",
       "      <td>0</td>\n",
       "      <td>457</td>\n",
       "      <td>10</td>\n",
       "      <td>0</td>\n",
       "      <td>2017-12-31</td>\n",
       "      <td>2017</td>\n",
       "      <td>60</td>\n",
       "      <td>2789</td>\n",
       "      <td>0.020224</td>\n",
       "      <td>0.117647</td>\n",
       "      <td>0</td>\n",
       "      <td>0</td>\n",
       "      <td>0.015317</td>\n",
       "      <td>0.100000</td>\n",
       "      <td>Senior U.S. Republican senator: 'Let Mr. Muell...</td>\n",
       "      <td>senior us republican senator let mr mueller jo...</td>\n",
       "    </tr>\n",
       "    <tr>\n",
       "      <th>3</th>\n",
       "      <td>FBI Russia probe helped by Australian diplomat...</td>\n",
       "      <td>WASHINGTON (Reuters) - Trump campaign adviser ...</td>\n",
       "      <td>politicsNews</td>\n",
       "      <td>December 30, 2017</td>\n",
       "      <td>0</td>\n",
       "      <td>376</td>\n",
       "      <td>9</td>\n",
       "      <td>0</td>\n",
       "      <td>2017-12-30</td>\n",
       "      <td>2017</td>\n",
       "      <td>59</td>\n",
       "      <td>2461</td>\n",
       "      <td>0.024460</td>\n",
       "      <td>0.039216</td>\n",
       "      <td>0</td>\n",
       "      <td>0</td>\n",
       "      <td>0.010638</td>\n",
       "      <td>0.222222</td>\n",
       "      <td>FBI Russia probe helped by Australian diplomat...</td>\n",
       "      <td>fbi russia probe helped australian diplomat ti...</td>\n",
       "    </tr>\n",
       "    <tr>\n",
       "      <th>4</th>\n",
       "      <td>Trump wants Postal Service to charge 'much mor...</td>\n",
       "      <td>SEATTLE/WASHINGTON (Reuters) - President Donal...</td>\n",
       "      <td>politicsNews</td>\n",
       "      <td>December 29, 2017</td>\n",
       "      <td>0</td>\n",
       "      <td>852</td>\n",
       "      <td>11</td>\n",
       "      <td>0</td>\n",
       "      <td>2017-12-29</td>\n",
       "      <td>2017</td>\n",
       "      <td>69</td>\n",
       "      <td>5204</td>\n",
       "      <td>0.031329</td>\n",
       "      <td>0.033898</td>\n",
       "      <td>1</td>\n",
       "      <td>0</td>\n",
       "      <td>0.017606</td>\n",
       "      <td>0.000000</td>\n",
       "      <td>Trump wants Postal Service to charge 'much mor...</td>\n",
       "      <td>trump wants postal service charge much amazon ...</td>\n",
       "    </tr>\n",
       "  </tbody>\n",
       "</table>\n",
       "</div>"
      ],
      "text/plain": [
       "                                               title  \\\n",
       "0  As U.S. budget fight looms, Republicans flip t...   \n",
       "1  U.S. military to accept transgender recruits o...   \n",
       "2  Senior U.S. Republican senator: 'Let Mr. Muell...   \n",
       "3  FBI Russia probe helped by Australian diplomat...   \n",
       "4  Trump wants Postal Service to charge 'much mor...   \n",
       "\n",
       "                                                text       subject  \\\n",
       "0  WASHINGTON (Reuters) - The head of a conservat...  politicsNews   \n",
       "1  WASHINGTON (Reuters) - Transgender people will...  politicsNews   \n",
       "2  WASHINGTON (Reuters) - The special counsel inv...  politicsNews   \n",
       "3  WASHINGTON (Reuters) - Trump campaign adviser ...  politicsNews   \n",
       "4  SEATTLE/WASHINGTON (Reuters) - President Donal...  politicsNews   \n",
       "\n",
       "                 date  IsFake  textlengthwords  titlelengthwords  \\\n",
       "0  December 31, 2017        0              749                10   \n",
       "1  December 29, 2017        0              624                 9   \n",
       "2  December 31, 2017        0              457                10   \n",
       "3  December 30, 2017        0              376                 9   \n",
       "4  December 29, 2017        0              852                11   \n",
       "\n",
       "   VideoStoryOrLink   Datetime  Year  titlelength  textlength  \\\n",
       "0                 0 2017-12-31  2017           64        4659   \n",
       "1                 0 2017-12-29  2017           64        4077   \n",
       "2                 0 2017-12-31  2017           60        2789   \n",
       "3                 0 2017-12-30  2017           59        2461   \n",
       "4                 0 2017-12-29  2017           69        5204   \n",
       "\n",
       "   text_percent_punct  title_percent_punct  text_excl  title_excl  \\\n",
       "0            0.030202             0.054545          0           0   \n",
       "1            0.022299             0.053571          0           0   \n",
       "2            0.020224             0.117647          0           0   \n",
       "3            0.024460             0.039216          0           0   \n",
       "4            0.031329             0.033898          1           0   \n",
       "\n",
       "   text_incaps  title_incaps  \\\n",
       "0     0.016021      0.100000   \n",
       "1     0.011218      0.111111   \n",
       "2     0.015317      0.100000   \n",
       "3     0.010638      0.222222   \n",
       "4     0.017606      0.000000   \n",
       "\n",
       "                                                news  \\\n",
       "0  As U.S. budget fight looms, Republicans flip t...   \n",
       "1  U.S. military to accept transgender recruits o...   \n",
       "2  Senior U.S. Republican senator: 'Let Mr. Muell...   \n",
       "3  FBI Russia probe helped by Australian diplomat...   \n",
       "4  Trump wants Postal Service to charge 'much mor...   \n",
       "\n",
       "                                          news_clean  \n",
       "0  us budget fight looms republicans flip fiscal ...  \n",
       "1  us military accept transgender recruits monday...  \n",
       "2  senior us republican senator let mr mueller jo...  \n",
       "3  fbi russia probe helped australian diplomat ti...  \n",
       "4  trump wants postal service charge much amazon ...  "
      ]
     },
     "execution_count": 99,
     "metadata": {},
     "output_type": "execute_result"
    }
   ],
   "source": [
    "reuters=news_data[news_data['text'].str.lower().str.contains('reuters')]\n",
    "display(reuters['IsFake'].value_counts())\n",
    "reuters.head()"
   ]
  },
  {
   "cell_type": "markdown",
   "metadata": {},
   "source": [
    "It isn't particularly desirable for our model to have learnt this as the most important word/feature in predicting whether an article is real news. It is really just a result of how the genuine articles have been sampled that the publisher appears named as the source in the text, rather than a feature of how the article text itself is written. \n",
    "\n",
    "Let's try removing 'Reuters' from the corpus and see if we still get a good model performance."
   ]
  },
  {
   "cell_type": "code",
   "execution_count": 101,
   "metadata": {},
   "outputs": [],
   "source": [
    "def clean_text2(text):\n",
    "    text=\"\".join([letter for letter in text if letter not in string.punctuation])\n",
    "    tokens=re.split('\\W+',text)\n",
    "    output_text=\" \".join([word.lower() for word in tokens if word.lower() not in stopwordslist and word.lower()!='reuters'])\n",
    "    return output_text"
   ]
  },
  {
   "cell_type": "code",
   "execution_count": 102,
   "metadata": {},
   "outputs": [],
   "source": [
    "news_data['news_clean']=news_data['news'].apply(lambda x: clean_text2(x))"
   ]
  },
  {
   "cell_type": "code",
   "execution_count": 103,
   "metadata": {},
   "outputs": [],
   "source": [
    "X = news_data['news_clean']\n",
    "y = news_data['IsFake']\n",
    "\n",
    "X_train, X_test, y_train, y_test = train_test_split(X, y,test_size=0.2,random_state=101)"
   ]
  },
  {
   "cell_type": "code",
   "execution_count": 104,
   "metadata": {},
   "outputs": [],
   "source": [
    "tfidf_vect = TfidfVectorizer()\n",
    "X_train_vect = tfidf_vect.fit_transform(X_train)\n",
    "X_test_vect=tfidf_vect.transform(X_test)\n",
    "\n",
    "# Random Forest Model\n",
    "rf=RandomForestClassifier()\n",
    "rf.fit(X_train_vect,y_train)\n",
    "\n",
    "#Confusion matrices\n",
    "cm_train_rf = confusion_matrix(y_train, rf.predict(X_train_vect) , labels=[0, 1])\n",
    "cm_test_rf = confusion_matrix(y_test, rf.predict(X_test_vect) , labels=[0, 1])"
   ]
  },
  {
   "cell_type": "code",
   "execution_count": 109,
   "metadata": {},
   "outputs": [
    {
     "data": {
      "text/plain": [
       "Text(0.5, 1, 'Random Forest (test set) - accuracy 0.964')"
      ]
     },
     "execution_count": 109,
     "metadata": {},
     "output_type": "execute_result"
    },
    {
     "data": {
      "image/png": "[encoded data removed]",
      "text/plain": [
       "<Figure size 1080x432 with 4 Axes>"
      ]
     },
     "metadata": {
      "needs_background": "light"
     },
     "output_type": "display_data"
    }
   ],
   "source": [
    "plt.figure(figsize=(15,6))\n",
    "\n",
    "\n",
    "plt.subplot(121)\n",
    "sns.heatmap(cm_train_rf, annot=True,fmt='g')\n",
    "plt.xlabel('Predicted values')\n",
    "plt.ylabel('True values')\n",
    "plt.title('Random Forest (training set) - accuracy '+str(round(accuracy_score(y_train,rf.predict(X_train_vect)),3)))\n",
    "\n",
    "plt.subplot(122)\n",
    "sns.heatmap(cm_test_rf, annot=True,fmt='g')\n",
    "plt.xlabel('Predicted values')\n",
    "plt.ylabel('True values')\n",
    "plt.title('Random Forest (test set) - accuracy '+str(round(accuracy_score(y_test,rf.predict(X_test_vect)),3)))"
   ]
  },
  {
   "cell_type": "markdown",
   "metadata": {},
   "source": [
    "Fortunately it seems we don't lose very much accuracy from taking 'Reuters' out of the corpus."
   ]
  },
  {
   "cell_type": "markdown",
   "metadata": {},
   "source": [
    "## Model using non-word features"
   ]
  },
  {
   "cell_type": "markdown",
   "metadata": {},
   "source": [
    "Try training an alternative model using the auxiliary features we have engineered."
   ]
  },
  {
   "cell_type": "code",
   "execution_count": 110,
   "metadata": {},
   "outputs": [
    {
     "data": {
      "text/html": [
       "<div>\n",
       "<style scoped>\n",
       "    .dataframe tbody tr th:only-of-type {\n",
       "        vertical-align: middle;\n",
       "    }\n",
       "\n",
       "    .dataframe tbody tr th {\n",
       "        vertical-align: top;\n",
       "    }\n",
       "\n",
       "    .dataframe thead th {\n",
       "        text-align: right;\n",
       "    }\n",
       "</style>\n",
       "<table border=\"1\" class=\"dataframe\">\n",
       "  <thead>\n",
       "    <tr style=\"text-align: right;\">\n",
       "      <th></th>\n",
       "      <th>titlelength</th>\n",
       "      <th>textlength</th>\n",
       "      <th>title_excl</th>\n",
       "      <th>text_excl</th>\n",
       "      <th>title_incaps</th>\n",
       "      <th>VideoStoryOrLink</th>\n",
       "    </tr>\n",
       "  </thead>\n",
       "  <tbody>\n",
       "    <tr>\n",
       "      <th>4986</th>\n",
       "      <td>66</td>\n",
       "      <td>2512</td>\n",
       "      <td>0</td>\n",
       "      <td>0</td>\n",
       "      <td>0.000000</td>\n",
       "      <td>0</td>\n",
       "    </tr>\n",
       "    <tr>\n",
       "      <th>7799</th>\n",
       "      <td>78</td>\n",
       "      <td>2758</td>\n",
       "      <td>0</td>\n",
       "      <td>0</td>\n",
       "      <td>0.090909</td>\n",
       "      <td>0</td>\n",
       "    </tr>\n",
       "    <tr>\n",
       "      <th>6146</th>\n",
       "      <td>60</td>\n",
       "      <td>3903</td>\n",
       "      <td>0</td>\n",
       "      <td>0</td>\n",
       "      <td>0.181818</td>\n",
       "      <td>0</td>\n",
       "    </tr>\n",
       "    <tr>\n",
       "      <th>11424</th>\n",
       "      <td>102</td>\n",
       "      <td>264</td>\n",
       "      <td>0</td>\n",
       "      <td>1</td>\n",
       "      <td>0.388889</td>\n",
       "      <td>0</td>\n",
       "    </tr>\n",
       "    <tr>\n",
       "      <th>22863</th>\n",
       "      <td>72</td>\n",
       "      <td>1058</td>\n",
       "      <td>0</td>\n",
       "      <td>0</td>\n",
       "      <td>0.100000</td>\n",
       "      <td>0</td>\n",
       "    </tr>\n",
       "  </tbody>\n",
       "</table>\n",
       "</div>"
      ],
      "text/plain": [
       "       titlelength  textlength  title_excl  text_excl  title_incaps  \\\n",
       "4986            66        2512           0          0      0.000000   \n",
       "7799            78        2758           0          0      0.090909   \n",
       "6146            60        3903           0          0      0.181818   \n",
       "11424          102         264           0          1      0.388889   \n",
       "22863           72        1058           0          0      0.100000   \n",
       "\n",
       "       VideoStoryOrLink  \n",
       "4986                  0  \n",
       "7799                  0  \n",
       "6146                  0  \n",
       "11424                 0  \n",
       "22863                 0  "
      ]
     },
     "execution_count": 110,
     "metadata": {},
     "output_type": "execute_result"
    }
   ],
   "source": [
    "X = news_data[['titlelength','textlength','title_excl','text_excl','title_incaps','VideoStoryOrLink']]\n",
    "y = news_data['IsFake']\n",
    "\n",
    "X_train, X_test, y_train, y_test = train_test_split(X, y,test_size=0.2,random_state=101)\n",
    "X_train.head()"
   ]
  },
  {
   "cell_type": "markdown",
   "metadata": {},
   "source": [
    "Scale the variables"
   ]
  },
  {
   "cell_type": "code",
   "execution_count": 111,
   "metadata": {},
   "outputs": [
    {
     "data": {
      "text/html": [
       "<div>\n",
       "<style scoped>\n",
       "    .dataframe tbody tr th:only-of-type {\n",
       "        vertical-align: middle;\n",
       "    }\n",
       "\n",
       "    .dataframe tbody tr th {\n",
       "        vertical-align: top;\n",
       "    }\n",
       "\n",
       "    .dataframe thead th {\n",
       "        text-align: right;\n",
       "    }\n",
       "</style>\n",
       "<table border=\"1\" class=\"dataframe\">\n",
       "  <thead>\n",
       "    <tr style=\"text-align: right;\">\n",
       "      <th></th>\n",
       "      <th>titlelength</th>\n",
       "      <th>textlength</th>\n",
       "      <th>title_excl</th>\n",
       "      <th>text_excl</th>\n",
       "      <th>title_incaps</th>\n",
       "      <th>VideoStoryOrLink</th>\n",
       "    </tr>\n",
       "  </thead>\n",
       "  <tbody>\n",
       "    <tr>\n",
       "      <th>0</th>\n",
       "      <td>-0.489078</td>\n",
       "      <td>0.049343</td>\n",
       "      <td>-0.243991</td>\n",
       "      <td>-0.440100</td>\n",
       "      <td>-0.696141</td>\n",
       "      <td>-0.123076</td>\n",
       "    </tr>\n",
       "    <tr>\n",
       "      <th>1</th>\n",
       "      <td>0.043705</td>\n",
       "      <td>0.176267</td>\n",
       "      <td>-0.243991</td>\n",
       "      <td>-0.440100</td>\n",
       "      <td>-0.141182</td>\n",
       "      <td>-0.123076</td>\n",
       "    </tr>\n",
       "    <tr>\n",
       "      <th>2</th>\n",
       "      <td>-0.755469</td>\n",
       "      <td>0.767032</td>\n",
       "      <td>-0.243991</td>\n",
       "      <td>-0.440100</td>\n",
       "      <td>0.413777</td>\n",
       "      <td>-0.123076</td>\n",
       "    </tr>\n",
       "    <tr>\n",
       "      <th>3</th>\n",
       "      <td>1.109271</td>\n",
       "      <td>-1.110515</td>\n",
       "      <td>-0.243991</td>\n",
       "      <td>2.272211</td>\n",
       "      <td>1.677850</td>\n",
       "      <td>-0.123076</td>\n",
       "    </tr>\n",
       "    <tr>\n",
       "      <th>4</th>\n",
       "      <td>-0.222686</td>\n",
       "      <td>-0.700850</td>\n",
       "      <td>-0.243991</td>\n",
       "      <td>-0.440100</td>\n",
       "      <td>-0.085686</td>\n",
       "      <td>-0.123076</td>\n",
       "    </tr>\n",
       "  </tbody>\n",
       "</table>\n",
       "</div>"
      ],
      "text/plain": [
       "   titlelength  textlength  title_excl  text_excl  title_incaps  \\\n",
       "0    -0.489078    0.049343   -0.243991  -0.440100     -0.696141   \n",
       "1     0.043705    0.176267   -0.243991  -0.440100     -0.141182   \n",
       "2    -0.755469    0.767032   -0.243991  -0.440100      0.413777   \n",
       "3     1.109271   -1.110515   -0.243991   2.272211      1.677850   \n",
       "4    -0.222686   -0.700850   -0.243991  -0.440100     -0.085686   \n",
       "\n",
       "   VideoStoryOrLink  \n",
       "0         -0.123076  \n",
       "1         -0.123076  \n",
       "2         -0.123076  \n",
       "3         -0.123076  \n",
       "4         -0.123076  "
      ]
     },
     "execution_count": 111,
     "metadata": {},
     "output_type": "execute_result"
    }
   ],
   "source": [
    "from sklearn.preprocessing import StandardScaler\n",
    "\n",
    "scaler = StandardScaler()\n",
    "\n",
    "X_train_scaled = pd.DataFrame(scaler.fit_transform(X_train.values),columns=X_train.columns)\n",
    "X_test_scaled = pd.DataFrame(scaler.transform(X_test.values),columns=X_test.columns)\n",
    "\n",
    "\n",
    "X_train_scaled.head()"
   ]
  },
  {
   "cell_type": "markdown",
   "metadata": {},
   "source": [
    "We'll try training a logistic regression as well as another random forest model"
   ]
  },
  {
   "cell_type": "code",
   "execution_count": 112,
   "metadata": {},
   "outputs": [],
   "source": [
    "\n",
    "# Logistic Regression Model\n",
    "from sklearn.linear_model import LogisticRegression\n",
    "lrmodel = LogisticRegression()\n",
    "lrmodel.fit(X_train_scaled, y_train)\n",
    "\n",
    "# Random Forest Model\n",
    "rf=RandomForestClassifier()\n",
    "rf.fit(X_train_scaled,y_train)\n",
    "\n",
    "\n",
    "#Confusion matrices\n",
    "cm_train_nb = confusion_matrix(y_train, lrmodel.predict(X_train_scaled) , labels=[0, 1])\n",
    "cm_train_rf = confusion_matrix(y_train, rf.predict(X_train_scaled) , labels=[0, 1])\n",
    "cm_test_nb = confusion_matrix(y_test, lrmodel.predict(X_test_scaled) , labels=[0, 1])\n",
    "cm_test_rf = confusion_matrix(y_test, rf.predict(X_test_scaled) , labels=[0, 1])"
   ]
  },
  {
   "cell_type": "code",
   "execution_count": 59,
   "metadata": {},
   "outputs": [
    {
     "data": {
      "text/plain": [
       "Text(0.5, 1, 'Random Forest (test set) - accuracy 0.9')"
      ]
     },
     "execution_count": 59,
     "metadata": {},
     "output_type": "execute_result"
    },
    {
     "data": {
      "image/png": "[encoded data removed]",
      "text/plain": [
       "<Figure size 1440x720 with 8 Axes>"
      ]
     },
     "metadata": {
      "needs_background": "light"
     },
     "output_type": "display_data"
    }
   ],
   "source": [
    "plt.figure(figsize=(20,10))\n",
    "\n",
    "plt.subplot(221)\n",
    "sns.heatmap(cm_train_nb, annot=True,fmt='g')\n",
    "plt.xlabel('Predicted values')\n",
    "plt.ylabel('True values')\n",
    "plt.title('Logistic Regression (training set) - accuracy '+str(round(accuracy_score(y_train,lrmodel.predict(X_train_scaled)),3)))\n",
    "\n",
    "plt.subplot(222)\n",
    "sns.heatmap(cm_test_nb, annot=True,fmt='g')\n",
    "plt.xlabel('Predicted values')\n",
    "plt.ylabel('True values')\n",
    "plt.title('Logistic Regression (test set) - accuracy '+str(round(accuracy_score(y_test,lrmodel.predict(X_test_scaled)),3)))\n",
    "\n",
    "plt.subplot(223)\n",
    "sns.heatmap(cm_train_rf, annot=True,fmt='g')\n",
    "plt.xlabel('Predicted values')\n",
    "plt.ylabel('True values')\n",
    "plt.title('Random Forest (training set) - accuracy '+str(round(accuracy_score(y_train,rf.predict(X_train_scaled)),3)))\n",
    "\n",
    "plt.subplot(224)\n",
    "sns.heatmap(cm_test_rf, annot=True,fmt='g')\n",
    "plt.xlabel('Predicted values')\n",
    "plt.ylabel('True values')\n",
    "plt.title('Random Forest (test set) - accuracy '+str(round(accuracy_score(y_test,rf.predict(X_test_scaled)),3)))"
   ]
  },
  {
   "cell_type": "markdown",
   "metadata": {},
   "source": [
    "The model trained on just the auxiliary features also seems to do very well. It may be that we can combine the text/extra feature models to predict a final output that is more accurate (i.e. if one model picks up on fake news cases that the other hasn't detected  as well)."
   ]
  },
  {
   "cell_type": "markdown",
   "metadata": {},
   "source": [
    "#### Train both types of models"
   ]
  },
  {
   "cell_type": "code",
   "execution_count": 115,
   "metadata": {},
   "outputs": [
    {
     "data": {
      "text/plain": [
       "RandomForestClassifier()"
      ]
     },
     "execution_count": 115,
     "metadata": {},
     "output_type": "execute_result"
    }
   ],
   "source": [
    "X = news_data[['news_clean','titlelength','textlength','title_excl','text_excl','title_incaps','VideoStoryOrLink']]\n",
    "y = news_data['IsFake']\n",
    "\n",
    "X_train, X_test, y_train, y_test = train_test_split(X, y,test_size=0.2,random_state=101)\n",
    "\n",
    "#-----------Train model on text-------------------------------------------------------\n",
    "X_train_text=X_train['news_clean']\n",
    "X_test_text=X_test['news_clean']\n",
    "\n",
    "tfidf_vect = TfidfVectorizer()\n",
    "X_train_vect = tfidf_vect.fit_transform(X_train_text)\n",
    "X_test_vect=tfidf_vect.transform(X_test_text)\n",
    "\n",
    "\n",
    "rf_text=RandomForestClassifier()\n",
    "rf_text.fit(X_train_vect,y_train)\n",
    "\n",
    "#-----------Train model on extra features-------------------------------------------------------\n",
    "\n",
    "X_train_extra=X_train.drop('news_clean',axis=1)\n",
    "X_test_extra=X_test.drop('news_clean',axis=1)\n",
    "\n",
    "scaler = StandardScaler()\n",
    "X_train_scaled = pd.DataFrame(scaler.fit_transform(X_train_extra.values),columns=X_train_extra.columns)\n",
    "X_test_scaled = pd.DataFrame(scaler.transform(X_test_extra.values),columns=X_test_extra.columns)\n",
    "\n",
    "\n",
    "rf_extra=RandomForestClassifier()\n",
    "rf_extra.fit(X_train_scaled,y_train)"
   ]
  },
  {
   "cell_type": "markdown",
   "metadata": {},
   "source": [
    "To combine the models we'll look at the raw predicted probabilities they generate, and try to set thresholds based on both of these for when an article should be flagged as fake news. For instance - if the text model gives a 50-60% likelihood of being fake whilst the extra features model says 20-30%, is this article more likely to be real?"
   ]
  },
  {
   "cell_type": "markdown",
   "metadata": {},
   "source": [
    "The function below will 'floor' the probability score down to 1 decimal place (creating aggregated score bands i.e 0-0.1, 0.1-0.2 etc)"
   ]
  },
  {
   "cell_type": "code",
   "execution_count": 135,
   "metadata": {},
   "outputs": [
    {
     "data": {
      "text/plain": [
       "0.6"
      ]
     },
     "execution_count": 135,
     "metadata": {},
     "output_type": "execute_result"
    }
   ],
   "source": [
    "test=0.6993\n",
    "\n",
    "def decimal(x):\n",
    "    return math.floor(x*10) / 10\n",
    "\n",
    "decimal(test)"
   ]
  },
  {
   "cell_type": "code",
   "execution_count": 136,
   "metadata": {},
   "outputs": [],
   "source": [
    "train_scores=pd.DataFrame({\"TextScore\" : rf_text.predict_proba(X_train_vect)[:, 1] ,\n",
    "                           \"ExtraScore\": rf_extra.predict_proba(X_train_scaled)[:, 1],\n",
    "                           \"IsFake\": y_train})\n",
    "test_scores=pd.DataFrame({\"TextScore\" : rf_text.predict_proba(X_test_vect)[:, 1] ,\n",
    "                           \"ExtraScore\": rf_extra.predict_proba(X_test_scaled)[:, 1],\n",
    "                           \"IsFake\": y_test})\n",
    "\n",
    "train_scores['TextScore_group']=train_scores['TextScore'].apply(lambda x: decimal(x))\n",
    "train_scores['ExtraScore_group']=train_scores['ExtraScore'].apply(lambda x: decimal(x))\n",
    "test_scores['TextScore_group']=test_scores['TextScore'].apply(lambda x: decimal(x))\n",
    "test_scores['ExtraScore_group']=test_scores['ExtraScore'].apply(lambda x: decimal(x))\n",
    "\n",
    "\n",
    "train_predict=pd.DataFrame({\"TextPred\" : rf_text.predict(X_train_vect),\n",
    "                           \"ExtraPred\": rf_extra.predict(X_train_scaled),\n",
    "                           \"IsFake\": y_train})\n",
    "test_predict=pd.DataFrame({\"TextPred\" : rf_text.predict(X_test_vect),\n",
    "                           \"ExtraPred\": rf_extra.predict(X_test_scaled),\n",
    "                           \"IsFake\": y_test})\n"
   ]
  },
  {
   "cell_type": "markdown",
   "metadata": {},
   "source": [
    "Compare the banded predicted probabilities from each model, and what percentage in each segment is actually fake news."
   ]
  },
  {
   "cell_type": "code",
   "execution_count": 147,
   "metadata": {},
   "outputs": [
    {
     "data": {
      "text/plain": [
       "<matplotlib.axes._subplots.AxesSubplot at 0x11843f04e08>"
      ]
     },
     "execution_count": 147,
     "metadata": {},
     "output_type": "execute_result"
    },
    {
     "data": {
      "image/png": "[encoded data removed]",
      "text/plain": [
       "<Figure size 576x432 with 2 Axes>"
      ]
     },
     "metadata": {
      "needs_background": "light"
     },
     "output_type": "display_data"
    }
   ],
   "source": [
    "comparemodeltest=test_scores.groupby(['TextScore_group','ExtraScore_group']).mean()[['IsFake']].reset_index()\n",
    "comparemodeltest=comparemodeltest.pivot(index='ExtraScore_group',columns='TextScore_group',values='IsFake')\n",
    "\n",
    "plt.figure(figsize=(8, 6))\n",
    "sns.heatmap(comparemodeltest, cmap='coolwarm_r', annot=True, annot_kws={'size':10})"
   ]
  },
  {
   "cell_type": "markdown",
   "metadata": {},
   "source": [
    "As we saw earlier the text model is the more accurate of the two models, and splits most of the articles correctly into real/fake news.\n",
    "\n",
    "However there are subpopulations where either:\n",
    "- The text model gives a weak prediction of the article being fake, whereas the extra features model gives a stronger prediction that it is genuine. \n",
    "- The text model gives a weak prediction of the article being genuine, whereas the extra features model gives a stronger prediction that it is fake. \n",
    "\n",
    "It seems for some of these segments the extra features model is more often accurate than the text model. \n",
    "\n",
    "For instance we observe the following:\n",
    "- When the text model predicts a 50-60% probability of the article being fake, but the extra features model score is 0-20% the article is **genuine** news the majority of the time.\n",
    "- When the text model predicts a 40-50% probability of the article being fake (50-60% probability of being genuine), but the extra features model score is >80% the article is **fake** news the majority of the time.\n",
    "- When the text model predicts a 30-40% probability of the article being fake (60-70% probability of being genuine), but the extra features model score is >90% the article is **fake** news the majority of the time.\n",
    "- When the text model predicts a 20-30% probability of the article being fake (70-80% probability of being genuine), but the extra features model score is 1 the article is **fake** news the majority of the time.\n",
    "\n",
    "We will encode these thresholds based on the model scores in the function below to see if it improves performance."
   ]
  },
  {
   "cell_type": "code",
   "execution_count": 157,
   "metadata": {},
   "outputs": [],
   "source": [
    "def finalpredict(scoretext,scoreextra):\n",
    "    if scoretext>=0.6:\n",
    "        finalpred=1\n",
    "    elif scoretext>=0.5:\n",
    "        if scoreextra>=0.2:\n",
    "            finalpred=1\n",
    "        else:\n",
    "            finalpred=0\n",
    "    elif scoretext>=0.4:\n",
    "        if scoreextra>=0.8:\n",
    "            finalpred=1\n",
    "        else:\n",
    "            finalpred=0\n",
    "    elif scoretext>=0.3:\n",
    "        if scoreextra>=0.9:\n",
    "            finalpred=1\n",
    "        else:\n",
    "            finalpred=0\n",
    "    elif scoretext>=0.2:\n",
    "        if scoreextra==1.0:\n",
    "            finalpred=1\n",
    "        else:\n",
    "            finalpred=0\n",
    "    else:\n",
    "        finalpred=0\n",
    "    return finalpred"
   ]
  },
  {
   "cell_type": "code",
   "execution_count": 158,
   "metadata": {},
   "outputs": [
    {
     "data": {
      "text/plain": [
       "Text(0.5, 1, 'Random Forest (test set) - accuracy 0.988')"
      ]
     },
     "execution_count": 158,
     "metadata": {},
     "output_type": "execute_result"
    },
    {
     "data": {
      "image/png": "[encoded data removed]",
      "text/plain": [
       "<Figure size 1080x432 with 4 Axes>"
      ]
     },
     "metadata": {
      "needs_background": "light"
     },
     "output_type": "display_data"
    }
   ],
   "source": [
    "X = news_data[['news_clean','titlelength','textlength','title_excl','text_excl','title_incaps','VideoStoryOrLink']]\n",
    "y = news_data['IsFake']\n",
    "\n",
    "X_train, X_test, y_train, y_test = train_test_split(X, y,test_size=0.2)\n",
    "\n",
    "#-----------Train model on text-------------------------------------------------------\n",
    "X_train_text=X_train['news_clean']\n",
    "X_test_text=X_test['news_clean']\n",
    "\n",
    "tfidf_vect = TfidfVectorizer()\n",
    "X_train_vect = tfidf_vect.fit_transform(X_train_text)\n",
    "X_test_vect=tfidf_vect.transform(X_test_text)\n",
    "\n",
    "\n",
    "rf_text=RandomForestClassifier()\n",
    "rf_text.fit(X_train_vect,y_train)\n",
    "\n",
    "#-----------Train model on extra features-------------------------------------------------------\n",
    "\n",
    "X_train_extra=X_train.drop('news_clean',axis=1)\n",
    "X_test_extra=X_test.drop('news_clean',axis=1)\n",
    "\n",
    "scaler = StandardScaler()\n",
    "X_train_scaled = pd.DataFrame(scaler.fit_transform(X_train_extra.values),columns=X_train_extra.columns)\n",
    "X_test_scaled = pd.DataFrame(scaler.transform(X_test_extra.values),columns=X_test_extra.columns)\n",
    "\n",
    "\n",
    "rf_extra=RandomForestClassifier()\n",
    "rf_extra.fit(X_train_scaled,y_train)\n",
    "\n",
    "\n",
    "#---------------Combine scores------------------------------------\n",
    "\n",
    "train_scores=pd.DataFrame({\"TextScore\" : rf_text.predict_proba(X_train_vect)[:, 1] ,\n",
    "                           \"ExtraScore\": rf_extra.predict_proba(X_train_scaled)[:, 1]})\n",
    "test_scores=pd.DataFrame({\"TextScore\" : rf_text.predict_proba(X_test_vect)[:, 1] ,\n",
    "                           \"ExtraScore\": rf_extra.predict_proba(X_test_scaled)[:, 1]})\n",
    "\n",
    "train_scores['FinalPred'] = train_scores.apply(lambda x: finalpredict(x['TextScore'],x['ExtraScore']),axis=1)\n",
    "test_scores['FinalPred'] = test_scores.apply(lambda x: finalpredict(x['TextScore'],x['ExtraScore']),axis=1)\n",
    "\n",
    "\n",
    "cm_train = confusion_matrix(y_train, train_scores['FinalPred'] , labels=[0, 1])\n",
    "cm_test = confusion_matrix(y_test, test_scores['FinalPred'] , labels=[0, 1])\n",
    "\n",
    "\n",
    "#---------------Results------------------------------------\n",
    "\n",
    "plt.figure(figsize=(15,6))\n",
    "\n",
    "\n",
    "plt.subplot(121)\n",
    "sns.heatmap(cm_train, annot=True,fmt='g')\n",
    "plt.xlabel('Predicted values')\n",
    "plt.ylabel('True values')\n",
    "plt.title('Random Forest (training set) - accuracy '+str(round(accuracy_score(y_train,train_scores['FinalPred']),3)))\n",
    "\n",
    "plt.subplot(122)\n",
    "sns.heatmap(cm_test, annot=True,fmt='g')\n",
    "plt.xlabel('Predicted values')\n",
    "plt.ylabel('True values')\n",
    "plt.title('Random Forest (test set) - accuracy '+str(round(accuracy_score(y_test,test_scores['FinalPred']),3)))"
   ]
  },
  {
   "cell_type": "markdown",
   "metadata": {},
   "source": [
    "We have added incremental value by being able to improve the accuracy by 2.4%! Our combined model now has an accuracy of 98.8% which is a significant improvement."
   ]
  }
 ],
 "metadata": {
  "kernelspec": {
   "display_name": "Python 3",
   "language": "python",
   "name": "python3"
  },
  "language_info": {
   "codemirror_mode": {
    "name": "ipython",
    "version": 3
   },
   "file_extension": ".py",
   "mimetype": "text/x-python",
   "name": "python",
   "nbconvert_exporter": "python",
   "pygments_lexer": "ipython3",
   "version": "3.7.6"
  }
 },
 "nbformat": 4,
 "nbformat_minor": 1
}
